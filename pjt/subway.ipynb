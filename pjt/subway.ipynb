{
 "cells": [
  {
   "cell_type": "code",
   "execution_count": 23,
   "id": "84a83f37",
   "metadata": {
    "collapsed": true
   },
   "outputs": [
    {
     "name": "stdout",
     "output_type": "stream",
     "text": [
      "Collecting geopandas\n",
      "  Downloading geopandas-0.14.1-py3-none-any.whl (1.1 MB)\n",
      "     ---------------------------------------- 1.1/1.1 MB 17.4 MB/s eta 0:00:00\n",
      "Requirement already satisfied: pandas>=1.4.0 in c:\\users\\sjhty\\anaconda3\\lib\\site-packages (from geopandas) (1.4.4)\n",
      "Collecting pyproj>=3.3.0\n",
      "  Downloading pyproj-3.6.1-cp39-cp39-win_amd64.whl (6.1 MB)\n",
      "     ---------------------------------------- 6.1/6.1 MB 48.6 MB/s eta 0:00:00\n",
      "Collecting shapely>=1.8.0\n",
      "  Downloading shapely-2.0.2-cp39-cp39-win_amd64.whl (1.4 MB)\n",
      "     ---------------------------------------- 1.4/1.4 MB 30.4 MB/s eta 0:00:00\n",
      "Collecting fiona>=1.8.21\n",
      "  Downloading fiona-1.9.5-cp39-cp39-win_amd64.whl (22.9 MB)\n",
      "     --------------------------------------- 22.9/22.9 MB 36.4 MB/s eta 0:00:00\n",
      "Requirement already satisfied: packaging in c:\\users\\sjhty\\anaconda3\\lib\\site-packages (from geopandas) (21.3)\n",
      "Requirement already satisfied: attrs>=19.2.0 in c:\\users\\sjhty\\anaconda3\\lib\\site-packages (from fiona>=1.8.21->geopandas) (23.1.0)\n",
      "Collecting click-plugins>=1.0\n",
      "  Downloading click_plugins-1.1.1-py2.py3-none-any.whl (7.5 kB)\n",
      "Requirement already satisfied: setuptools in c:\\users\\sjhty\\anaconda3\\lib\\site-packages (from fiona>=1.8.21->geopandas) (63.4.1)\n",
      "Requirement already satisfied: importlib-metadata in c:\\users\\sjhty\\anaconda3\\lib\\site-packages (from fiona>=1.8.21->geopandas) (4.11.3)\n",
      "Collecting cligj>=0.5\n",
      "  Downloading cligj-0.7.2-py3-none-any.whl (7.1 kB)\n",
      "Requirement already satisfied: six in c:\\users\\sjhty\\anaconda3\\lib\\site-packages (from fiona>=1.8.21->geopandas) (1.16.0)\n",
      "Requirement already satisfied: click~=8.0 in c:\\users\\sjhty\\anaconda3\\lib\\site-packages (from fiona>=1.8.21->geopandas) (8.1.7)\n",
      "Requirement already satisfied: certifi in c:\\users\\sjhty\\anaconda3\\lib\\site-packages (from fiona>=1.8.21->geopandas) (2022.9.14)\n",
      "Requirement already satisfied: pytz>=2020.1 in c:\\users\\sjhty\\anaconda3\\lib\\site-packages (from pandas>=1.4.0->geopandas) (2022.1)\n",
      "Requirement already satisfied: python-dateutil>=2.8.1 in c:\\users\\sjhty\\anaconda3\\lib\\site-packages (from pandas>=1.4.0->geopandas) (2.8.2)\n",
      "Requirement already satisfied: numpy>=1.18.5 in c:\\users\\sjhty\\anaconda3\\lib\\site-packages (from pandas>=1.4.0->geopandas) (1.23.5)\n",
      "Requirement already satisfied: pyparsing!=3.0.5,>=2.0.2 in c:\\users\\sjhty\\anaconda3\\lib\\site-packages (from packaging->geopandas) (3.0.9)\n",
      "Requirement already satisfied: colorama in c:\\users\\sjhty\\anaconda3\\lib\\site-packages (from click~=8.0->fiona>=1.8.21->geopandas) (0.4.5)\n",
      "Requirement already satisfied: zipp>=0.5 in c:\\users\\sjhty\\anaconda3\\lib\\site-packages (from importlib-metadata->fiona>=1.8.21->geopandas) (3.8.0)\n",
      "Installing collected packages: shapely, pyproj, cligj, click-plugins, fiona, geopandas\n",
      "Successfully installed click-plugins-1.1.1 cligj-0.7.2 fiona-1.9.5 geopandas-0.14.1 pyproj-3.6.1 shapely-2.0.2\n"
     ]
    }
   ],
   "source": [
    "!pip install geopandas"
   ]
  },
  {
   "cell_type": "code",
   "execution_count": 973,
   "id": "70526569",
   "metadata": {},
   "outputs": [],
   "source": [
    "import pandas as pd\n",
    "import re\n",
    "import json\n",
    "import requests\n",
    "import folium\n",
    "from folium.plugins import HeatMap, HeatMapWithTime\n",
    "from geopandas import gpd\n",
    "from folium import Circle\n",
    "from sklearn.preprocessing import StandardScaler\n",
    "import numpy as np\n",
    "import matplotlib.pyplot as plt"
   ]
  },
  {
   "cell_type": "code",
   "execution_count": 298,
   "id": "25d806ca",
   "metadata": {},
   "outputs": [],
   "source": [
    "data_20_23 = pd.read_csv('C:/Users/sjhty/Downloads/monthly_passengers_20_23.csv')\n",
    "data_10_16 = pd.read_csv('C:/Users/sjhty/Downloads/monthly_passengers_10_16.csv')\n",
    "data_2017 = pd.read_excel('C:/Users/sjhty/Downloads/서울교통공사 2017년 일별 역별 시간대별 승하차인원(1_8호선).xlsx', header=1)\n",
    "data_2018 = pd.read_excel('C:/Users/sjhty/Downloads/서울교통공사 2018년 일별 역별 시간대별 승하차인원(1_8호선).xlsx', header=1)\n",
    "data_2019 = pd.read_excel('C:/Users/sjhty/Downloads/서울교통공사 2019년 일별 역별 시간대별 승하차인원(1_8호선).xlsx', header=1)"
   ]
  },
  {
   "cell_type": "code",
   "execution_count": 299,
   "id": "d630f666",
   "metadata": {},
   "outputs": [],
   "source": [
    "data_2019['날짜'] = data_2019['날짜'].apply(lambda n:n.strftime('%Y-%m'))\n",
    "data_2019 = data_2019[['역명', '날짜', '합 계']].groupby(['역명', '날짜']).sum().reset_index()\n",
    "data_2018['날짜'] = data_2018['날짜'].apply(lambda n:n.strftime('%Y-%m'))\n",
    "data_2018 = data_2018[['역명', '날짜', '합 계']].groupby(['역명', '날짜']).sum().reset_index()\n",
    "data_2017['날짜'] = data_2017['날짜'].apply(lambda n:pd.to_datetime(n).strftime('%Y-%m'))\n",
    "data_2017 = data_2017[['역명', '날짜', '합 계']].groupby(['역명', '날짜']).sum().reset_index()\n",
    "\n",
    "data_17_19 = pd.concat([data_2017, data_2018, data_2019], axis=0)\n",
    "data_17_19.columns = ['역명', '연월', '총 승하차 인원']"
   ]
  },
  {
   "cell_type": "code",
   "execution_count": 300,
   "id": "b4f15c48",
   "metadata": {},
   "outputs": [],
   "source": [
    "data_10_16['역명'] = data_10_16['역명'].apply(lambda n:n.split('(')[0])\n",
    "data_17_19['역명'] = data_17_19['역명'].apply(lambda n:n.split('(')[0])\n",
    "data_20_23['역명'] = data_20_23['역명'].apply(lambda n:n.split('(')[0])"
   ]
  },
  {
   "cell_type": "code",
   "execution_count": 301,
   "id": "c4534f8e",
   "metadata": {},
   "outputs": [],
   "source": [
    "data_10_23 = pd.concat([data_10_16, data_17_19, data_20_23], axis=0)"
   ]
  },
  {
   "cell_type": "code",
   "execution_count": 302,
   "id": "d7cb71a1",
   "metadata": {},
   "outputs": [],
   "source": [
    "data_10_23['역명'] = data_10_23['역명'].apply(lambda n:re.sub('동대문역사문화공원5', '동대문역사문화공원', n))\n",
    "data_10_23['역명'] = data_10_23['역명'].apply(lambda n:re.sub('미아삼거리', '미아사거리', n))\n"
   ]
  },
  {
   "cell_type": "markdown",
   "id": "24cd9df4",
   "metadata": {},
   "source": [
    "## 지하철 위도, 경도 정보 가져오기"
   ]
  },
  {
   "cell_type": "code",
   "execution_count": 234,
   "id": "f1c9ecb6",
   "metadata": {},
   "outputs": [],
   "source": [
    "auth_key = '70e4b8cf-72cf-48fd-ad64-5230451fa045'\n",
    "url = 'http://t-data.seoul.go.kr/apig/apiman-gateway/tapi/TaimsKsccDvSubwayStationGeom/1.0'\n",
    "\n",
    "params = {\n",
    "    'apikey': auth_key,\n",
    "    'startRow': '1',\n",
    "    'rowCnt': '1000'\n",
    "}\n",
    "\n",
    "response = requests.get(url, params=params)\n",
    "data = response.json()"
   ]
  },
  {
   "cell_type": "markdown",
   "id": "a7aeecb0",
   "metadata": {},
   "source": [
    "#### 같은 역 이름으로 호선이 다른 경우 좌표가 두 개 생김, 향후 사용한다면 해당 부분 수정 필요"
   ]
  },
  {
   "cell_type": "code",
   "execution_count": 305,
   "id": "f3f256da",
   "metadata": {},
   "outputs": [],
   "source": [
    "name = []\n",
    "longitude = []\n",
    "latitude = []\n",
    "\n",
    "for i in data:\n",
    "    name.append(i['stnKrNm'])\n",
    "    longitude.append(i['convX'])\n",
    "    latitude.append(i['convY'])\n",
    "    \n",
    "sb_location = pd.DataFrame(\n",
    "    {'name':name,\n",
    "    'longitude':longitude,\n",
    "    'latitude':latitude}\n",
    ")"
   ]
  },
  {
   "cell_type": "markdown",
   "id": "558fa8d7",
   "metadata": {},
   "source": [
    "### 지하철 유동인구에 따른 가게들의 오픈, 폐업, 현재 엽엉중을 살펴보자"
   ]
  },
  {
   "cell_type": "code",
   "execution_count": 318,
   "id": "34db2f48",
   "metadata": {},
   "outputs": [],
   "source": [
    "sb_location['name'] = sb_location['name'].apply(lambda n:n.split('(')[0])\n",
    "sb_location.drop_duplicates(subset=['name'], keep='first', inplace=True)\n",
    "sb_data_lc = pd.merge(data_10_23, sb_location, how='left', left_on='역명', right_on='name').drop(['name'], axis=1)"
   ]
  },
  {
   "cell_type": "markdown",
   "id": "ff153440",
   "metadata": {},
   "source": [
    "```sql\n",
    "SELECT date\n",
    "  , ARRAY_AGG(name) AS name\n",
    "  , ARRAY_AGG(longitude) AS longitude\n",
    "  , ARRAY_AGG(latitude) AS latitude\n",
    "FROM `temp.sb_data`\n",
    "GROUP BY date\n",
    "```"
   ]
  },
  {
   "cell_type": "code",
   "execution_count": 155,
   "id": "365a9731",
   "metadata": {},
   "outputs": [],
   "source": [
    "st_data_lc = pd.read_csv('sb_data_1차.csv')"
   ]
  },
  {
   "cell_type": "code",
   "execution_count": 182,
   "id": "bff266d8",
   "metadata": {},
   "outputs": [],
   "source": [
    "df = pd.read_csv('C:/Users/sjhty/Desktop/SHoon/gcp/pjt/store_keyword.csv')"
   ]
  },
  {
   "cell_type": "code",
   "execution_count": 184,
   "id": "356ee4d3",
   "metadata": {},
   "outputs": [],
   "source": [
    "df['store_name'] = df['store_name'].apply(lambda n: n.strip('[]').split(',') if n != '[,]' and n != '[]' else None)\n",
    "df['total_location'] = df['total_location'].apply(lambda n: n.strip('[]').split(',') if n != '[,]' and n != '[]' else None)\n",
    "df['normal_location'] = df['normal_location'].apply(lambda n: n.strip('[]').split(',') if n != '[,]' and n != '[]' else None)\n",
    "df['close_location'] = df['close_location'].apply(lambda n: n.strip('[]').split(',') if n != '[,]' and n != '[]' else None)\n",
    "df['open_date'] = df['open_date'].apply(lambda n: n.strip('[]').split(',') if n != '[,]' and n != '[]' else None)\n",
    "df['close_date'] = df['close_date'].apply(lambda n: n.strip('[]').split(',') if n != '[,]' and n != '[]' else None)"
   ]
  },
  {
   "cell_type": "code",
   "execution_count": null,
   "id": "df9a9527",
   "metadata": {},
   "outputs": [],
   "source": []
  },
  {
   "cell_type": "code",
   "execution_count": 183,
   "id": "17705fa5",
   "metadata": {
    "collapsed": true
   },
   "outputs": [
    {
     "ename": "AttributeError",
     "evalue": "'list' object has no attribute 'strip'",
     "output_type": "error",
     "traceback": [
      "\u001b[1;31m---------------------------------------------------------------------------\u001b[0m",
      "\u001b[1;31mAttributeError\u001b[0m                            Traceback (most recent call last)",
      "\u001b[1;32m~\\AppData\\Local\\Temp\\ipykernel_8132\\503905529.py\u001b[0m in \u001b[0;36m<module>\u001b[1;34m\u001b[0m\n\u001b[1;32m----> 1\u001b[1;33m \u001b[0mst_data_lc\u001b[0m\u001b[1;33m[\u001b[0m\u001b[1;34m'name'\u001b[0m\u001b[1;33m]\u001b[0m \u001b[1;33m=\u001b[0m \u001b[0mst_data_lc\u001b[0m\u001b[1;33m[\u001b[0m\u001b[1;34m'name'\u001b[0m\u001b[1;33m]\u001b[0m\u001b[1;33m.\u001b[0m\u001b[0mapply\u001b[0m\u001b[1;33m(\u001b[0m\u001b[1;32mlambda\u001b[0m \u001b[0mn\u001b[0m\u001b[1;33m:\u001b[0m \u001b[0mn\u001b[0m\u001b[1;33m.\u001b[0m\u001b[0mstrip\u001b[0m\u001b[1;33m(\u001b[0m\u001b[1;34m'[]'\u001b[0m\u001b[1;33m)\u001b[0m\u001b[1;33m.\u001b[0m\u001b[0msplit\u001b[0m\u001b[1;33m(\u001b[0m\u001b[1;34m','\u001b[0m\u001b[1;33m)\u001b[0m \u001b[1;32mif\u001b[0m \u001b[0mn\u001b[0m \u001b[1;33m!=\u001b[0m \u001b[1;34m'[,]'\u001b[0m \u001b[1;32mand\u001b[0m \u001b[0mn\u001b[0m \u001b[1;33m!=\u001b[0m \u001b[1;34m'[]'\u001b[0m \u001b[1;32melse\u001b[0m \u001b[1;32mNone\u001b[0m\u001b[1;33m)\u001b[0m\u001b[1;33m\u001b[0m\u001b[1;33m\u001b[0m\u001b[0m\n\u001b[0m\u001b[0;32m      2\u001b[0m \u001b[0mst_data_lc\u001b[0m\u001b[1;33m[\u001b[0m\u001b[1;34m'longitude'\u001b[0m\u001b[1;33m]\u001b[0m \u001b[1;33m=\u001b[0m \u001b[0mst_data_lc\u001b[0m\u001b[1;33m[\u001b[0m\u001b[1;34m'longitude'\u001b[0m\u001b[1;33m]\u001b[0m\u001b[1;33m.\u001b[0m\u001b[0mapply\u001b[0m\u001b[1;33m(\u001b[0m\u001b[1;32mlambda\u001b[0m \u001b[0mn\u001b[0m\u001b[1;33m:\u001b[0m \u001b[1;33m[\u001b[0m\u001b[0mfloat\u001b[0m\u001b[1;33m(\u001b[0m\u001b[0mi\u001b[0m\u001b[1;33m)\u001b[0m \u001b[1;32mfor\u001b[0m \u001b[0mi\u001b[0m \u001b[1;32min\u001b[0m \u001b[0mn\u001b[0m\u001b[1;33m.\u001b[0m\u001b[0mstrip\u001b[0m\u001b[1;33m(\u001b[0m\u001b[1;34m'[]'\u001b[0m\u001b[1;33m)\u001b[0m\u001b[1;33m.\u001b[0m\u001b[0msplit\u001b[0m\u001b[1;33m(\u001b[0m\u001b[1;34m','\u001b[0m\u001b[1;33m)\u001b[0m \u001b[1;32mif\u001b[0m \u001b[0mn\u001b[0m \u001b[1;32mnot\u001b[0m \u001b[1;32min\u001b[0m \u001b[1;33m[\u001b[0m\u001b[1;34m'[],'\u001b[0m\u001b[1;33m,\u001b[0m \u001b[1;34m'[]'\u001b[0m\u001b[1;33m]\u001b[0m\u001b[1;33m]\u001b[0m\u001b[1;33m)\u001b[0m\u001b[1;33m\u001b[0m\u001b[1;33m\u001b[0m\u001b[0m\n\u001b[0;32m      3\u001b[0m \u001b[0mst_data_lc\u001b[0m\u001b[1;33m[\u001b[0m\u001b[1;34m'latitude'\u001b[0m\u001b[1;33m]\u001b[0m \u001b[1;33m=\u001b[0m \u001b[0mst_data_lc\u001b[0m\u001b[1;33m[\u001b[0m\u001b[1;34m'latitude'\u001b[0m\u001b[1;33m]\u001b[0m\u001b[1;33m.\u001b[0m\u001b[0mapply\u001b[0m\u001b[1;33m(\u001b[0m\u001b[1;32mlambda\u001b[0m \u001b[0mn\u001b[0m\u001b[1;33m:\u001b[0m \u001b[1;33m[\u001b[0m\u001b[0mfloat\u001b[0m\u001b[1;33m(\u001b[0m\u001b[0mi\u001b[0m\u001b[1;33m)\u001b[0m \u001b[1;32mfor\u001b[0m \u001b[0mi\u001b[0m \u001b[1;32min\u001b[0m \u001b[0mn\u001b[0m\u001b[1;33m.\u001b[0m\u001b[0mstrip\u001b[0m\u001b[1;33m(\u001b[0m\u001b[1;34m'[]'\u001b[0m\u001b[1;33m)\u001b[0m\u001b[1;33m.\u001b[0m\u001b[0msplit\u001b[0m\u001b[1;33m(\u001b[0m\u001b[1;34m','\u001b[0m\u001b[1;33m)\u001b[0m \u001b[1;32mif\u001b[0m \u001b[0mn\u001b[0m \u001b[1;32mnot\u001b[0m \u001b[1;32min\u001b[0m \u001b[1;33m[\u001b[0m\u001b[1;34m'[],'\u001b[0m\u001b[1;33m,\u001b[0m \u001b[1;34m'[]'\u001b[0m\u001b[1;33m]\u001b[0m\u001b[1;33m]\u001b[0m\u001b[1;33m)\u001b[0m\u001b[1;33m\u001b[0m\u001b[1;33m\u001b[0m\u001b[0m\n\u001b[0;32m      4\u001b[0m \u001b[0mst_data_lc\u001b[0m\u001b[1;33m[\u001b[0m\u001b[1;34m'population'\u001b[0m\u001b[1;33m]\u001b[0m \u001b[1;33m=\u001b[0m \u001b[0mst_data_lc\u001b[0m\u001b[1;33m[\u001b[0m\u001b[1;34m'population'\u001b[0m\u001b[1;33m]\u001b[0m\u001b[1;33m.\u001b[0m\u001b[0mapply\u001b[0m\u001b[1;33m(\u001b[0m\u001b[1;32mlambda\u001b[0m \u001b[0mn\u001b[0m\u001b[1;33m:\u001b[0m \u001b[1;33m[\u001b[0m\u001b[0mfloat\u001b[0m\u001b[1;33m(\u001b[0m\u001b[0mi\u001b[0m\u001b[1;33m)\u001b[0m \u001b[1;32mfor\u001b[0m \u001b[0mi\u001b[0m \u001b[1;32min\u001b[0m \u001b[0mn\u001b[0m\u001b[1;33m.\u001b[0m\u001b[0mstrip\u001b[0m\u001b[1;33m(\u001b[0m\u001b[1;34m'[]'\u001b[0m\u001b[1;33m)\u001b[0m\u001b[1;33m.\u001b[0m\u001b[0msplit\u001b[0m\u001b[1;33m(\u001b[0m\u001b[1;34m','\u001b[0m\u001b[1;33m)\u001b[0m \u001b[1;32mif\u001b[0m \u001b[0mn\u001b[0m \u001b[1;32mnot\u001b[0m \u001b[1;32min\u001b[0m \u001b[1;33m[\u001b[0m\u001b[1;34m'[],'\u001b[0m\u001b[1;33m,\u001b[0m \u001b[1;34m'[]'\u001b[0m\u001b[1;33m]\u001b[0m\u001b[1;33m]\u001b[0m\u001b[1;33m)\u001b[0m\u001b[1;33m\u001b[0m\u001b[1;33m\u001b[0m\u001b[0m\n\u001b[0;32m      5\u001b[0m \u001b[0mst_data_lc\u001b[0m\u001b[1;33m[\u001b[0m\u001b[1;34m'normalized_population'\u001b[0m\u001b[1;33m]\u001b[0m \u001b[1;33m=\u001b[0m \u001b[0mst_data_lc\u001b[0m\u001b[1;33m[\u001b[0m\u001b[1;34m'normalized_population'\u001b[0m\u001b[1;33m]\u001b[0m\u001b[1;33m.\u001b[0m\u001b[0mapply\u001b[0m\u001b[1;33m(\u001b[0m\u001b[1;32mlambda\u001b[0m \u001b[0mn\u001b[0m\u001b[1;33m:\u001b[0m \u001b[1;33m[\u001b[0m\u001b[0mfloat\u001b[0m\u001b[1;33m(\u001b[0m\u001b[0mi\u001b[0m\u001b[1;33m)\u001b[0m \u001b[1;32mfor\u001b[0m \u001b[0mi\u001b[0m \u001b[1;32min\u001b[0m \u001b[0mn\u001b[0m\u001b[1;33m.\u001b[0m\u001b[0mstrip\u001b[0m\u001b[1;33m(\u001b[0m\u001b[1;34m'[]'\u001b[0m\u001b[1;33m)\u001b[0m\u001b[1;33m.\u001b[0m\u001b[0msplit\u001b[0m\u001b[1;33m(\u001b[0m\u001b[1;34m','\u001b[0m\u001b[1;33m)\u001b[0m \u001b[1;32mif\u001b[0m \u001b[0mn\u001b[0m \u001b[1;32mnot\u001b[0m \u001b[1;32min\u001b[0m \u001b[1;33m[\u001b[0m\u001b[1;34m'[],'\u001b[0m\u001b[1;33m,\u001b[0m \u001b[1;34m'[]'\u001b[0m\u001b[1;33m]\u001b[0m\u001b[1;33m]\u001b[0m\u001b[1;33m)\u001b[0m\u001b[1;33m\u001b[0m\u001b[1;33m\u001b[0m\u001b[0m\n",
      "\u001b[1;32m~\\anaconda3\\lib\\site-packages\\pandas\\core\\series.py\u001b[0m in \u001b[0;36mapply\u001b[1;34m(self, func, convert_dtype, args, **kwargs)\u001b[0m\n\u001b[0;32m   4431\u001b[0m         \u001b[0mdtype\u001b[0m\u001b[1;33m:\u001b[0m \u001b[0mfloat64\u001b[0m\u001b[1;33m\u001b[0m\u001b[1;33m\u001b[0m\u001b[0m\n\u001b[0;32m   4432\u001b[0m         \"\"\"\n\u001b[1;32m-> 4433\u001b[1;33m         \u001b[1;32mreturn\u001b[0m \u001b[0mSeriesApply\u001b[0m\u001b[1;33m(\u001b[0m\u001b[0mself\u001b[0m\u001b[1;33m,\u001b[0m \u001b[0mfunc\u001b[0m\u001b[1;33m,\u001b[0m \u001b[0mconvert_dtype\u001b[0m\u001b[1;33m,\u001b[0m \u001b[0margs\u001b[0m\u001b[1;33m,\u001b[0m \u001b[0mkwargs\u001b[0m\u001b[1;33m)\u001b[0m\u001b[1;33m.\u001b[0m\u001b[0mapply\u001b[0m\u001b[1;33m(\u001b[0m\u001b[1;33m)\u001b[0m\u001b[1;33m\u001b[0m\u001b[1;33m\u001b[0m\u001b[0m\n\u001b[0m\u001b[0;32m   4434\u001b[0m \u001b[1;33m\u001b[0m\u001b[0m\n\u001b[0;32m   4435\u001b[0m     def _reduce(\n",
      "\u001b[1;32m~\\anaconda3\\lib\\site-packages\\pandas\\core\\apply.py\u001b[0m in \u001b[0;36mapply\u001b[1;34m(self)\u001b[0m\n\u001b[0;32m   1086\u001b[0m             \u001b[1;32mreturn\u001b[0m \u001b[0mself\u001b[0m\u001b[1;33m.\u001b[0m\u001b[0mapply_str\u001b[0m\u001b[1;33m(\u001b[0m\u001b[1;33m)\u001b[0m\u001b[1;33m\u001b[0m\u001b[1;33m\u001b[0m\u001b[0m\n\u001b[0;32m   1087\u001b[0m \u001b[1;33m\u001b[0m\u001b[0m\n\u001b[1;32m-> 1088\u001b[1;33m         \u001b[1;32mreturn\u001b[0m \u001b[0mself\u001b[0m\u001b[1;33m.\u001b[0m\u001b[0mapply_standard\u001b[0m\u001b[1;33m(\u001b[0m\u001b[1;33m)\u001b[0m\u001b[1;33m\u001b[0m\u001b[1;33m\u001b[0m\u001b[0m\n\u001b[0m\u001b[0;32m   1089\u001b[0m \u001b[1;33m\u001b[0m\u001b[0m\n\u001b[0;32m   1090\u001b[0m     \u001b[1;32mdef\u001b[0m \u001b[0magg\u001b[0m\u001b[1;33m(\u001b[0m\u001b[0mself\u001b[0m\u001b[1;33m)\u001b[0m\u001b[1;33m:\u001b[0m\u001b[1;33m\u001b[0m\u001b[1;33m\u001b[0m\u001b[0m\n",
      "\u001b[1;32m~\\anaconda3\\lib\\site-packages\\pandas\\core\\apply.py\u001b[0m in \u001b[0;36mapply_standard\u001b[1;34m(self)\u001b[0m\n\u001b[0;32m   1141\u001b[0m                 \u001b[1;31m# List[Union[Callable[..., Any], str]]]]]\"; expected\u001b[0m\u001b[1;33m\u001b[0m\u001b[1;33m\u001b[0m\u001b[0m\n\u001b[0;32m   1142\u001b[0m                 \u001b[1;31m# \"Callable[[Any], Any]\"\u001b[0m\u001b[1;33m\u001b[0m\u001b[1;33m\u001b[0m\u001b[0m\n\u001b[1;32m-> 1143\u001b[1;33m                 mapped = lib.map_infer(\n\u001b[0m\u001b[0;32m   1144\u001b[0m                     \u001b[0mvalues\u001b[0m\u001b[1;33m,\u001b[0m\u001b[1;33m\u001b[0m\u001b[1;33m\u001b[0m\u001b[0m\n\u001b[0;32m   1145\u001b[0m                     \u001b[0mf\u001b[0m\u001b[1;33m,\u001b[0m  \u001b[1;31m# type: ignore[arg-type]\u001b[0m\u001b[1;33m\u001b[0m\u001b[1;33m\u001b[0m\u001b[0m\n",
      "\u001b[1;32m~\\anaconda3\\lib\\site-packages\\pandas\\_libs\\lib.pyx\u001b[0m in \u001b[0;36mpandas._libs.lib.map_infer\u001b[1;34m()\u001b[0m\n",
      "\u001b[1;32m~\\AppData\\Local\\Temp\\ipykernel_8132\\503905529.py\u001b[0m in \u001b[0;36m<lambda>\u001b[1;34m(n)\u001b[0m\n\u001b[1;32m----> 1\u001b[1;33m \u001b[0mst_data_lc\u001b[0m\u001b[1;33m[\u001b[0m\u001b[1;34m'name'\u001b[0m\u001b[1;33m]\u001b[0m \u001b[1;33m=\u001b[0m \u001b[0mst_data_lc\u001b[0m\u001b[1;33m[\u001b[0m\u001b[1;34m'name'\u001b[0m\u001b[1;33m]\u001b[0m\u001b[1;33m.\u001b[0m\u001b[0mapply\u001b[0m\u001b[1;33m(\u001b[0m\u001b[1;32mlambda\u001b[0m \u001b[0mn\u001b[0m\u001b[1;33m:\u001b[0m \u001b[0mn\u001b[0m\u001b[1;33m.\u001b[0m\u001b[0mstrip\u001b[0m\u001b[1;33m(\u001b[0m\u001b[1;34m'[]'\u001b[0m\u001b[1;33m)\u001b[0m\u001b[1;33m.\u001b[0m\u001b[0msplit\u001b[0m\u001b[1;33m(\u001b[0m\u001b[1;34m','\u001b[0m\u001b[1;33m)\u001b[0m \u001b[1;32mif\u001b[0m \u001b[0mn\u001b[0m \u001b[1;33m!=\u001b[0m \u001b[1;34m'[,]'\u001b[0m \u001b[1;32mand\u001b[0m \u001b[0mn\u001b[0m \u001b[1;33m!=\u001b[0m \u001b[1;34m'[]'\u001b[0m \u001b[1;32melse\u001b[0m \u001b[1;32mNone\u001b[0m\u001b[1;33m)\u001b[0m\u001b[1;33m\u001b[0m\u001b[1;33m\u001b[0m\u001b[0m\n\u001b[0m\u001b[0;32m      2\u001b[0m \u001b[0mst_data_lc\u001b[0m\u001b[1;33m[\u001b[0m\u001b[1;34m'longitude'\u001b[0m\u001b[1;33m]\u001b[0m \u001b[1;33m=\u001b[0m \u001b[0mst_data_lc\u001b[0m\u001b[1;33m[\u001b[0m\u001b[1;34m'longitude'\u001b[0m\u001b[1;33m]\u001b[0m\u001b[1;33m.\u001b[0m\u001b[0mapply\u001b[0m\u001b[1;33m(\u001b[0m\u001b[1;32mlambda\u001b[0m \u001b[0mn\u001b[0m\u001b[1;33m:\u001b[0m \u001b[1;33m[\u001b[0m\u001b[0mfloat\u001b[0m\u001b[1;33m(\u001b[0m\u001b[0mi\u001b[0m\u001b[1;33m)\u001b[0m \u001b[1;32mfor\u001b[0m \u001b[0mi\u001b[0m \u001b[1;32min\u001b[0m \u001b[0mn\u001b[0m\u001b[1;33m.\u001b[0m\u001b[0mstrip\u001b[0m\u001b[1;33m(\u001b[0m\u001b[1;34m'[]'\u001b[0m\u001b[1;33m)\u001b[0m\u001b[1;33m.\u001b[0m\u001b[0msplit\u001b[0m\u001b[1;33m(\u001b[0m\u001b[1;34m','\u001b[0m\u001b[1;33m)\u001b[0m \u001b[1;32mif\u001b[0m \u001b[0mn\u001b[0m \u001b[1;32mnot\u001b[0m \u001b[1;32min\u001b[0m \u001b[1;33m[\u001b[0m\u001b[1;34m'[],'\u001b[0m\u001b[1;33m,\u001b[0m \u001b[1;34m'[]'\u001b[0m\u001b[1;33m]\u001b[0m\u001b[1;33m]\u001b[0m\u001b[1;33m)\u001b[0m\u001b[1;33m\u001b[0m\u001b[1;33m\u001b[0m\u001b[0m\n\u001b[0;32m      3\u001b[0m \u001b[0mst_data_lc\u001b[0m\u001b[1;33m[\u001b[0m\u001b[1;34m'latitude'\u001b[0m\u001b[1;33m]\u001b[0m \u001b[1;33m=\u001b[0m \u001b[0mst_data_lc\u001b[0m\u001b[1;33m[\u001b[0m\u001b[1;34m'latitude'\u001b[0m\u001b[1;33m]\u001b[0m\u001b[1;33m.\u001b[0m\u001b[0mapply\u001b[0m\u001b[1;33m(\u001b[0m\u001b[1;32mlambda\u001b[0m \u001b[0mn\u001b[0m\u001b[1;33m:\u001b[0m \u001b[1;33m[\u001b[0m\u001b[0mfloat\u001b[0m\u001b[1;33m(\u001b[0m\u001b[0mi\u001b[0m\u001b[1;33m)\u001b[0m \u001b[1;32mfor\u001b[0m \u001b[0mi\u001b[0m \u001b[1;32min\u001b[0m \u001b[0mn\u001b[0m\u001b[1;33m.\u001b[0m\u001b[0mstrip\u001b[0m\u001b[1;33m(\u001b[0m\u001b[1;34m'[]'\u001b[0m\u001b[1;33m)\u001b[0m\u001b[1;33m.\u001b[0m\u001b[0msplit\u001b[0m\u001b[1;33m(\u001b[0m\u001b[1;34m','\u001b[0m\u001b[1;33m)\u001b[0m \u001b[1;32mif\u001b[0m \u001b[0mn\u001b[0m \u001b[1;32mnot\u001b[0m \u001b[1;32min\u001b[0m \u001b[1;33m[\u001b[0m\u001b[1;34m'[],'\u001b[0m\u001b[1;33m,\u001b[0m \u001b[1;34m'[]'\u001b[0m\u001b[1;33m]\u001b[0m\u001b[1;33m]\u001b[0m\u001b[1;33m)\u001b[0m\u001b[1;33m\u001b[0m\u001b[1;33m\u001b[0m\u001b[0m\n\u001b[0;32m      4\u001b[0m \u001b[0mst_data_lc\u001b[0m\u001b[1;33m[\u001b[0m\u001b[1;34m'population'\u001b[0m\u001b[1;33m]\u001b[0m \u001b[1;33m=\u001b[0m \u001b[0mst_data_lc\u001b[0m\u001b[1;33m[\u001b[0m\u001b[1;34m'population'\u001b[0m\u001b[1;33m]\u001b[0m\u001b[1;33m.\u001b[0m\u001b[0mapply\u001b[0m\u001b[1;33m(\u001b[0m\u001b[1;32mlambda\u001b[0m \u001b[0mn\u001b[0m\u001b[1;33m:\u001b[0m \u001b[1;33m[\u001b[0m\u001b[0mfloat\u001b[0m\u001b[1;33m(\u001b[0m\u001b[0mi\u001b[0m\u001b[1;33m)\u001b[0m \u001b[1;32mfor\u001b[0m \u001b[0mi\u001b[0m \u001b[1;32min\u001b[0m \u001b[0mn\u001b[0m\u001b[1;33m.\u001b[0m\u001b[0mstrip\u001b[0m\u001b[1;33m(\u001b[0m\u001b[1;34m'[]'\u001b[0m\u001b[1;33m)\u001b[0m\u001b[1;33m.\u001b[0m\u001b[0msplit\u001b[0m\u001b[1;33m(\u001b[0m\u001b[1;34m','\u001b[0m\u001b[1;33m)\u001b[0m \u001b[1;32mif\u001b[0m \u001b[0mn\u001b[0m \u001b[1;32mnot\u001b[0m \u001b[1;32min\u001b[0m \u001b[1;33m[\u001b[0m\u001b[1;34m'[],'\u001b[0m\u001b[1;33m,\u001b[0m \u001b[1;34m'[]'\u001b[0m\u001b[1;33m]\u001b[0m\u001b[1;33m]\u001b[0m\u001b[1;33m)\u001b[0m\u001b[1;33m\u001b[0m\u001b[1;33m\u001b[0m\u001b[0m\n\u001b[0;32m      5\u001b[0m \u001b[0mst_data_lc\u001b[0m\u001b[1;33m[\u001b[0m\u001b[1;34m'normalized_population'\u001b[0m\u001b[1;33m]\u001b[0m \u001b[1;33m=\u001b[0m \u001b[0mst_data_lc\u001b[0m\u001b[1;33m[\u001b[0m\u001b[1;34m'normalized_population'\u001b[0m\u001b[1;33m]\u001b[0m\u001b[1;33m.\u001b[0m\u001b[0mapply\u001b[0m\u001b[1;33m(\u001b[0m\u001b[1;32mlambda\u001b[0m \u001b[0mn\u001b[0m\u001b[1;33m:\u001b[0m \u001b[1;33m[\u001b[0m\u001b[0mfloat\u001b[0m\u001b[1;33m(\u001b[0m\u001b[0mi\u001b[0m\u001b[1;33m)\u001b[0m \u001b[1;32mfor\u001b[0m \u001b[0mi\u001b[0m \u001b[1;32min\u001b[0m \u001b[0mn\u001b[0m\u001b[1;33m.\u001b[0m\u001b[0mstrip\u001b[0m\u001b[1;33m(\u001b[0m\u001b[1;34m'[]'\u001b[0m\u001b[1;33m)\u001b[0m\u001b[1;33m.\u001b[0m\u001b[0msplit\u001b[0m\u001b[1;33m(\u001b[0m\u001b[1;34m','\u001b[0m\u001b[1;33m)\u001b[0m \u001b[1;32mif\u001b[0m \u001b[0mn\u001b[0m \u001b[1;32mnot\u001b[0m \u001b[1;32min\u001b[0m \u001b[1;33m[\u001b[0m\u001b[1;34m'[],'\u001b[0m\u001b[1;33m,\u001b[0m \u001b[1;34m'[]'\u001b[0m\u001b[1;33m]\u001b[0m\u001b[1;33m]\u001b[0m\u001b[1;33m)\u001b[0m\u001b[1;33m\u001b[0m\u001b[1;33m\u001b[0m\u001b[0m\n",
      "\u001b[1;31mAttributeError\u001b[0m: 'list' object has no attribute 'strip'"
     ]
    }
   ],
   "source": [
    "st_data_lc['name'] = st_data_lc['name'].apply(lambda n: n.strip('[]').split(',') if n != '[,]' and n != '[]' else None)\n",
    "st_data_lc['longitude'] = st_data_lc['longitude'].apply(lambda n: [float(i) for i in n.strip('[]').split(',') if n not in ['[],', '[]']])\n",
    "st_data_lc['latitude'] = st_data_lc['latitude'].apply(lambda n: [float(i) for i in n.strip('[]').split(',') if n not in ['[],', '[]']])\n",
    "st_data_lc['population'] = st_data_lc['population'].apply(lambda n: [float(i) for i in n.strip('[]').split(',') if n not in ['[],', '[]']])\n",
    "st_data_lc['normalized_population'] = st_data_lc['normalized_population'].apply(lambda n: [float(i) for i in n.strip('[]').split(',') if n not in ['[],', '[]']])"
   ]
  },
  {
   "cell_type": "code",
   "execution_count": 178,
   "id": "e787d050",
   "metadata": {},
   "outputs": [
    {
     "data": {
      "text/plain": [
       "<folium.plugins.heat_map_withtime.HeatMapWithTime at 0x26410fde7f0>"
      ]
     },
     "execution_count": 178,
     "metadata": {},
     "output_type": "execute_result"
    }
   ],
   "source": [
    "\n",
    "# Folium 지도 생성\n",
    "m = folium.Map(location=[37.55, 127], zoom_start=12)\n",
    "\n",
    "# 승하차 인원을 기준으로 HeatMap 그리기\n",
    "heat_data = []\n",
    "for idx, row in st_data_lc.iterrows():\n",
    "    heat_data.append(list(zip(row['latitude'], row['longitude'], row['normalized_population'])))\n",
    "    \n",
    "for i in range(len(heat_data)):\n",
    "    for j in range(len(heat_data[i])):\n",
    "        heat_data[i][j] = list(heat_data[i][j])\n",
    "\n",
    "hm = HeatMapWithTime(heat_data, index=st_data_lc['date'].tolist(), auto_play=True, max_opacity=1, blur=0.05, radius=15, max_speed=60)\n",
    "hm.add_to(m)"
   ]
  },
  {
   "cell_type": "code",
   "execution_count": null,
   "id": "d455c17c",
   "metadata": {},
   "outputs": [],
   "source": []
  },
  {
   "cell_type": "code",
   "execution_count": null,
   "id": "8f5ec8c1",
   "metadata": {},
   "outputs": [],
   "source": []
  },
  {
   "cell_type": "code",
   "execution_count": null,
   "id": "122a70de",
   "metadata": {},
   "outputs": [],
   "source": []
  },
  {
   "cell_type": "code",
   "execution_count": null,
   "id": "9cbf3743",
   "metadata": {},
   "outputs": [],
   "source": []
  },
  {
   "cell_type": "code",
   "execution_count": 818,
   "id": "d70b14e8",
   "metadata": {},
   "outputs": [],
   "source": [
    "boom = {\n",
    "    '명랑핫도그':pd.to_datetime('2017.04')\n",
    "    , '설빙':pd.to_datetime('2014.08')\n",
    "    , '공차':pd.to_datetime('2014.05')\n",
    "    , '마라탕':pd.to_datetime('2019.09')\n",
    "    , '엽기떡볶이':pd.to_datetime('2015.05')\n",
    "    , '카스테라':pd.to_datetime('2017.01')\n",
    "    , '쥬씨':pd.to_datetime('2016.07')\n",
    "    , '엉생':pd.to_datetime('2016.06')\n",
    "    , '홍루이젠':pd.to_datetime('2018.09')\n",
    "    , '밥버거':pd.to_datetime('2013.11')\n",
    "    , '탕후루':pd.to_datetime('2023.10')\n",
    "}"
   ]
  },
  {
   "cell_type": "code",
   "execution_count": 326,
   "id": "8dc5e75a",
   "metadata": {},
   "outputs": [],
   "source": [
    "sb_data_n10 = pd.read_csv('C:/Users/sjhty/Desktop/데이터/sb_data_n10.csv')\n",
    "sb_data_not_n10 = pd.read_csv('C:/Users/sjhty/Desktop/데이터/sb_data_not_n10.csv')"
   ]
  },
  {
   "cell_type": "code",
   "execution_count": 327,
   "id": "69588818",
   "metadata": {},
   "outputs": [],
   "source": [
    "sb_data_n10['licence_date'] = pd.to_datetime(sb_data_n10['licence_date'])\n",
    "sb_data_n10['close_date'] = pd.to_datetime(sb_data_n10['close_date'])\n",
    "\n",
    "sb_data_not_n10['licence_date'] = pd.to_datetime(sb_data_not_n10['licence_date'])\n",
    "sb_data_not_n10['close_date'] = pd.to_datetime(sb_data_not_n10['close_date'])"
   ]
  },
  {
   "cell_type": "markdown",
   "id": "6afcba69",
   "metadata": {},
   "source": [
    "### 역 근처, 근처 아닌 데이터들을 boom 기준으로 나누어주기"
   ]
  },
  {
   "cell_type": "code",
   "execution_count": 328,
   "id": "9607031d",
   "metadata": {},
   "outputs": [],
   "source": [
    "sb_data_n10_steady_before = sb_data_n10[(sb_data_n10['keyword']=='명랑핫도그')& (sb_data_n10['licence_date']<boom['명랑핫도그']) \n",
    "            | (sb_data_n10['keyword']=='설빙')& (sb_data_n10['licence_date']<boom['설빙'])\n",
    "           | (sb_data_n10['keyword']=='공차')& (sb_data_n10['licence_date']<boom['공차'])\n",
    "           | (sb_data_n10['keyword']=='마라탕')& (sb_data_n10['licence_date']<boom['마라탕'])\n",
    "           | (sb_data_n10['keyword']=='엽기떡볶이')& (sb_data_n10['licence_date']<boom['엽기떡볶이'])].reset_index(drop=True)\n",
    "\n",
    "sb_data_n10_steady_after = sb_data_n10[(sb_data_n10['keyword']=='명랑핫도그')& (sb_data_n10['licence_date']>=boom['명랑핫도그']) \n",
    "            | (sb_data_n10['keyword']=='설빙')& (sb_data_n10['licence_date']>=boom['설빙'])\n",
    "           | (sb_data_n10['keyword']=='공차')& (sb_data_n10['licence_date']>=boom['공차'])\n",
    "           | (sb_data_n10['keyword']=='마라탕')& (sb_data_n10['licence_date']>=boom['마라탕'])\n",
    "           | (sb_data_n10['keyword']=='엽기떡볶이')& (sb_data_n10['licence_date']>=boom['엽기떡볶이'])].reset_index(drop=True)\n",
    "\n",
    "sb_data_n10_trendy_before = sb_data_n10[(sb_data_n10['keyword']=='카스테라')& (sb_data_n10['licence_date']<boom['카스테라']) \n",
    "            | (sb_data_n10['keyword']=='쥬씨')& (sb_data_n10['licence_date']<boom['쥬씨'])\n",
    "           | (sb_data_n10['keyword']=='엉생')& (sb_data_n10['licence_date']<boom['엉생'])\n",
    "           | (sb_data_n10['keyword']=='홍루이젠')& (sb_data_n10['licence_date']<boom['홍루이젠'])\n",
    "           | (sb_data_n10['keyword']=='밥버거')& (sb_data_n10['licence_date']<boom['밥버거'])].reset_index(drop=True)\n",
    "\n",
    "sb_data_n10_trendy_after = sb_data_n10[(sb_data_n10['keyword']=='카스테라')& (sb_data_n10['licence_date']>=boom['카스테라']) \n",
    "            | (sb_data_n10['keyword']=='쥬씨')& (sb_data_n10['licence_date']>=boom['쥬씨'])\n",
    "           | (sb_data_n10['keyword']=='엉생')& (sb_data_n10['licence_date']>=boom['엉생'])\n",
    "           | (sb_data_n10['keyword']=='홍루이젠')& (sb_data_n10['licence_date']>=boom['홍루이젠'])\n",
    "           | (sb_data_n10['keyword']=='밥버거')& (sb_data_n10['licence_date']>=boom['밥버거'])].reset_index(drop=True)"
   ]
  },
  {
   "cell_type": "code",
   "execution_count": 329,
   "id": "ec844a32",
   "metadata": {},
   "outputs": [],
   "source": [
    "sb_data_not_n10_steady_before = sb_data_not_n10[(sb_data_not_n10['keyword']=='명랑핫도그')& (sb_data_not_n10['licence_date']<boom['명랑핫도그']) \n",
    "            | (sb_data_not_n10['keyword']=='설빙')& (sb_data_not_n10['licence_date']<boom['설빙'])\n",
    "           | (sb_data_not_n10['keyword']=='공차')& (sb_data_not_n10['licence_date']<boom['공차'])\n",
    "           | (sb_data_not_n10['keyword']=='마라탕')& (sb_data_not_n10['licence_date']<boom['마라탕'])\n",
    "           | (sb_data_not_n10['keyword']=='엽기떡볶이')& (sb_data_not_n10['licence_date']<boom['엽기떡볶이'])].reset_index(drop=True)\n",
    "\n",
    "sb_data_not_n10_steady_after = sb_data_not_n10[(sb_data_not_n10['keyword']=='명랑핫도그')& (sb_data_not_n10['licence_date']>=boom['명랑핫도그']) \n",
    "            | (sb_data_not_n10['keyword']=='설빙')& (sb_data_not_n10['licence_date']>=boom['설빙'])\n",
    "           | (sb_data_not_n10['keyword']=='공차')& (sb_data_not_n10['licence_date']>=boom['공차'])\n",
    "           | (sb_data_not_n10['keyword']=='마라탕')& (sb_data_not_n10['licence_date']>=boom['마라탕'])\n",
    "           | (sb_data_not_n10['keyword']=='엽기떡볶이')& (sb_data_not_n10['licence_date']>=boom['엽기떡볶이'])].reset_index(drop=True)\n",
    "\n",
    "sb_data_not_n10_trendy_before = sb_data_not_n10[(sb_data_not_n10['keyword']=='카스테라')& (sb_data_not_n10['licence_date']<boom['카스테라']) \n",
    "            | (sb_data_not_n10['keyword']=='쥬씨')& (sb_data_not_n10['licence_date']<boom['쥬씨'])\n",
    "           | (sb_data_not_n10['keyword']=='엉생')& (sb_data_not_n10['licence_date']<boom['엉생'])\n",
    "           | (sb_data_not_n10['keyword']=='홍루이젠')& (sb_data_not_n10['licence_date']<boom['홍루이젠'])\n",
    "           | (sb_data_not_n10['keyword']=='밥버거')& (sb_data_not_n10['licence_date']<boom['밥버거'])].reset_index(drop=True)\n",
    "\n",
    "sb_data_not_n10_trendy_after = sb_data_not_n10[(sb_data_not_n10['keyword']=='카스테라')& (sb_data_not_n10['licence_date']>=boom['카스테라']) \n",
    "            | (sb_data_not_n10['keyword']=='쥬씨')& (sb_data_not_n10['licence_date']>=boom['쥬씨'])\n",
    "           | (sb_data_not_n10['keyword']=='엉생')& (sb_data_not_n10['licence_date']>=boom['엉생'])\n",
    "           | (sb_data_not_n10['keyword']=='홍루이젠')& (sb_data_not_n10['licence_date']>=boom['홍루이젠'])\n",
    "           | (sb_data_not_n10['keyword']=='밥버거')& (sb_data_not_n10['licence_date']>=boom['밥버거'])].reset_index(drop=True)"
   ]
  },
  {
   "cell_type": "markdown",
   "id": "08f753ca",
   "metadata": {},
   "source": [
    "### 붐, 이전 이후 status (폐업 상태) 변경하기\n",
    "* 붐 이전만 바꾸어주면 됨"
   ]
  },
  {
   "cell_type": "code",
   "execution_count": 330,
   "id": "26445106",
   "metadata": {},
   "outputs": [],
   "source": [
    "for idx, data in sb_data_n10_steady_before.iterrows():\n",
    "    if data['close_date'] < boom[data['keyword']]:\n",
    "        sb_data_n10_steady_before.loc[idx,'status'] = '폐업'\n",
    "    else:\n",
    "        sb_data_n10_steady_before.loc[idx,'status'] = '영업/정상'"
   ]
  },
  {
   "cell_type": "code",
   "execution_count": 331,
   "id": "5068b274",
   "metadata": {},
   "outputs": [],
   "source": [
    "for idx, data in sb_data_n10_trendy_before.iterrows():\n",
    "    if data['close_date'] < boom[data['keyword']]:\n",
    "        sb_data_n10_steady_before.loc[idx,'status'] = '폐업'\n",
    "    else:\n",
    "        sb_data_n10_steady_before.loc[idx,'status'] = '영업/정상'"
   ]
  },
  {
   "cell_type": "code",
   "execution_count": 332,
   "id": "f04670fa",
   "metadata": {},
   "outputs": [],
   "source": [
    "for idx, data in sb_data_not_n10_steady_before.iterrows():\n",
    "    if data['close_date'] < boom[data['keyword']]:\n",
    "        sb_data_not_n10_steady_before.loc[idx,'status'] = '폐업'\n",
    "    else:\n",
    "        sb_data_not_n10_steady_before.loc[idx,'status'] = '영업/정상'"
   ]
  },
  {
   "cell_type": "code",
   "execution_count": 333,
   "id": "cc8ad865",
   "metadata": {},
   "outputs": [],
   "source": [
    "for idx, data in sb_data_not_n10_trendy_before.iterrows():\n",
    "    if data['close_date'] < boom[data['keyword']]:\n",
    "        sb_data_not_n10_steady_before.loc[idx,'status'] = '폐업'\n",
    "    else:\n",
    "        sb_data_not_n10_steady_before.loc[idx,'status'] = '영업/정상'"
   ]
  },
  {
   "cell_type": "code",
   "execution_count": null,
   "id": "ec4866b8",
   "metadata": {},
   "outputs": [],
   "source": []
  },
  {
   "cell_type": "code",
   "execution_count": 334,
   "id": "6649d219",
   "metadata": {
    "scrolled": true
   },
   "outputs": [
    {
     "data": {
      "text/plain": [
       "영업/정상    186\n",
       "폐업       148\n",
       "Name: status, dtype: int64"
      ]
     },
     "execution_count": 334,
     "metadata": {},
     "output_type": "execute_result"
    }
   ],
   "source": [
    "sb_data_n10['status'].value_counts()"
   ]
  },
  {
   "cell_type": "code",
   "execution_count": 335,
   "id": "e9b577d7",
   "metadata": {
    "scrolled": true
   },
   "outputs": [
    {
     "data": {
      "text/plain": [
       "영업/정상    91\n",
       "폐업        7\n",
       "Name: status, dtype: int64"
      ]
     },
     "execution_count": 335,
     "metadata": {},
     "output_type": "execute_result"
    }
   ],
   "source": [
    "sb_data_n10_steady_before['status'].value_counts()"
   ]
  },
  {
   "cell_type": "code",
   "execution_count": 336,
   "id": "9d028b37",
   "metadata": {},
   "outputs": [
    {
     "data": {
      "text/plain": [
       "영업/정상    84\n",
       "폐업       35\n",
       "Name: status, dtype: int64"
      ]
     },
     "execution_count": 336,
     "metadata": {},
     "output_type": "execute_result"
    }
   ],
   "source": [
    "sb_data_n10_steady_after['status'].value_counts()"
   ]
  },
  {
   "cell_type": "code",
   "execution_count": 337,
   "id": "41ac00f2",
   "metadata": {},
   "outputs": [
    {
     "data": {
      "text/plain": [
       "폐업       34\n",
       "영업/정상     7\n",
       "Name: status, dtype: int64"
      ]
     },
     "execution_count": 337,
     "metadata": {},
     "output_type": "execute_result"
    }
   ],
   "source": [
    "sb_data_n10_trendy_before['status'].value_counts()\n"
   ]
  },
  {
   "cell_type": "code",
   "execution_count": 338,
   "id": "36cf7ae9",
   "metadata": {},
   "outputs": [
    {
     "data": {
      "text/plain": [
       "폐업       19\n",
       "영업/정상     9\n",
       "Name: status, dtype: int64"
      ]
     },
     "execution_count": 338,
     "metadata": {},
     "output_type": "execute_result"
    }
   ],
   "source": [
    "sb_data_n10_trendy_after['status'].value_counts()"
   ]
  },
  {
   "cell_type": "markdown",
   "id": "3cc48090",
   "metadata": {},
   "source": [
    "### not 경계선"
   ]
  },
  {
   "cell_type": "code",
   "execution_count": 345,
   "id": "6a95a9ed",
   "metadata": {},
   "outputs": [
    {
     "data": {
      "text/plain": [
       "영업/정상    416\n",
       "폐업         6\n",
       "Name: status, dtype: int64"
      ]
     },
     "execution_count": 345,
     "metadata": {},
     "output_type": "execute_result"
    }
   ],
   "source": [
    "sb_data_not_n10_steady_before['status'].value_counts()\n"
   ]
  },
  {
   "cell_type": "code",
   "execution_count": 346,
   "id": "e6aab13a",
   "metadata": {},
   "outputs": [
    {
     "data": {
      "text/plain": [
       "영업/정상    588\n",
       "폐업       173\n",
       "Name: status, dtype: int64"
      ]
     },
     "execution_count": 346,
     "metadata": {},
     "output_type": "execute_result"
    }
   ],
   "source": [
    "sb_data_not_n10_steady_after['status'].value_counts()"
   ]
  },
  {
   "cell_type": "code",
   "execution_count": 347,
   "id": "c12fc777",
   "metadata": {},
   "outputs": [
    {
     "data": {
      "text/plain": [
       "폐업       191\n",
       "영업/정상     85\n",
       "Name: status, dtype: int64"
      ]
     },
     "execution_count": 347,
     "metadata": {},
     "output_type": "execute_result"
    }
   ],
   "source": [
    "sb_data_not_n10_trendy_before['status'].value_counts()"
   ]
  },
  {
   "cell_type": "code",
   "execution_count": 348,
   "id": "f685b473",
   "metadata": {},
   "outputs": [
    {
     "data": {
      "text/plain": [
       "폐업       154\n",
       "영업/정상     78\n",
       "Name: status, dtype: int64"
      ]
     },
     "execution_count": 348,
     "metadata": {},
     "output_type": "execute_result"
    }
   ],
   "source": [
    "sb_data_not_n10_trendy_after['status'].value_counts()"
   ]
  },
  {
   "cell_type": "code",
   "execution_count": 236,
   "id": "3d2540e0",
   "metadata": {},
   "outputs": [
    {
     "data": {
      "text/plain": [
       "0.27689243027888444"
      ]
     },
     "execution_count": 236,
     "metadata": {},
     "output_type": "execute_result"
    }
   ],
   "source": []
  },
  {
   "cell_type": "code",
   "execution_count": null,
   "id": "bf74d46d",
   "metadata": {},
   "outputs": [],
   "source": []
  },
  {
   "cell_type": "code",
   "execution_count": null,
   "id": "d0cdcdbd",
   "metadata": {},
   "outputs": [],
   "source": []
  },
  {
   "cell_type": "code",
   "execution_count": 21,
   "id": "4de9a6ea",
   "metadata": {
    "collapsed": true
   },
   "outputs": [
    {
     "data": {
      "text/html": [
       "<div>\n",
       "<style scoped>\n",
       "    .dataframe tbody tr th:only-of-type {\n",
       "        vertical-align: middle;\n",
       "    }\n",
       "\n",
       "    .dataframe tbody tr th {\n",
       "        vertical-align: top;\n",
       "    }\n",
       "\n",
       "    .dataframe thead th {\n",
       "        text-align: right;\n",
       "    }\n",
       "</style>\n",
       "<table border=\"1\" class=\"dataframe\">\n",
       "  <thead>\n",
       "    <tr style=\"text-align: right;\">\n",
       "      <th></th>\n",
       "      <th>int64_field_0</th>\n",
       "      <th>licence_date</th>\n",
       "      <th>licence_cancel_date</th>\n",
       "      <th>status</th>\n",
       "      <th>close_date</th>\n",
       "      <th>location_number_address</th>\n",
       "      <th>street_name_address</th>\n",
       "      <th>store_name</th>\n",
       "      <th>category</th>\n",
       "      <th>longitude</th>\n",
       "      <th>...</th>\n",
       "      <th>multi_business</th>\n",
       "      <th>period</th>\n",
       "      <th>keyword</th>\n",
       "      <th>class</th>\n",
       "      <th>name</th>\n",
       "      <th>avg_population</th>\n",
       "      <th>latitude_1</th>\n",
       "      <th>longitude_1</th>\n",
       "      <th>quartile</th>\n",
       "      <th>ROW</th>\n",
       "    </tr>\n",
       "  </thead>\n",
       "  <tbody>\n",
       "    <tr>\n",
       "      <th>0</th>\n",
       "      <td>2257130</td>\n",
       "      <td>2016-02-24</td>\n",
       "      <td>NaN</td>\n",
       "      <td>폐업</td>\n",
       "      <td>2021-06-08</td>\n",
       "      <td>서울특별시 광진구 구의동 546-1 1층105호</td>\n",
       "      <td>서울특별시 광진구 강변역로 50, 1층 105호 (구의동)</td>\n",
       "      <td>쥬씨동서울터미널점</td>\n",
       "      <td>기타 휴게음식점</td>\n",
       "      <td>127.090695</td>\n",
       "      <td>...</td>\n",
       "      <td>False</td>\n",
       "      <td>1931 days</td>\n",
       "      <td>쥬씨</td>\n",
       "      <td>trendy</td>\n",
       "      <td>강변</td>\n",
       "      <td>2.870143e+06</td>\n",
       "      <td>37.535095</td>\n",
       "      <td>127.094681</td>\n",
       "      <td>10</td>\n",
       "      <td>1</td>\n",
       "    </tr>\n",
       "    <tr>\n",
       "      <th>1</th>\n",
       "      <td>2514659</td>\n",
       "      <td>2016-05-31</td>\n",
       "      <td>NaN</td>\n",
       "      <td>영업/정상</td>\n",
       "      <td>2023-11-21</td>\n",
       "      <td>서울특별시 관악구 봉천동 888-35번지</td>\n",
       "      <td>서울특별시 관악구 양녕로 44, 1층 (봉천동)</td>\n",
       "      <td>쥬씨 현대시장점</td>\n",
       "      <td>커피숍</td>\n",
       "      <td>126.944226</td>\n",
       "      <td>...</td>\n",
       "      <td>False</td>\n",
       "      <td>2730 days</td>\n",
       "      <td>쥬씨</td>\n",
       "      <td>trendy</td>\n",
       "      <td>서울대입구</td>\n",
       "      <td>3.218809e+06</td>\n",
       "      <td>37.481247</td>\n",
       "      <td>126.952739</td>\n",
       "      <td>10</td>\n",
       "      <td>1</td>\n",
       "    </tr>\n",
       "    <tr>\n",
       "      <th>2</th>\n",
       "      <td>2178801</td>\n",
       "      <td>2018-10-01</td>\n",
       "      <td>NaN</td>\n",
       "      <td>폐업</td>\n",
       "      <td>2023-08-02</td>\n",
       "      <td>서울특별시 구로구 신도림동 337 신도림1차푸르지오</td>\n",
       "      <td>서울특별시 구로구 경인로 661, 신도림1차푸르지오 1층 161호 (신도림동)</td>\n",
       "      <td>홍루이젠 신도림역점</td>\n",
       "      <td>패스트푸드</td>\n",
       "      <td>126.884854</td>\n",
       "      <td>...</td>\n",
       "      <td>False</td>\n",
       "      <td>1766 days</td>\n",
       "      <td>홍루이젠</td>\n",
       "      <td>trendy</td>\n",
       "      <td>신도림</td>\n",
       "      <td>3.625087e+06</td>\n",
       "      <td>37.508961</td>\n",
       "      <td>126.891084</td>\n",
       "      <td>10</td>\n",
       "      <td>1</td>\n",
       "    </tr>\n",
       "    <tr>\n",
       "      <th>3</th>\n",
       "      <td>2308082</td>\n",
       "      <td>2017-01-18</td>\n",
       "      <td>NaN</td>\n",
       "      <td>폐업</td>\n",
       "      <td>2017-09-21</td>\n",
       "      <td>서울특별시 송파구 방이동 104-3번지</td>\n",
       "      <td>서울특별시 송파구 오금로17길 7, 101호 (방이동)</td>\n",
       "      <td>대만대왕 카스테라 판다</td>\n",
       "      <td>기타 휴게음식점</td>\n",
       "      <td>127.108557</td>\n",
       "      <td>...</td>\n",
       "      <td>False</td>\n",
       "      <td>246 days</td>\n",
       "      <td>카스테라</td>\n",
       "      <td>trendy</td>\n",
       "      <td>잠실</td>\n",
       "      <td>3.730178e+06</td>\n",
       "      <td>37.514692</td>\n",
       "      <td>127.104338</td>\n",
       "      <td>10</td>\n",
       "      <td>1</td>\n",
       "    </tr>\n",
       "    <tr>\n",
       "      <th>4</th>\n",
       "      <td>719934</td>\n",
       "      <td>2014-04-28</td>\n",
       "      <td>NaN</td>\n",
       "      <td>폐업</td>\n",
       "      <td>2016-08-30</td>\n",
       "      <td>서울특별시 강남구 대치동 920-22번지 지상1층 101호</td>\n",
       "      <td>서울특별시 강남구 역삼로64길 26, 지상1층 101호 (대치동)</td>\n",
       "      <td>뚱스 밥버거</td>\n",
       "      <td>분식</td>\n",
       "      <td>127.050424</td>\n",
       "      <td>...</td>\n",
       "      <td>False</td>\n",
       "      <td>855 days</td>\n",
       "      <td>밥버거</td>\n",
       "      <td>trendy</td>\n",
       "      <td>선릉</td>\n",
       "      <td>3.284806e+06</td>\n",
       "      <td>37.504856</td>\n",
       "      <td>127.048807</td>\n",
       "      <td>10</td>\n",
       "      <td>1</td>\n",
       "    </tr>\n",
       "    <tr>\n",
       "      <th>...</th>\n",
       "      <td>...</td>\n",
       "      <td>...</td>\n",
       "      <td>...</td>\n",
       "      <td>...</td>\n",
       "      <td>...</td>\n",
       "      <td>...</td>\n",
       "      <td>...</td>\n",
       "      <td>...</td>\n",
       "      <td>...</td>\n",
       "      <td>...</td>\n",
       "      <td>...</td>\n",
       "      <td>...</td>\n",
       "      <td>...</td>\n",
       "      <td>...</td>\n",
       "      <td>...</td>\n",
       "      <td>...</td>\n",
       "      <td>...</td>\n",
       "      <td>...</td>\n",
       "      <td>...</td>\n",
       "      <td>...</td>\n",
       "      <td>...</td>\n",
       "    </tr>\n",
       "    <tr>\n",
       "      <th>149</th>\n",
       "      <td>486722</td>\n",
       "      <td>2011-12-16</td>\n",
       "      <td>NaN</td>\n",
       "      <td>폐업</td>\n",
       "      <td>2013-02-28</td>\n",
       "      <td>서울특별시 관악구 봉천동 925-27번지 지상1층</td>\n",
       "      <td>서울특별시 관악구 봉천로 385, 지상1층 (봉천동)</td>\n",
       "      <td>신엉터리생고기</td>\n",
       "      <td>한식</td>\n",
       "      <td>126.939914</td>\n",
       "      <td>...</td>\n",
       "      <td>False</td>\n",
       "      <td>440 days</td>\n",
       "      <td>엉터리생고기</td>\n",
       "      <td>trendy</td>\n",
       "      <td>신림</td>\n",
       "      <td>4.318712e+06</td>\n",
       "      <td>37.484201</td>\n",
       "      <td>126.929715</td>\n",
       "      <td>10</td>\n",
       "      <td>1</td>\n",
       "    </tr>\n",
       "    <tr>\n",
       "      <th>150</th>\n",
       "      <td>2151760</td>\n",
       "      <td>2014-10-30</td>\n",
       "      <td>NaN</td>\n",
       "      <td>폐업</td>\n",
       "      <td>2020-08-20</td>\n",
       "      <td>서울특별시 강남구 대치동 922</td>\n",
       "      <td>서울특별시 강남구 선릉로 326, 1층 5호 (대치동)</td>\n",
       "      <td>봉구스밥버거</td>\n",
       "      <td>일반조리판매</td>\n",
       "      <td>127.049209</td>\n",
       "      <td>...</td>\n",
       "      <td>False</td>\n",
       "      <td>2121 days</td>\n",
       "      <td>밥버거</td>\n",
       "      <td>trendy</td>\n",
       "      <td>선릉</td>\n",
       "      <td>3.284806e+06</td>\n",
       "      <td>37.504856</td>\n",
       "      <td>127.048807</td>\n",
       "      <td>10</td>\n",
       "      <td>1</td>\n",
       "    </tr>\n",
       "    <tr>\n",
       "      <th>151</th>\n",
       "      <td>2258782</td>\n",
       "      <td>2013-10-28</td>\n",
       "      <td>NaN</td>\n",
       "      <td>폐업</td>\n",
       "      <td>2015-12-21</td>\n",
       "      <td>서울특별시 광진구 구의동 250-30번지 (1층)</td>\n",
       "      <td>서울특별시 광진구 자양로28길 12, 1층 (구의동)</td>\n",
       "      <td>봉구스 밥버거</td>\n",
       "      <td>일반조리판매</td>\n",
       "      <td>127.081984</td>\n",
       "      <td>...</td>\n",
       "      <td>False</td>\n",
       "      <td>784 days</td>\n",
       "      <td>밥버거</td>\n",
       "      <td>trendy</td>\n",
       "      <td>건대입구</td>\n",
       "      <td>2.513628e+06</td>\n",
       "      <td>37.540786</td>\n",
       "      <td>127.071011</td>\n",
       "      <td>10</td>\n",
       "      <td>1</td>\n",
       "    </tr>\n",
       "    <tr>\n",
       "      <th>152</th>\n",
       "      <td>2261448</td>\n",
       "      <td>2017-04-26</td>\n",
       "      <td>NaN</td>\n",
       "      <td>폐업</td>\n",
       "      <td>2017-05-15</td>\n",
       "      <td>서울특별시 강남구 삼성동 159번지</td>\n",
       "      <td>서울특별시 강남구 영동대로 513, 지상1층 (삼성동, 코엑스 동측광장)</td>\n",
       "      <td>엉터리생고기</td>\n",
       "      <td>패스트푸드</td>\n",
       "      <td>127.055929</td>\n",
       "      <td>...</td>\n",
       "      <td>False</td>\n",
       "      <td>19 days</td>\n",
       "      <td>엉터리생고기</td>\n",
       "      <td>trendy</td>\n",
       "      <td>삼성</td>\n",
       "      <td>3.712045e+06</td>\n",
       "      <td>37.508844</td>\n",
       "      <td>127.063160</td>\n",
       "      <td>10</td>\n",
       "      <td>1</td>\n",
       "    </tr>\n",
       "    <tr>\n",
       "      <th>153</th>\n",
       "      <td>2565978</td>\n",
       "      <td>2016-06-13</td>\n",
       "      <td>NaN</td>\n",
       "      <td>영업/정상</td>\n",
       "      <td>2023-11-21</td>\n",
       "      <td>서울특별시 중구 남산동1가 1-2 1층</td>\n",
       "      <td>서울특별시 중구 퇴계로 120, 1층 (남산동1가)</td>\n",
       "      <td>쥬씨 명동역점</td>\n",
       "      <td>커피숍</td>\n",
       "      <td>126.982251</td>\n",
       "      <td>...</td>\n",
       "      <td>False</td>\n",
       "      <td>2717 days</td>\n",
       "      <td>쥬씨</td>\n",
       "      <td>trendy</td>\n",
       "      <td>을지로입구</td>\n",
       "      <td>2.986410e+06</td>\n",
       "      <td>37.566014</td>\n",
       "      <td>126.982618</td>\n",
       "      <td>10</td>\n",
       "      <td>1</td>\n",
       "    </tr>\n",
       "  </tbody>\n",
       "</table>\n",
       "<p>154 rows × 22 columns</p>\n",
       "</div>"
      ],
      "text/plain": [
       "     int64_field_0 licence_date  licence_cancel_date status  close_date  \\\n",
       "0          2257130   2016-02-24                  NaN     폐업  2021-06-08   \n",
       "1          2514659   2016-05-31                  NaN  영업/정상  2023-11-21   \n",
       "2          2178801   2018-10-01                  NaN     폐업  2023-08-02   \n",
       "3          2308082   2017-01-18                  NaN     폐업  2017-09-21   \n",
       "4           719934   2014-04-28                  NaN     폐업  2016-08-30   \n",
       "..             ...          ...                  ...    ...         ...   \n",
       "149         486722   2011-12-16                  NaN     폐업  2013-02-28   \n",
       "150        2151760   2014-10-30                  NaN     폐업  2020-08-20   \n",
       "151        2258782   2013-10-28                  NaN     폐업  2015-12-21   \n",
       "152        2261448   2017-04-26                  NaN     폐업  2017-05-15   \n",
       "153        2565978   2016-06-13                  NaN  영업/정상  2023-11-21   \n",
       "\n",
       "              location_number_address  \\\n",
       "0          서울특별시 광진구 구의동 546-1 1층105호   \n",
       "1              서울특별시 관악구 봉천동 888-35번지   \n",
       "2        서울특별시 구로구 신도림동 337 신도림1차푸르지오   \n",
       "3               서울특별시 송파구 방이동 104-3번지   \n",
       "4    서울특별시 강남구 대치동 920-22번지 지상1층 101호   \n",
       "..                                ...   \n",
       "149       서울특별시 관악구 봉천동 925-27번지 지상1층   \n",
       "150                 서울특별시 강남구 대치동 922   \n",
       "151       서울특별시 광진구 구의동 250-30번지 (1층)   \n",
       "152               서울특별시 강남구 삼성동 159번지   \n",
       "153             서울특별시 중구 남산동1가 1-2 1층   \n",
       "\n",
       "                             street_name_address    store_name  category  \\\n",
       "0               서울특별시 광진구 강변역로 50, 1층 105호 (구의동)     쥬씨동서울터미널점  기타 휴게음식점   \n",
       "1                     서울특별시 관악구 양녕로 44, 1층 (봉천동)      쥬씨 현대시장점       커피숍   \n",
       "2    서울특별시 구로구 경인로 661, 신도림1차푸르지오 1층 161호 (신도림동)    홍루이젠 신도림역점     패스트푸드   \n",
       "3                 서울특별시 송파구 오금로17길 7, 101호 (방이동)  대만대왕 카스테라 판다  기타 휴게음식점   \n",
       "4           서울특별시 강남구 역삼로64길 26, 지상1층 101호 (대치동)        뚱스 밥버거        분식   \n",
       "..                                           ...           ...       ...   \n",
       "149                서울특별시 관악구 봉천로 385, 지상1층 (봉천동)       신엉터리생고기        한식   \n",
       "150               서울특별시 강남구 선릉로 326, 1층 5호 (대치동)        봉구스밥버거    일반조리판매   \n",
       "151                서울특별시 광진구 자양로28길 12, 1층 (구의동)       봉구스 밥버거    일반조리판매   \n",
       "152     서울특별시 강남구 영동대로 513, 지상1층 (삼성동, 코엑스 동측광장)        엉터리생고기     패스트푸드   \n",
       "153                 서울특별시 중구 퇴계로 120, 1층 (남산동1가)       쥬씨 명동역점       커피숍   \n",
       "\n",
       "      longitude  ...  multi_business     period  keyword   class   name  \\\n",
       "0    127.090695  ...           False  1931 days       쥬씨  trendy     강변   \n",
       "1    126.944226  ...           False  2730 days       쥬씨  trendy  서울대입구   \n",
       "2    126.884854  ...           False  1766 days     홍루이젠  trendy    신도림   \n",
       "3    127.108557  ...           False   246 days     카스테라  trendy     잠실   \n",
       "4    127.050424  ...           False   855 days      밥버거  trendy     선릉   \n",
       "..          ...  ...             ...        ...      ...     ...    ...   \n",
       "149  126.939914  ...           False   440 days   엉터리생고기  trendy     신림   \n",
       "150  127.049209  ...           False  2121 days      밥버거  trendy     선릉   \n",
       "151  127.081984  ...           False   784 days      밥버거  trendy   건대입구   \n",
       "152  127.055929  ...           False    19 days   엉터리생고기  trendy     삼성   \n",
       "153  126.982251  ...           False  2717 days       쥬씨  trendy  을지로입구   \n",
       "\n",
       "    avg_population latitude_1  longitude_1  quartile  ROW  \n",
       "0     2.870143e+06  37.535095   127.094681        10    1  \n",
       "1     3.218809e+06  37.481247   126.952739        10    1  \n",
       "2     3.625087e+06  37.508961   126.891084        10    1  \n",
       "3     3.730178e+06  37.514692   127.104338        10    1  \n",
       "4     3.284806e+06  37.504856   127.048807        10    1  \n",
       "..             ...        ...          ...       ...  ...  \n",
       "149   4.318712e+06  37.484201   126.929715        10    1  \n",
       "150   3.284806e+06  37.504856   127.048807        10    1  \n",
       "151   2.513628e+06  37.540786   127.071011        10    1  \n",
       "152   3.712045e+06  37.508844   127.063160        10    1  \n",
       "153   2.986410e+06  37.566014   126.982618        10    1  \n",
       "\n",
       "[154 rows x 22 columns]"
      ]
     },
     "execution_count": 21,
     "metadata": {},
     "output_type": "execute_result"
    }
   ],
   "source": [
    "sb_data_n10_trendy"
   ]
  },
  {
   "cell_type": "code",
   "execution_count": 20,
   "id": "3da900f7",
   "metadata": {
    "collapsed": true
   },
   "outputs": [
    {
     "data": {
      "text/html": [
       "<div>\n",
       "<style scoped>\n",
       "    .dataframe tbody tr th:only-of-type {\n",
       "        vertical-align: middle;\n",
       "    }\n",
       "\n",
       "    .dataframe tbody tr th {\n",
       "        vertical-align: top;\n",
       "    }\n",
       "\n",
       "    .dataframe thead th {\n",
       "        text-align: right;\n",
       "    }\n",
       "</style>\n",
       "<table border=\"1\" class=\"dataframe\">\n",
       "  <thead>\n",
       "    <tr style=\"text-align: right;\">\n",
       "      <th></th>\n",
       "      <th>int64_field_0</th>\n",
       "      <th>licence_date</th>\n",
       "      <th>licence_cancel_date</th>\n",
       "      <th>status</th>\n",
       "      <th>close_date</th>\n",
       "      <th>location_number_address</th>\n",
       "      <th>street_name_address</th>\n",
       "      <th>store_name</th>\n",
       "      <th>category</th>\n",
       "      <th>longitude</th>\n",
       "      <th>latitude</th>\n",
       "      <th>business_area_name</th>\n",
       "      <th>multi_business</th>\n",
       "      <th>period</th>\n",
       "      <th>keyword</th>\n",
       "      <th>class</th>\n",
       "    </tr>\n",
       "  </thead>\n",
       "  <tbody>\n",
       "    <tr>\n",
       "      <th>0</th>\n",
       "      <td>1429128</td>\n",
       "      <td>2020-11-26</td>\n",
       "      <td>NaN</td>\n",
       "      <td>영업/정상</td>\n",
       "      <td>2023-11-21</td>\n",
       "      <td>서울특별시 양천구 신월동 986-8 용민아파트 1층 102호</td>\n",
       "      <td>서울특별시 양천구 지양로 25, 1층 102호 (신월동, 용민아파트)</td>\n",
       "      <td>네네치킨 봉구스밥버거 신월3점</td>\n",
       "      <td>기타</td>\n",
       "      <td>126.834006</td>\n",
       "      <td>37.518666</td>\n",
       "      <td>NaN</td>\n",
       "      <td>False</td>\n",
       "      <td>1090 days</td>\n",
       "      <td>밥버거</td>\n",
       "      <td>trendy</td>\n",
       "    </tr>\n",
       "    <tr>\n",
       "      <th>1</th>\n",
       "      <td>851497</td>\n",
       "      <td>2015-01-23</td>\n",
       "      <td>NaN</td>\n",
       "      <td>폐업</td>\n",
       "      <td>2017-02-22</td>\n",
       "      <td>서울특별시 송파구 마천동 126-7번지 지상1층</td>\n",
       "      <td>서울특별시 송파구 마천로41길 7, 지상1층 (마천동)</td>\n",
       "      <td>뚱스 밥버거</td>\n",
       "      <td>분식</td>\n",
       "      <td>127.145586</td>\n",
       "      <td>37.497264</td>\n",
       "      <td>NaN</td>\n",
       "      <td>False</td>\n",
       "      <td>761 days</td>\n",
       "      <td>밥버거</td>\n",
       "      <td>trendy</td>\n",
       "    </tr>\n",
       "    <tr>\n",
       "      <th>2</th>\n",
       "      <td>487707</td>\n",
       "      <td>2014-11-26</td>\n",
       "      <td>NaN</td>\n",
       "      <td>폐업</td>\n",
       "      <td>2017-07-04</td>\n",
       "      <td>서울특별시 관악구 봉천동 1718번지</td>\n",
       "      <td>서울특별시 관악구 은천로 93, 502동 1층 101호 (봉천동, 벽산블루밍)</td>\n",
       "      <td>봉구스밥버거 봉천벽산점</td>\n",
       "      <td>분식</td>\n",
       "      <td>126.941877</td>\n",
       "      <td>37.489288</td>\n",
       "      <td>NaN</td>\n",
       "      <td>False</td>\n",
       "      <td>951 days</td>\n",
       "      <td>밥버거</td>\n",
       "      <td>trendy</td>\n",
       "    </tr>\n",
       "    <tr>\n",
       "      <th>3</th>\n",
       "      <td>844598</td>\n",
       "      <td>2014-02-05</td>\n",
       "      <td>NaN</td>\n",
       "      <td>폐업</td>\n",
       "      <td>2019-08-26</td>\n",
       "      <td>서울특별시 서대문구 충정로2가 115-13번지 1층</td>\n",
       "      <td>서울특별시 서대문구 충정로 63, 1층 (충정로2가)</td>\n",
       "      <td>봉구스밥버거(서울경기대점)</td>\n",
       "      <td>분식</td>\n",
       "      <td>126.962493</td>\n",
       "      <td>37.564560</td>\n",
       "      <td>NaN</td>\n",
       "      <td>False</td>\n",
       "      <td>2028 days</td>\n",
       "      <td>밥버거</td>\n",
       "      <td>trendy</td>\n",
       "    </tr>\n",
       "    <tr>\n",
       "      <th>4</th>\n",
       "      <td>144111</td>\n",
       "      <td>2014-04-11</td>\n",
       "      <td>NaN</td>\n",
       "      <td>폐업</td>\n",
       "      <td>2019-01-08</td>\n",
       "      <td>서울특별시 구로구 천왕동 27번지 천왕이펜하우스 3단지 상가동 101호</td>\n",
       "      <td>서울특별시 구로구 천왕로 56 (천왕동, 천왕이펜하우스 3단지 상가동 101호)</td>\n",
       "      <td>뚱스밥버거 천왕점</td>\n",
       "      <td>분식</td>\n",
       "      <td>126.837279</td>\n",
       "      <td>37.482529</td>\n",
       "      <td>NaN</td>\n",
       "      <td>False</td>\n",
       "      <td>1733 days</td>\n",
       "      <td>밥버거</td>\n",
       "      <td>trendy</td>\n",
       "    </tr>\n",
       "    <tr>\n",
       "      <th>...</th>\n",
       "      <td>...</td>\n",
       "      <td>...</td>\n",
       "      <td>...</td>\n",
       "      <td>...</td>\n",
       "      <td>...</td>\n",
       "      <td>...</td>\n",
       "      <td>...</td>\n",
       "      <td>...</td>\n",
       "      <td>...</td>\n",
       "      <td>...</td>\n",
       "      <td>...</td>\n",
       "      <td>...</td>\n",
       "      <td>...</td>\n",
       "      <td>...</td>\n",
       "      <td>...</td>\n",
       "      <td>...</td>\n",
       "    </tr>\n",
       "    <tr>\n",
       "      <th>474</th>\n",
       "      <td>2403010</td>\n",
       "      <td>2019-01-25</td>\n",
       "      <td>NaN</td>\n",
       "      <td>폐업</td>\n",
       "      <td>2023-02-06</td>\n",
       "      <td>서울특별시 강북구 미아동 1364</td>\n",
       "      <td>서울특별시 강북구 도봉로 52, 1층 (미아동)</td>\n",
       "      <td>쥬씨 미아와이스퀘어점</td>\n",
       "      <td>기타 휴게음식점</td>\n",
       "      <td>127.027624</td>\n",
       "      <td>37.613701</td>\n",
       "      <td>NaN</td>\n",
       "      <td>False</td>\n",
       "      <td>1473 days</td>\n",
       "      <td>쥬씨</td>\n",
       "      <td>trendy</td>\n",
       "    </tr>\n",
       "    <tr>\n",
       "      <th>475</th>\n",
       "      <td>2355921</td>\n",
       "      <td>2014-05-21</td>\n",
       "      <td>NaN</td>\n",
       "      <td>폐업</td>\n",
       "      <td>2016-02-15</td>\n",
       "      <td>서울특별시 양천구 목동 405-300번지 상가1층3호</td>\n",
       "      <td>서울특별시 양천구 오목로54길 1, 1층 상가3호 (목동)</td>\n",
       "      <td>뚱스밥버거목동1호점</td>\n",
       "      <td>기타 휴게음식점</td>\n",
       "      <td>126.870570</td>\n",
       "      <td>37.524244</td>\n",
       "      <td>NaN</td>\n",
       "      <td>False</td>\n",
       "      <td>635 days</td>\n",
       "      <td>밥버거</td>\n",
       "      <td>trendy</td>\n",
       "    </tr>\n",
       "    <tr>\n",
       "      <th>476</th>\n",
       "      <td>2566377</td>\n",
       "      <td>2016-07-06</td>\n",
       "      <td>NaN</td>\n",
       "      <td>영업/정상</td>\n",
       "      <td>2023-11-21</td>\n",
       "      <td>서울특별시 용산구 보광동 231-43번지 1층</td>\n",
       "      <td>서울특별시 용산구 보광로 45, 1층 (보광동)</td>\n",
       "      <td>쥬씨(보광점)</td>\n",
       "      <td>기타 휴게음식점</td>\n",
       "      <td>126.996053</td>\n",
       "      <td>37.528102</td>\n",
       "      <td>NaN</td>\n",
       "      <td>False</td>\n",
       "      <td>2694 days</td>\n",
       "      <td>쥬씨</td>\n",
       "      <td>trendy</td>\n",
       "    </tr>\n",
       "    <tr>\n",
       "      <th>477</th>\n",
       "      <td>2590183</td>\n",
       "      <td>2018-06-27</td>\n",
       "      <td>NaN</td>\n",
       "      <td>영업/정상</td>\n",
       "      <td>2023-11-21</td>\n",
       "      <td>서울특별시 마포구 도화동 563번지 마포아크로타워</td>\n",
       "      <td>서울특별시 마포구 마포대로 68, 1층 111호 (도화동, 마포아크로타워)</td>\n",
       "      <td>홍루이젠 마포역점</td>\n",
       "      <td>기타 휴게음식점</td>\n",
       "      <td>126.946100</td>\n",
       "      <td>37.541336</td>\n",
       "      <td>NaN</td>\n",
       "      <td>False</td>\n",
       "      <td>1973 days</td>\n",
       "      <td>홍루이젠</td>\n",
       "      <td>trendy</td>\n",
       "    </tr>\n",
       "    <tr>\n",
       "      <th>478</th>\n",
       "      <td>2459237</td>\n",
       "      <td>2017-01-06</td>\n",
       "      <td>NaN</td>\n",
       "      <td>영업/정상</td>\n",
       "      <td>2023-11-21</td>\n",
       "      <td>서울특별시 노원구 상계동 716번지 105호</td>\n",
       "      <td>서울특별시 노원구 노해로 485, 105호 (상계동)</td>\n",
       "      <td>따호카스테라</td>\n",
       "      <td>기타 휴게음식점</td>\n",
       "      <td>127.059045</td>\n",
       "      <td>37.654874</td>\n",
       "      <td>NaN</td>\n",
       "      <td>False</td>\n",
       "      <td>2510 days</td>\n",
       "      <td>카스테라</td>\n",
       "      <td>trendy</td>\n",
       "    </tr>\n",
       "  </tbody>\n",
       "</table>\n",
       "<p>479 rows × 16 columns</p>\n",
       "</div>"
      ],
      "text/plain": [
       "     int64_field_0 licence_date  licence_cancel_date status  close_date  \\\n",
       "0          1429128   2020-11-26                  NaN  영업/정상  2023-11-21   \n",
       "1           851497   2015-01-23                  NaN     폐업  2017-02-22   \n",
       "2           487707   2014-11-26                  NaN     폐업  2017-07-04   \n",
       "3           844598   2014-02-05                  NaN     폐업  2019-08-26   \n",
       "4           144111   2014-04-11                  NaN     폐업  2019-01-08   \n",
       "..             ...          ...                  ...    ...         ...   \n",
       "474        2403010   2019-01-25                  NaN     폐업  2023-02-06   \n",
       "475        2355921   2014-05-21                  NaN     폐업  2016-02-15   \n",
       "476        2566377   2016-07-06                  NaN  영업/정상  2023-11-21   \n",
       "477        2590183   2018-06-27                  NaN  영업/정상  2023-11-21   \n",
       "478        2459237   2017-01-06                  NaN  영업/정상  2023-11-21   \n",
       "\n",
       "                     location_number_address  \\\n",
       "0          서울특별시 양천구 신월동 986-8 용민아파트 1층 102호   \n",
       "1                 서울특별시 송파구 마천동 126-7번지 지상1층   \n",
       "2                       서울특별시 관악구 봉천동 1718번지   \n",
       "3               서울특별시 서대문구 충정로2가 115-13번지 1층   \n",
       "4    서울특별시 구로구 천왕동 27번지 천왕이펜하우스 3단지 상가동 101호   \n",
       "..                                       ...   \n",
       "474                       서울특별시 강북구 미아동 1364   \n",
       "475            서울특별시 양천구 목동 405-300번지 상가1층3호   \n",
       "476                서울특별시 용산구 보광동 231-43번지 1층   \n",
       "477              서울특별시 마포구 도화동 563번지 마포아크로타워   \n",
       "478                 서울특별시 노원구 상계동 716번지 105호   \n",
       "\n",
       "                              street_name_address        store_name  category  \\\n",
       "0          서울특별시 양천구 지양로 25, 1층 102호 (신월동, 용민아파트)  네네치킨 봉구스밥버거 신월3점        기타   \n",
       "1                  서울특별시 송파구 마천로41길 7, 지상1층 (마천동)            뚱스 밥버거        분식   \n",
       "2     서울특별시 관악구 은천로 93, 502동 1층 101호 (봉천동, 벽산블루밍)      봉구스밥버거 봉천벽산점        분식   \n",
       "3                   서울특별시 서대문구 충정로 63, 1층 (충정로2가)    봉구스밥버거(서울경기대점)        분식   \n",
       "4    서울특별시 구로구 천왕로 56 (천왕동, 천왕이펜하우스 3단지 상가동 101호)         뚱스밥버거 천왕점        분식   \n",
       "..                                            ...               ...       ...   \n",
       "474                    서울특별시 강북구 도봉로 52, 1층 (미아동)       쥬씨 미아와이스퀘어점  기타 휴게음식점   \n",
       "475              서울특별시 양천구 오목로54길 1, 1층 상가3호 (목동)        뚱스밥버거목동1호점  기타 휴게음식점   \n",
       "476                    서울특별시 용산구 보광로 45, 1층 (보광동)           쥬씨(보광점)  기타 휴게음식점   \n",
       "477     서울특별시 마포구 마포대로 68, 1층 111호 (도화동, 마포아크로타워)         홍루이젠 마포역점  기타 휴게음식점   \n",
       "478                 서울특별시 노원구 노해로 485, 105호 (상계동)            따호카스테라  기타 휴게음식점   \n",
       "\n",
       "      longitude   latitude business_area_name  multi_business     period  \\\n",
       "0    126.834006  37.518666                NaN           False  1090 days   \n",
       "1    127.145586  37.497264                NaN           False   761 days   \n",
       "2    126.941877  37.489288                NaN           False   951 days   \n",
       "3    126.962493  37.564560                NaN           False  2028 days   \n",
       "4    126.837279  37.482529                NaN           False  1733 days   \n",
       "..          ...        ...                ...             ...        ...   \n",
       "474  127.027624  37.613701                NaN           False  1473 days   \n",
       "475  126.870570  37.524244                NaN           False   635 days   \n",
       "476  126.996053  37.528102                NaN           False  2694 days   \n",
       "477  126.946100  37.541336                NaN           False  1973 days   \n",
       "478  127.059045  37.654874                NaN           False  2510 days   \n",
       "\n",
       "    keyword   class  \n",
       "0       밥버거  trendy  \n",
       "1       밥버거  trendy  \n",
       "2       밥버거  trendy  \n",
       "3       밥버거  trendy  \n",
       "4       밥버거  trendy  \n",
       "..      ...     ...  \n",
       "474      쥬씨  trendy  \n",
       "475     밥버거  trendy  \n",
       "476      쥬씨  trendy  \n",
       "477    홍루이젠  trendy  \n",
       "478    카스테라  trendy  \n",
       "\n",
       "[479 rows x 16 columns]"
      ]
     },
     "execution_count": 20,
     "metadata": {},
     "output_type": "execute_result"
    }
   ],
   "source": [
    "sb_data_not_n10_trendy"
   ]
  },
  {
   "cell_type": "code",
   "execution_count": 357,
   "id": "4ecfe7ae",
   "metadata": {},
   "outputs": [],
   "source": [
    "test = sb_data_n10[['name', 'latitude_1', 'longitude_1']].drop_duplicates(['latitude_1']).reset_index(drop=True)"
   ]
  },
  {
   "cell_type": "code",
   "execution_count": 325,
   "id": "f294d32a",
   "metadata": {
    "collapsed": true
   },
   "outputs": [
    {
     "data": {
      "text/html": [
       "<div>\n",
       "<style scoped>\n",
       "    .dataframe tbody tr th:only-of-type {\n",
       "        vertical-align: middle;\n",
       "    }\n",
       "\n",
       "    .dataframe tbody tr th {\n",
       "        vertical-align: top;\n",
       "    }\n",
       "\n",
       "    .dataframe thead th {\n",
       "        text-align: right;\n",
       "    }\n",
       "</style>\n",
       "<table border=\"1\" class=\"dataframe\">\n",
       "  <thead>\n",
       "    <tr style=\"text-align: right;\">\n",
       "      <th></th>\n",
       "      <th>name</th>\n",
       "      <th>latitude_1</th>\n",
       "      <th>longitude_1</th>\n",
       "    </tr>\n",
       "  </thead>\n",
       "  <tbody>\n",
       "    <tr>\n",
       "      <th>0</th>\n",
       "      <td>압구정</td>\n",
       "      <td>37.527072</td>\n",
       "      <td>127.028461</td>\n",
       "    </tr>\n",
       "    <tr>\n",
       "      <th>1</th>\n",
       "      <td>서울대입구</td>\n",
       "      <td>37.481247</td>\n",
       "      <td>126.952739</td>\n",
       "    </tr>\n",
       "    <tr>\n",
       "      <th>2</th>\n",
       "      <td>회현</td>\n",
       "      <td>37.558514</td>\n",
       "      <td>126.978246</td>\n",
       "    </tr>\n",
       "    <tr>\n",
       "      <th>3</th>\n",
       "      <td>가산디지털단지</td>\n",
       "      <td>37.480338</td>\n",
       "      <td>126.882656</td>\n",
       "    </tr>\n",
       "    <tr>\n",
       "      <th>4</th>\n",
       "      <td>동대문</td>\n",
       "      <td>37.570930</td>\n",
       "      <td>127.009287</td>\n",
       "    </tr>\n",
       "    <tr>\n",
       "      <th>5</th>\n",
       "      <td>대림</td>\n",
       "      <td>37.493243</td>\n",
       "      <td>126.894932</td>\n",
       "    </tr>\n",
       "    <tr>\n",
       "      <th>6</th>\n",
       "      <td>신도림</td>\n",
       "      <td>37.508961</td>\n",
       "      <td>126.891084</td>\n",
       "    </tr>\n",
       "    <tr>\n",
       "      <th>7</th>\n",
       "      <td>충무로</td>\n",
       "      <td>37.561207</td>\n",
       "      <td>126.994080</td>\n",
       "    </tr>\n",
       "    <tr>\n",
       "      <th>8</th>\n",
       "      <td>교대</td>\n",
       "      <td>37.493961</td>\n",
       "      <td>127.014667</td>\n",
       "    </tr>\n",
       "    <tr>\n",
       "      <th>9</th>\n",
       "      <td>신림</td>\n",
       "      <td>37.484201</td>\n",
       "      <td>126.929715</td>\n",
       "    </tr>\n",
       "    <tr>\n",
       "      <th>10</th>\n",
       "      <td>강남</td>\n",
       "      <td>37.496837</td>\n",
       "      <td>127.028104</td>\n",
       "    </tr>\n",
       "    <tr>\n",
       "      <th>11</th>\n",
       "      <td>오목교</td>\n",
       "      <td>37.524496</td>\n",
       "      <td>126.875181</td>\n",
       "    </tr>\n",
       "    <tr>\n",
       "      <th>12</th>\n",
       "      <td>연신내</td>\n",
       "      <td>37.619229</td>\n",
       "      <td>126.921038</td>\n",
       "    </tr>\n",
       "    <tr>\n",
       "      <th>13</th>\n",
       "      <td>사당</td>\n",
       "      <td>37.476538</td>\n",
       "      <td>126.981544</td>\n",
       "    </tr>\n",
       "    <tr>\n",
       "      <th>14</th>\n",
       "      <td>명동</td>\n",
       "      <td>37.560989</td>\n",
       "      <td>126.986325</td>\n",
       "    </tr>\n",
       "    <tr>\n",
       "      <th>15</th>\n",
       "      <td>선릉</td>\n",
       "      <td>37.504856</td>\n",
       "      <td>127.048807</td>\n",
       "    </tr>\n",
       "    <tr>\n",
       "      <th>16</th>\n",
       "      <td>을지로입구</td>\n",
       "      <td>37.566014</td>\n",
       "      <td>126.982618</td>\n",
       "    </tr>\n",
       "    <tr>\n",
       "      <th>17</th>\n",
       "      <td>건대입구</td>\n",
       "      <td>37.540786</td>\n",
       "      <td>127.071011</td>\n",
       "    </tr>\n",
       "    <tr>\n",
       "      <th>18</th>\n",
       "      <td>신사</td>\n",
       "      <td>37.516334</td>\n",
       "      <td>127.020114</td>\n",
       "    </tr>\n",
       "    <tr>\n",
       "      <th>19</th>\n",
       "      <td>까치산</td>\n",
       "      <td>37.531768</td>\n",
       "      <td>126.846683</td>\n",
       "    </tr>\n",
       "    <tr>\n",
       "      <th>20</th>\n",
       "      <td>미아사거리</td>\n",
       "      <td>37.613292</td>\n",
       "      <td>127.030053</td>\n",
       "    </tr>\n",
       "    <tr>\n",
       "      <th>21</th>\n",
       "      <td>구로디지털단지</td>\n",
       "      <td>37.485266</td>\n",
       "      <td>126.901401</td>\n",
       "    </tr>\n",
       "    <tr>\n",
       "      <th>22</th>\n",
       "      <td>홍대입구</td>\n",
       "      <td>37.557641</td>\n",
       "      <td>126.926683</td>\n",
       "    </tr>\n",
       "    <tr>\n",
       "      <th>23</th>\n",
       "      <td>잠실</td>\n",
       "      <td>37.514692</td>\n",
       "      <td>127.104338</td>\n",
       "    </tr>\n",
       "    <tr>\n",
       "      <th>24</th>\n",
       "      <td>노원</td>\n",
       "      <td>37.654836</td>\n",
       "      <td>127.060462</td>\n",
       "    </tr>\n",
       "    <tr>\n",
       "      <th>25</th>\n",
       "      <td>신촌</td>\n",
       "      <td>37.559733</td>\n",
       "      <td>126.942597</td>\n",
       "    </tr>\n",
       "    <tr>\n",
       "      <th>26</th>\n",
       "      <td>수유</td>\n",
       "      <td>37.638052</td>\n",
       "      <td>127.025732</td>\n",
       "    </tr>\n",
       "    <tr>\n",
       "      <th>27</th>\n",
       "      <td>혜화</td>\n",
       "      <td>37.582336</td>\n",
       "      <td>127.001844</td>\n",
       "    </tr>\n",
       "    <tr>\n",
       "      <th>28</th>\n",
       "      <td>청량리</td>\n",
       "      <td>37.579956</td>\n",
       "      <td>127.044585</td>\n",
       "    </tr>\n",
       "    <tr>\n",
       "      <th>29</th>\n",
       "      <td>서울역</td>\n",
       "      <td>37.553247</td>\n",
       "      <td>126.969769</td>\n",
       "    </tr>\n",
       "    <tr>\n",
       "      <th>30</th>\n",
       "      <td>낙성대</td>\n",
       "      <td>37.476930</td>\n",
       "      <td>126.963693</td>\n",
       "    </tr>\n",
       "    <tr>\n",
       "      <th>31</th>\n",
       "      <td>고속터미널</td>\n",
       "      <td>37.505980</td>\n",
       "      <td>127.004403</td>\n",
       "    </tr>\n",
       "    <tr>\n",
       "      <th>32</th>\n",
       "      <td>천호</td>\n",
       "      <td>37.538113</td>\n",
       "      <td>127.123254</td>\n",
       "    </tr>\n",
       "    <tr>\n",
       "      <th>33</th>\n",
       "      <td>신대방</td>\n",
       "      <td>37.487462</td>\n",
       "      <td>126.913149</td>\n",
       "    </tr>\n",
       "    <tr>\n",
       "      <th>34</th>\n",
       "      <td>화곡</td>\n",
       "      <td>37.541513</td>\n",
       "      <td>126.840461</td>\n",
       "    </tr>\n",
       "    <tr>\n",
       "      <th>35</th>\n",
       "      <td>성수</td>\n",
       "      <td>37.544581</td>\n",
       "      <td>127.055961</td>\n",
       "    </tr>\n",
       "    <tr>\n",
       "      <th>36</th>\n",
       "      <td>강변</td>\n",
       "      <td>37.535095</td>\n",
       "      <td>127.094681</td>\n",
       "    </tr>\n",
       "    <tr>\n",
       "      <th>37</th>\n",
       "      <td>삼성</td>\n",
       "      <td>37.508844</td>\n",
       "      <td>127.063160</td>\n",
       "    </tr>\n",
       "    <tr>\n",
       "      <th>38</th>\n",
       "      <td>쌍문</td>\n",
       "      <td>37.648627</td>\n",
       "      <td>127.034709</td>\n",
       "    </tr>\n",
       "    <tr>\n",
       "      <th>39</th>\n",
       "      <td>합정</td>\n",
       "      <td>37.549209</td>\n",
       "      <td>126.913366</td>\n",
       "    </tr>\n",
       "    <tr>\n",
       "      <th>40</th>\n",
       "      <td>남부터미널</td>\n",
       "      <td>37.485013</td>\n",
       "      <td>127.016189</td>\n",
       "    </tr>\n",
       "    <tr>\n",
       "      <th>41</th>\n",
       "      <td>양재</td>\n",
       "      <td>37.484477</td>\n",
       "      <td>127.033902</td>\n",
       "    </tr>\n",
       "    <tr>\n",
       "      <th>42</th>\n",
       "      <td>창동</td>\n",
       "      <td>37.653088</td>\n",
       "      <td>127.047274</td>\n",
       "    </tr>\n",
       "    <tr>\n",
       "      <th>43</th>\n",
       "      <td>시청</td>\n",
       "      <td>37.565715</td>\n",
       "      <td>126.977088</td>\n",
       "    </tr>\n",
       "    <tr>\n",
       "      <th>44</th>\n",
       "      <td>역삼</td>\n",
       "      <td>37.500622</td>\n",
       "      <td>127.036456</td>\n",
       "    </tr>\n",
       "    <tr>\n",
       "      <th>45</th>\n",
       "      <td>광명사거리</td>\n",
       "      <td>37.479252</td>\n",
       "      <td>126.854876</td>\n",
       "    </tr>\n",
       "  </tbody>\n",
       "</table>\n",
       "</div>"
      ],
      "text/plain": [
       "       name  latitude_1  longitude_1\n",
       "0       압구정   37.527072   127.028461\n",
       "1     서울대입구   37.481247   126.952739\n",
       "2        회현   37.558514   126.978246\n",
       "3   가산디지털단지   37.480338   126.882656\n",
       "4       동대문   37.570930   127.009287\n",
       "5        대림   37.493243   126.894932\n",
       "6       신도림   37.508961   126.891084\n",
       "7       충무로   37.561207   126.994080\n",
       "8        교대   37.493961   127.014667\n",
       "9        신림   37.484201   126.929715\n",
       "10       강남   37.496837   127.028104\n",
       "11      오목교   37.524496   126.875181\n",
       "12      연신내   37.619229   126.921038\n",
       "13       사당   37.476538   126.981544\n",
       "14       명동   37.560989   126.986325\n",
       "15       선릉   37.504856   127.048807\n",
       "16    을지로입구   37.566014   126.982618\n",
       "17     건대입구   37.540786   127.071011\n",
       "18       신사   37.516334   127.020114\n",
       "19      까치산   37.531768   126.846683\n",
       "20    미아사거리   37.613292   127.030053\n",
       "21  구로디지털단지   37.485266   126.901401\n",
       "22     홍대입구   37.557641   126.926683\n",
       "23       잠실   37.514692   127.104338\n",
       "24       노원   37.654836   127.060462\n",
       "25       신촌   37.559733   126.942597\n",
       "26       수유   37.638052   127.025732\n",
       "27       혜화   37.582336   127.001844\n",
       "28      청량리   37.579956   127.044585\n",
       "29      서울역   37.553247   126.969769\n",
       "30      낙성대   37.476930   126.963693\n",
       "31    고속터미널   37.505980   127.004403\n",
       "32       천호   37.538113   127.123254\n",
       "33      신대방   37.487462   126.913149\n",
       "34       화곡   37.541513   126.840461\n",
       "35       성수   37.544581   127.055961\n",
       "36       강변   37.535095   127.094681\n",
       "37       삼성   37.508844   127.063160\n",
       "38       쌍문   37.648627   127.034709\n",
       "39       합정   37.549209   126.913366\n",
       "40    남부터미널   37.485013   127.016189\n",
       "41       양재   37.484477   127.033902\n",
       "42       창동   37.653088   127.047274\n",
       "43       시청   37.565715   126.977088\n",
       "44       역삼   37.500622   127.036456\n",
       "45    광명사거리   37.479252   126.854876"
      ]
     },
     "execution_count": 325,
     "metadata": {},
     "output_type": "execute_result"
    }
   ],
   "source": [
    "test"
   ]
  },
  {
   "cell_type": "code",
   "execution_count": 94,
   "id": "c568f0dc",
   "metadata": {
    "collapsed": true
   },
   "outputs": [
    {
     "data": {
      "text/html": [
       "<div>\n",
       "<style scoped>\n",
       "    .dataframe tbody tr th:only-of-type {\n",
       "        vertical-align: middle;\n",
       "    }\n",
       "\n",
       "    .dataframe tbody tr th {\n",
       "        vertical-align: top;\n",
       "    }\n",
       "\n",
       "    .dataframe thead th {\n",
       "        text-align: right;\n",
       "    }\n",
       "</style>\n",
       "<table border=\"1\" class=\"dataframe\">\n",
       "  <thead>\n",
       "    <tr style=\"text-align: right;\">\n",
       "      <th></th>\n",
       "      <th>name</th>\n",
       "      <th>latitude_1</th>\n",
       "      <th>longitude_1</th>\n",
       "    </tr>\n",
       "  </thead>\n",
       "  <tbody>\n",
       "    <tr>\n",
       "      <th>0</th>\n",
       "      <td>을지로입구</td>\n",
       "      <td>37.566014</td>\n",
       "      <td>126.982618</td>\n",
       "    </tr>\n",
       "    <tr>\n",
       "      <th>1</th>\n",
       "      <td>홍대입구</td>\n",
       "      <td>37.557641</td>\n",
       "      <td>126.926683</td>\n",
       "    </tr>\n",
       "    <tr>\n",
       "      <th>2</th>\n",
       "      <td>혜화</td>\n",
       "      <td>37.582336</td>\n",
       "      <td>127.001844</td>\n",
       "    </tr>\n",
       "    <tr>\n",
       "      <th>3</th>\n",
       "      <td>서울대입구</td>\n",
       "      <td>37.481247</td>\n",
       "      <td>126.952739</td>\n",
       "    </tr>\n",
       "    <tr>\n",
       "      <th>4</th>\n",
       "      <td>수유</td>\n",
       "      <td>37.638052</td>\n",
       "      <td>127.025732</td>\n",
       "    </tr>\n",
       "    <tr>\n",
       "      <th>...</th>\n",
       "      <td>...</td>\n",
       "      <td>...</td>\n",
       "      <td>...</td>\n",
       "    </tr>\n",
       "    <tr>\n",
       "      <th>436</th>\n",
       "      <td>잠실</td>\n",
       "      <td>37.514692</td>\n",
       "      <td>127.104338</td>\n",
       "    </tr>\n",
       "    <tr>\n",
       "      <th>437</th>\n",
       "      <td>서울대입구</td>\n",
       "      <td>37.481247</td>\n",
       "      <td>126.952739</td>\n",
       "    </tr>\n",
       "    <tr>\n",
       "      <th>438</th>\n",
       "      <td>서울대입구</td>\n",
       "      <td>37.481247</td>\n",
       "      <td>126.952739</td>\n",
       "    </tr>\n",
       "    <tr>\n",
       "      <th>439</th>\n",
       "      <td>수유</td>\n",
       "      <td>37.638052</td>\n",
       "      <td>127.025732</td>\n",
       "    </tr>\n",
       "    <tr>\n",
       "      <th>440</th>\n",
       "      <td>건대입구</td>\n",
       "      <td>37.540786</td>\n",
       "      <td>127.071011</td>\n",
       "    </tr>\n",
       "  </tbody>\n",
       "</table>\n",
       "<p>441 rows × 3 columns</p>\n",
       "</div>"
      ],
      "text/plain": [
       "      name  latitude_1  longitude_1\n",
       "0    을지로입구   37.566014   126.982618\n",
       "1     홍대입구   37.557641   126.926683\n",
       "2       혜화   37.582336   127.001844\n",
       "3    서울대입구   37.481247   126.952739\n",
       "4       수유   37.638052   127.025732\n",
       "..     ...         ...          ...\n",
       "436     잠실   37.514692   127.104338\n",
       "437  서울대입구   37.481247   126.952739\n",
       "438  서울대입구   37.481247   126.952739\n",
       "439     수유   37.638052   127.025732\n",
       "440   건대입구   37.540786   127.071011\n",
       "\n",
       "[441 rows x 3 columns]"
      ]
     },
     "execution_count": 94,
     "metadata": {},
     "output_type": "execute_result"
    }
   ],
   "source": [
    "sb_data_n10_steady[['name', 'latitude_1', 'longitude_1']]"
   ]
  },
  {
   "cell_type": "code",
   "execution_count": 364,
   "id": "2a5539a3",
   "metadata": {},
   "outputs": [],
   "source": [
    "temp=pd.concat([sb_data_n10, sb_data_not_n10], axis=0)"
   ]
  },
  {
   "cell_type": "code",
   "execution_count": 368,
   "id": "0e53bcf3",
   "metadata": {},
   "outputs": [
    {
     "data": {
      "text/html": [
       "<div>\n",
       "<style scoped>\n",
       "    .dataframe tbody tr th:only-of-type {\n",
       "        vertical-align: middle;\n",
       "    }\n",
       "\n",
       "    .dataframe tbody tr th {\n",
       "        vertical-align: top;\n",
       "    }\n",
       "\n",
       "    .dataframe thead th {\n",
       "        text-align: right;\n",
       "    }\n",
       "</style>\n",
       "<table border=\"1\" class=\"dataframe\">\n",
       "  <thead>\n",
       "    <tr style=\"text-align: right;\">\n",
       "      <th></th>\n",
       "      <th>store_name</th>\n",
       "      <th>latitude</th>\n",
       "      <th>longitude</th>\n",
       "    </tr>\n",
       "  </thead>\n",
       "  <tbody>\n",
       "    <tr>\n",
       "      <th>0</th>\n",
       "      <td>단수이대왕카스테라 신도림디큐브점</td>\n",
       "      <td>37.508585</td>\n",
       "      <td>126.886008</td>\n",
       "    </tr>\n",
       "    <tr>\n",
       "      <th>1</th>\n",
       "      <td>불닭발동대문엽기떡볶이 신림점</td>\n",
       "      <td>37.487007</td>\n",
       "      <td>126.924394</td>\n",
       "    </tr>\n",
       "    <tr>\n",
       "      <th>2</th>\n",
       "      <td>(주)공차코리아(글라스타워점)</td>\n",
       "      <td>37.499033</td>\n",
       "      <td>127.024775</td>\n",
       "    </tr>\n",
       "    <tr>\n",
       "      <th>4</th>\n",
       "      <td>공차 낙성대역점</td>\n",
       "      <td>37.478222</td>\n",
       "      <td>126.958480</td>\n",
       "    </tr>\n",
       "    <tr>\n",
       "      <th>5</th>\n",
       "      <td>봉구스밥버거 연세대점</td>\n",
       "      <td>37.558861</td>\n",
       "      <td>126.933582</td>\n",
       "    </tr>\n",
       "    <tr>\n",
       "      <th>...</th>\n",
       "      <td>...</td>\n",
       "      <td>...</td>\n",
       "      <td>...</td>\n",
       "    </tr>\n",
       "    <tr>\n",
       "      <th>1976</th>\n",
       "      <td>따호카스테라</td>\n",
       "      <td>37.654874</td>\n",
       "      <td>127.059045</td>\n",
       "    </tr>\n",
       "    <tr>\n",
       "      <th>1977</th>\n",
       "      <td>공차 (전농동 사거리점)</td>\n",
       "      <td>37.577514</td>\n",
       "      <td>127.054318</td>\n",
       "    </tr>\n",
       "    <tr>\n",
       "      <th>1979</th>\n",
       "      <td>공차 동대문종합시장점</td>\n",
       "      <td>37.570174</td>\n",
       "      <td>127.005315</td>\n",
       "    </tr>\n",
       "    <tr>\n",
       "      <th>1980</th>\n",
       "      <td>공차왕십리역사점</td>\n",
       "      <td>37.561289</td>\n",
       "      <td>127.035492</td>\n",
       "    </tr>\n",
       "    <tr>\n",
       "      <th>1981</th>\n",
       "      <td>삼국마라탕양꼬치</td>\n",
       "      <td>37.481702</td>\n",
       "      <td>126.881989</td>\n",
       "    </tr>\n",
       "  </tbody>\n",
       "</table>\n",
       "<p>2033 rows × 3 columns</p>\n",
       "</div>"
      ],
      "text/plain": [
       "             store_name   latitude   longitude\n",
       "0     단수이대왕카스테라 신도림디큐브점  37.508585  126.886008\n",
       "1       불닭발동대문엽기떡볶이 신림점  37.487007  126.924394\n",
       "2      (주)공차코리아(글라스타워점)  37.499033  127.024775\n",
       "4              공차 낙성대역점  37.478222  126.958480\n",
       "5           봉구스밥버거 연세대점  37.558861  126.933582\n",
       "...                 ...        ...         ...\n",
       "1976             따호카스테라  37.654874  127.059045\n",
       "1977      공차 (전농동 사거리점)  37.577514  127.054318\n",
       "1979        공차 동대문종합시장점  37.570174  127.005315\n",
       "1980           공차왕십리역사점  37.561289  127.035492\n",
       "1981           삼국마라탕양꼬치  37.481702  126.881989\n",
       "\n",
       "[2033 rows x 3 columns]"
      ]
     },
     "execution_count": 368,
     "metadata": {},
     "output_type": "execute_result"
    }
   ],
   "source": [
    "temp[temp['class']!='tang'][['store_name', 'latitude', 'longitude']]"
   ]
  },
  {
   "cell_type": "code",
   "execution_count": null,
   "id": "5b59a111",
   "metadata": {},
   "outputs": [],
   "source": []
  },
  {
   "cell_type": "code",
   "execution_count": null,
   "id": "f16a6039",
   "metadata": {},
   "outputs": [],
   "source": []
  },
  {
   "cell_type": "code",
   "execution_count": null,
   "id": "182fbd06",
   "metadata": {},
   "outputs": [],
   "source": []
  },
  {
   "cell_type": "code",
   "execution_count": 391,
   "id": "fc048bed",
   "metadata": {},
   "outputs": [],
   "source": [
    "map_center = [37.5, 126.95]  # 서울 중심 좌표\n",
    "m = folium.Map(location=map_center, zoom_start=12)"
   ]
  },
  {
   "cell_type": "code",
   "execution_count": 371,
   "id": "a414e210",
   "metadata": {},
   "outputs": [],
   "source": [
    "for index, location in test.iterrows():\n",
    "    folium.Marker(location=[location['latitude_1'], location['longitude_1']], popup=location['name']).add_to(m)\n",
    "    Circle(\n",
    "        location=[location['latitude_1'], location['longitude_1']],\n",
    "        radius=1000,\n",
    "        color='black',\n",
    "        fill=True,\n",
    "        fill_color='white',  # 원 안은 흰색으로 설정하여 밝게 표시\n",
    "        fill_opacity=0.6,\n",
    "    ).add_to(m)"
   ]
  },
  {
   "cell_type": "code",
   "execution_count": 360,
   "id": "18ea2487",
   "metadata": {
    "collapsed": true
   },
   "outputs": [
    {
     "data": {
      "text/html": [
       "<div style=\"width:100%;\"><div style=\"position:relative;width:100%;height:0;padding-bottom:60%;\"><span style=\"color:#565656\">Make this Notebook Trusted to load map: File -> Trust Notebook</span><iframe srcdoc=\"&lt;!DOCTYPE html&gt;\n",
       "&lt;html&gt;\n",
       "&lt;head&gt;\n",
       "    \n",
       "    &lt;meta http-equiv=&quot;content-type&quot; content=&quot;text/html; charset=UTF-8&quot; /&gt;\n",
       "    \n",
       "        &lt;script&gt;\n",
       "            L_NO_TOUCH = false;\n",
       "            L_DISABLE_3D = false;\n",
       "        &lt;/script&gt;\n",
       "    \n",
       "    &lt;style&gt;html, body {width: 100%;height: 100%;margin: 0;padding: 0;}&lt;/style&gt;\n",
       "    &lt;style&gt;#map {position:absolute;top:0;bottom:0;right:0;left:0;}&lt;/style&gt;\n",
       "    &lt;script src=&quot;https://cdn.jsdelivr.net/npm/leaflet@1.9.3/dist/leaflet.js&quot;&gt;&lt;/script&gt;\n",
       "    &lt;script src=&quot;https://code.jquery.com/jquery-3.7.1.min.js&quot;&gt;&lt;/script&gt;\n",
       "    &lt;script src=&quot;https://cdn.jsdelivr.net/npm/bootstrap@5.2.2/dist/js/bootstrap.bundle.min.js&quot;&gt;&lt;/script&gt;\n",
       "    &lt;script src=&quot;https://cdnjs.cloudflare.com/ajax/libs/Leaflet.awesome-markers/2.0.2/leaflet.awesome-markers.js&quot;&gt;&lt;/script&gt;\n",
       "    &lt;link rel=&quot;stylesheet&quot; href=&quot;https://cdn.jsdelivr.net/npm/leaflet@1.9.3/dist/leaflet.css&quot;/&gt;\n",
       "    &lt;link rel=&quot;stylesheet&quot; href=&quot;https://cdn.jsdelivr.net/npm/bootstrap@5.2.2/dist/css/bootstrap.min.css&quot;/&gt;\n",
       "    &lt;link rel=&quot;stylesheet&quot; href=&quot;https://netdna.bootstrapcdn.com/bootstrap/3.0.0/css/bootstrap.min.css&quot;/&gt;\n",
       "    &lt;link rel=&quot;stylesheet&quot; href=&quot;https://cdn.jsdelivr.net/npm/@fortawesome/fontawesome-free@6.2.0/css/all.min.css&quot;/&gt;\n",
       "    &lt;link rel=&quot;stylesheet&quot; href=&quot;https://cdnjs.cloudflare.com/ajax/libs/Leaflet.awesome-markers/2.0.2/leaflet.awesome-markers.css&quot;/&gt;\n",
       "    &lt;link rel=&quot;stylesheet&quot; href=&quot;https://cdn.jsdelivr.net/gh/python-visualization/folium/folium/templates/leaflet.awesome.rotate.min.css&quot;/&gt;\n",
       "    \n",
       "            &lt;meta name=&quot;viewport&quot; content=&quot;width=device-width,\n",
       "                initial-scale=1.0, maximum-scale=1.0, user-scalable=no&quot; /&gt;\n",
       "            &lt;style&gt;\n",
       "                #map_b777336a4f0ad997145c0decb1495482 {\n",
       "                    position: relative;\n",
       "                    width: 100.0%;\n",
       "                    height: 100.0%;\n",
       "                    left: 0.0%;\n",
       "                    top: 0.0%;\n",
       "                }\n",
       "                .leaflet-container { font-size: 1rem; }\n",
       "            &lt;/style&gt;\n",
       "        \n",
       "&lt;/head&gt;\n",
       "&lt;body&gt;\n",
       "    \n",
       "    \n",
       "            &lt;div class=&quot;folium-map&quot; id=&quot;map_b777336a4f0ad997145c0decb1495482&quot; &gt;&lt;/div&gt;\n",
       "        \n",
       "&lt;/body&gt;\n",
       "&lt;script&gt;\n",
       "    \n",
       "    \n",
       "            var map_b777336a4f0ad997145c0decb1495482 = L.map(\n",
       "                &quot;map_b777336a4f0ad997145c0decb1495482&quot;,\n",
       "                {\n",
       "                    center: [37.5, 126.95],\n",
       "                    crs: L.CRS.EPSG3857,\n",
       "                    zoom: 12,\n",
       "                    zoomControl: true,\n",
       "                    preferCanvas: false,\n",
       "                }\n",
       "            );\n",
       "\n",
       "            \n",
       "\n",
       "        \n",
       "    \n",
       "            var tile_layer_602eb2df085f55c0a13541f8d393a702 = L.tileLayer(\n",
       "                &quot;https://{s}.tile.openstreetmap.org/{z}/{x}/{y}.png&quot;,\n",
       "                {&quot;attribution&quot;: &quot;Data by \\u0026copy; \\u003ca target=\\&quot;_blank\\&quot; href=\\&quot;http://openstreetmap.org\\&quot;\\u003eOpenStreetMap\\u003c/a\\u003e, under \\u003ca target=\\&quot;_blank\\&quot; href=\\&quot;http://www.openstreetmap.org/copyright\\&quot;\\u003eODbL\\u003c/a\\u003e.&quot;, &quot;detectRetina&quot;: false, &quot;maxNativeZoom&quot;: 18, &quot;maxZoom&quot;: 18, &quot;minZoom&quot;: 0, &quot;noWrap&quot;: false, &quot;opacity&quot;: 1, &quot;subdomains&quot;: &quot;abc&quot;, &quot;tms&quot;: false}\n",
       "            );\n",
       "        \n",
       "    \n",
       "                tile_layer_602eb2df085f55c0a13541f8d393a702.addTo(map_b777336a4f0ad997145c0decb1495482);\n",
       "    \n",
       "            var circle_037c8bf76c74354be38f5c2c4ebef6dc = L.circle(\n",
       "                [37.508961, 126.891084],\n",
       "                {&quot;bubblingMouseEvents&quot;: true, &quot;color&quot;: &quot;black&quot;, &quot;dashArray&quot;: null, &quot;dashOffset&quot;: null, &quot;fill&quot;: true, &quot;fillColor&quot;: &quot;white&quot;, &quot;fillOpacity&quot;: 0.6, &quot;fillRule&quot;: &quot;evenodd&quot;, &quot;lineCap&quot;: &quot;round&quot;, &quot;lineJoin&quot;: &quot;round&quot;, &quot;opacity&quot;: 1.0, &quot;radius&quot;: 1000, &quot;stroke&quot;: true, &quot;weight&quot;: 3}\n",
       "            ).addTo(map_b777336a4f0ad997145c0decb1495482);\n",
       "        \n",
       "    \n",
       "            var circle_73c770d521f8c3158312f03e0cd559ef = L.circle(\n",
       "                [37.484201, 126.929715],\n",
       "                {&quot;bubblingMouseEvents&quot;: true, &quot;color&quot;: &quot;black&quot;, &quot;dashArray&quot;: null, &quot;dashOffset&quot;: null, &quot;fill&quot;: true, &quot;fillColor&quot;: &quot;white&quot;, &quot;fillOpacity&quot;: 0.6, &quot;fillRule&quot;: &quot;evenodd&quot;, &quot;lineCap&quot;: &quot;round&quot;, &quot;lineJoin&quot;: &quot;round&quot;, &quot;opacity&quot;: 1.0, &quot;radius&quot;: 1000, &quot;stroke&quot;: true, &quot;weight&quot;: 3}\n",
       "            ).addTo(map_b777336a4f0ad997145c0decb1495482);\n",
       "        \n",
       "    \n",
       "            var circle_f20147c6a4f1fb1da80ae0dd48f19852 = L.circle(\n",
       "                [37.496837, 127.028104],\n",
       "                {&quot;bubblingMouseEvents&quot;: true, &quot;color&quot;: &quot;black&quot;, &quot;dashArray&quot;: null, &quot;dashOffset&quot;: null, &quot;fill&quot;: true, &quot;fillColor&quot;: &quot;white&quot;, &quot;fillOpacity&quot;: 0.6, &quot;fillRule&quot;: &quot;evenodd&quot;, &quot;lineCap&quot;: &quot;round&quot;, &quot;lineJoin&quot;: &quot;round&quot;, &quot;opacity&quot;: 1.0, &quot;radius&quot;: 1000, &quot;stroke&quot;: true, &quot;weight&quot;: 3}\n",
       "            ).addTo(map_b777336a4f0ad997145c0decb1495482);\n",
       "        \n",
       "    \n",
       "            var circle_83f388cca6b5de3aa649415a85432838 = L.circle(\n",
       "                [37.481247, 126.952739],\n",
       "                {&quot;bubblingMouseEvents&quot;: true, &quot;color&quot;: &quot;black&quot;, &quot;dashArray&quot;: null, &quot;dashOffset&quot;: null, &quot;fill&quot;: true, &quot;fillColor&quot;: &quot;white&quot;, &quot;fillOpacity&quot;: 0.6, &quot;fillRule&quot;: &quot;evenodd&quot;, &quot;lineCap&quot;: &quot;round&quot;, &quot;lineJoin&quot;: &quot;round&quot;, &quot;opacity&quot;: 1.0, &quot;radius&quot;: 1000, &quot;stroke&quot;: true, &quot;weight&quot;: 3}\n",
       "            ).addTo(map_b777336a4f0ad997145c0decb1495482);\n",
       "        \n",
       "    \n",
       "            var circle_cf2e342fcc6ec07193caf7ef8211b4d7 = L.circle(\n",
       "                [37.557641, 126.926683],\n",
       "                {&quot;bubblingMouseEvents&quot;: true, &quot;color&quot;: &quot;black&quot;, &quot;dashArray&quot;: null, &quot;dashOffset&quot;: null, &quot;fill&quot;: true, &quot;fillColor&quot;: &quot;white&quot;, &quot;fillOpacity&quot;: 0.6, &quot;fillRule&quot;: &quot;evenodd&quot;, &quot;lineCap&quot;: &quot;round&quot;, &quot;lineJoin&quot;: &quot;round&quot;, &quot;opacity&quot;: 1.0, &quot;radius&quot;: 1000, &quot;stroke&quot;: true, &quot;weight&quot;: 3}\n",
       "            ).addTo(map_b777336a4f0ad997145c0decb1495482);\n",
       "        \n",
       "    \n",
       "            var circle_91aea932fd2e66fe8891cc3df15e6ec2 = L.circle(\n",
       "                [37.514692, 127.104338],\n",
       "                {&quot;bubblingMouseEvents&quot;: true, &quot;color&quot;: &quot;black&quot;, &quot;dashArray&quot;: null, &quot;dashOffset&quot;: null, &quot;fill&quot;: true, &quot;fillColor&quot;: &quot;white&quot;, &quot;fillOpacity&quot;: 0.6, &quot;fillRule&quot;: &quot;evenodd&quot;, &quot;lineCap&quot;: &quot;round&quot;, &quot;lineJoin&quot;: &quot;round&quot;, &quot;opacity&quot;: 1.0, &quot;radius&quot;: 1000, &quot;stroke&quot;: true, &quot;weight&quot;: 3}\n",
       "            ).addTo(map_b777336a4f0ad997145c0decb1495482);\n",
       "        \n",
       "    \n",
       "            var circle_e145daa5e96ec6f1c448fe0f0ac34ccd = L.circle(\n",
       "                [37.485266, 126.901401],\n",
       "                {&quot;bubblingMouseEvents&quot;: true, &quot;color&quot;: &quot;black&quot;, &quot;dashArray&quot;: null, &quot;dashOffset&quot;: null, &quot;fill&quot;: true, &quot;fillColor&quot;: &quot;white&quot;, &quot;fillOpacity&quot;: 0.6, &quot;fillRule&quot;: &quot;evenodd&quot;, &quot;lineCap&quot;: &quot;round&quot;, &quot;lineJoin&quot;: &quot;round&quot;, &quot;opacity&quot;: 1.0, &quot;radius&quot;: 1000, &quot;stroke&quot;: true, &quot;weight&quot;: 3}\n",
       "            ).addTo(map_b777336a4f0ad997145c0decb1495482);\n",
       "        \n",
       "    \n",
       "            var circle_142236a88eb728bc67f268fd0f146734 = L.circle(\n",
       "                [37.504856, 127.048807],\n",
       "                {&quot;bubblingMouseEvents&quot;: true, &quot;color&quot;: &quot;black&quot;, &quot;dashArray&quot;: null, &quot;dashOffset&quot;: null, &quot;fill&quot;: true, &quot;fillColor&quot;: &quot;white&quot;, &quot;fillOpacity&quot;: 0.6, &quot;fillRule&quot;: &quot;evenodd&quot;, &quot;lineCap&quot;: &quot;round&quot;, &quot;lineJoin&quot;: &quot;round&quot;, &quot;opacity&quot;: 1.0, &quot;radius&quot;: 1000, &quot;stroke&quot;: true, &quot;weight&quot;: 3}\n",
       "            ).addTo(map_b777336a4f0ad997145c0decb1495482);\n",
       "        \n",
       "    \n",
       "            var circle_486e32bc87ab21d5b647dbe164e0c722 = L.circle(\n",
       "                [37.508844, 127.06316],\n",
       "                {&quot;bubblingMouseEvents&quot;: true, &quot;color&quot;: &quot;black&quot;, &quot;dashArray&quot;: null, &quot;dashOffset&quot;: null, &quot;fill&quot;: true, &quot;fillColor&quot;: &quot;white&quot;, &quot;fillOpacity&quot;: 0.6, &quot;fillRule&quot;: &quot;evenodd&quot;, &quot;lineCap&quot;: &quot;round&quot;, &quot;lineJoin&quot;: &quot;round&quot;, &quot;opacity&quot;: 1.0, &quot;radius&quot;: 1000, &quot;stroke&quot;: true, &quot;weight&quot;: 3}\n",
       "            ).addTo(map_b777336a4f0ad997145c0decb1495482);\n",
       "        \n",
       "    \n",
       "            var circle_6ada895b9995f040bee6b36d2d8a4a08 = L.circle(\n",
       "                [37.500622, 127.036456],\n",
       "                {&quot;bubblingMouseEvents&quot;: true, &quot;color&quot;: &quot;black&quot;, &quot;dashArray&quot;: null, &quot;dashOffset&quot;: null, &quot;fill&quot;: true, &quot;fillColor&quot;: &quot;white&quot;, &quot;fillOpacity&quot;: 0.6, &quot;fillRule&quot;: &quot;evenodd&quot;, &quot;lineCap&quot;: &quot;round&quot;, &quot;lineJoin&quot;: &quot;round&quot;, &quot;opacity&quot;: 1.0, &quot;radius&quot;: 1000, &quot;stroke&quot;: true, &quot;weight&quot;: 3}\n",
       "            ).addTo(map_b777336a4f0ad997145c0decb1495482);\n",
       "        \n",
       "&lt;/script&gt;\n",
       "&lt;/html&gt;\" style=\"position:absolute;width:100%;height:100%;left:0;top:0;border:none !important;\" allowfullscreen webkitallowfullscreen mozallowfullscreen></iframe></div></div>"
      ],
      "text/plain": [
       "<folium.folium.Map at 0x251383e36d0>"
      ]
     },
     "execution_count": 360,
     "metadata": {},
     "output_type": "execute_result"
    }
   ],
   "source": [
    "m"
   ]
  },
  {
   "cell_type": "code",
   "execution_count": 402,
   "id": "caaff666",
   "metadata": {},
   "outputs": [],
   "source": [
    "map_center = [37.5, 126.95]  # 서울 중심 좌표\n",
    "m = folium.Map(location=map_center, zoom_start=12)"
   ]
  },
  {
   "cell_type": "code",
   "execution_count": 403,
   "id": "3656e4eb",
   "metadata": {},
   "outputs": [],
   "source": [
    "for index, location in sb_data_n10_trendy_before.iterrows():\n",
    "    folium.Marker(location=[location['latitude'], location['longitude']]).add_to(m)"
   ]
  },
  {
   "cell_type": "markdown",
   "id": "d63cdeec",
   "metadata": {},
   "source": [
    "m"
   ]
  },
  {
   "cell_type": "markdown",
   "id": "d0db7ac8",
   "metadata": {},
   "source": [
    "### 대도시 vs 소도시"
   ]
  },
  {
   "cell_type": "code",
   "execution_count": 414,
   "id": "7e35e3ba",
   "metadata": {},
   "outputs": [],
   "source": [
    "sb_data_n10 = pd.read_csv('C:/Users/sjhty/Desktop/데이터/대도시.csv')\n",
    "sb_data_not_n10 = pd.read_csv('C:/Users/sjhty/Desktop/데이터/소도시.csv')"
   ]
  },
  {
   "cell_type": "code",
   "execution_count": 416,
   "id": "de2129ce",
   "metadata": {},
   "outputs": [],
   "source": [
    "sb_data_n10['licence_date'] = pd.to_datetime(sb_data_n10['licence_date'])\n",
    "sb_data_n10['close_date'] = pd.to_datetime(sb_data_n10['close_date'])\n",
    "\n",
    "sb_data_not_n10['licence_date'] = pd.to_datetime(sb_data_not_n10['licence_date'])\n",
    "sb_data_not_n10['close_date'] = pd.to_datetime(sb_data_not_n10['close_date'])"
   ]
  },
  {
   "cell_type": "code",
   "execution_count": 417,
   "id": "41697902",
   "metadata": {},
   "outputs": [],
   "source": [
    "sb_data_n10_steady_before = sb_data_n10[(sb_data_n10['keyword']=='명랑핫도그')& (sb_data_n10['licence_date']<boom['명랑핫도그']) \n",
    "            | (sb_data_n10['keyword']=='설빙')& (sb_data_n10['licence_date']<boom['설빙'])\n",
    "           | (sb_data_n10['keyword']=='공차')& (sb_data_n10['licence_date']<boom['공차'])\n",
    "           | (sb_data_n10['keyword']=='마라탕')& (sb_data_n10['licence_date']<boom['마라탕'])\n",
    "           | (sb_data_n10['keyword']=='엽기떡볶이')& (sb_data_n10['licence_date']<boom['엽기떡볶이'])].reset_index(drop=True)\n",
    "\n",
    "sb_data_n10_steady_after = sb_data_n10[(sb_data_n10['keyword']=='명랑핫도그')& (sb_data_n10['licence_date']>=boom['명랑핫도그']) \n",
    "            | (sb_data_n10['keyword']=='설빙')& (sb_data_n10['licence_date']>=boom['설빙'])\n",
    "           | (sb_data_n10['keyword']=='공차')& (sb_data_n10['licence_date']>=boom['공차'])\n",
    "           | (sb_data_n10['keyword']=='마라탕')& (sb_data_n10['licence_date']>=boom['마라탕'])\n",
    "           | (sb_data_n10['keyword']=='엽기떡볶이')& (sb_data_n10['licence_date']>=boom['엽기떡볶이'])].reset_index(drop=True)\n",
    "\n",
    "sb_data_n10_trendy_before = sb_data_n10[(sb_data_n10['keyword']=='카스테라')& (sb_data_n10['licence_date']<boom['카스테라']) \n",
    "            | (sb_data_n10['keyword']=='쥬씨')& (sb_data_n10['licence_date']<boom['쥬씨'])\n",
    "           | (sb_data_n10['keyword']=='엉생')& (sb_data_n10['licence_date']<boom['엉생'])\n",
    "           | (sb_data_n10['keyword']=='홍루이젠')& (sb_data_n10['licence_date']<boom['홍루이젠'])\n",
    "           | (sb_data_n10['keyword']=='밥버거')& (sb_data_n10['licence_date']<boom['밥버거'])].reset_index(drop=True)\n",
    "\n",
    "sb_data_n10_trendy_after = sb_data_n10[(sb_data_n10['keyword']=='카스테라')& (sb_data_n10['licence_date']>=boom['카스테라']) \n",
    "            | (sb_data_n10['keyword']=='쥬씨')& (sb_data_n10['licence_date']>=boom['쥬씨'])\n",
    "           | (sb_data_n10['keyword']=='엉생')& (sb_data_n10['licence_date']>=boom['엉생'])\n",
    "           | (sb_data_n10['keyword']=='홍루이젠')& (sb_data_n10['licence_date']>=boom['홍루이젠'])\n",
    "           | (sb_data_n10['keyword']=='밥버거')& (sb_data_n10['licence_date']>=boom['밥버거'])].reset_index(drop=True)\n"
   ]
  },
  {
   "cell_type": "code",
   "execution_count": 418,
   "id": "853aed1a",
   "metadata": {},
   "outputs": [],
   "source": [
    "sb_data_not_n10_steady_before = sb_data_not_n10[(sb_data_not_n10['keyword']=='명랑핫도그')& (sb_data_not_n10['licence_date']<boom['명랑핫도그']) \n",
    "            | (sb_data_not_n10['keyword']=='설빙')& (sb_data_not_n10['licence_date']<boom['설빙'])\n",
    "           | (sb_data_not_n10['keyword']=='공차')& (sb_data_not_n10['licence_date']<boom['공차'])\n",
    "           | (sb_data_not_n10['keyword']=='마라탕')& (sb_data_not_n10['licence_date']<boom['마라탕'])\n",
    "           | (sb_data_not_n10['keyword']=='엽기떡볶이')& (sb_data_not_n10['licence_date']<boom['엽기떡볶이'])].reset_index(drop=True)\n",
    "\n",
    "sb_data_not_n10_steady_after = sb_data_not_n10[(sb_data_not_n10['keyword']=='명랑핫도그')& (sb_data_not_n10['licence_date']>=boom['명랑핫도그']) \n",
    "            | (sb_data_not_n10['keyword']=='설빙')& (sb_data_not_n10['licence_date']>=boom['설빙'])\n",
    "           | (sb_data_not_n10['keyword']=='공차')& (sb_data_not_n10['licence_date']>=boom['공차'])\n",
    "           | (sb_data_not_n10['keyword']=='마라탕')& (sb_data_not_n10['licence_date']>=boom['마라탕'])\n",
    "           | (sb_data_not_n10['keyword']=='엽기떡볶이')& (sb_data_not_n10['licence_date']>=boom['엽기떡볶이'])].reset_index(drop=True)\n",
    "\n",
    "sb_data_not_n10_trendy_before = sb_data_not_n10[(sb_data_not_n10['keyword']=='카스테라')& (sb_data_not_n10['licence_date']<boom['카스테라']) \n",
    "            | (sb_data_not_n10['keyword']=='쥬씨')& (sb_data_not_n10['licence_date']<boom['쥬씨'])\n",
    "           | (sb_data_not_n10['keyword']=='엉생')& (sb_data_not_n10['licence_date']<boom['엉생'])\n",
    "           | (sb_data_not_n10['keyword']=='홍루이젠')& (sb_data_not_n10['licence_date']<boom['홍루이젠'])\n",
    "           | (sb_data_not_n10['keyword']=='밥버거')& (sb_data_not_n10['licence_date']<boom['밥버거'])].reset_index(drop=True)\n",
    "\n",
    "sb_data_not_n10_trendy_after = sb_data_not_n10[(sb_data_not_n10['keyword']=='카스테라')& (sb_data_not_n10['licence_date']>=boom['카스테라']) \n",
    "            | (sb_data_not_n10['keyword']=='쥬씨')& (sb_data_not_n10['licence_date']>=boom['쥬씨'])\n",
    "           | (sb_data_not_n10['keyword']=='엉생')& (sb_data_not_n10['licence_date']>=boom['엉생'])\n",
    "           | (sb_data_not_n10['keyword']=='홍루이젠')& (sb_data_not_n10['licence_date']>=boom['홍루이젠'])\n",
    "           | (sb_data_not_n10['keyword']=='밥버거')& (sb_data_not_n10['licence_date']>=boom['밥버거'])].reset_index(drop=True)"
   ]
  },
  {
   "cell_type": "code",
   "execution_count": 420,
   "id": "1a735576",
   "metadata": {
    "scrolled": false
   },
   "outputs": [
    {
     "data": {
      "text/plain": [
       "영업/정상    5669\n",
       "폐업       2406\n",
       "Name: status, dtype: int64"
      ]
     },
     "execution_count": 420,
     "metadata": {},
     "output_type": "execute_result"
    }
   ],
   "source": [
    "sb_data_n10['status'].value_counts()"
   ]
  },
  {
   "cell_type": "code",
   "execution_count": 421,
   "id": "4da5188a",
   "metadata": {
    "scrolled": true
   },
   "outputs": [
    {
     "data": {
      "text/plain": [
       "영업/정상    1129\n",
       "폐업        517\n",
       "Name: status, dtype: int64"
      ]
     },
     "execution_count": 421,
     "metadata": {},
     "output_type": "execute_result"
    }
   ],
   "source": [
    "sb_data_n10_steady_before['status'].value_counts()"
   ]
  },
  {
   "cell_type": "code",
   "execution_count": 422,
   "id": "72d96d9c",
   "metadata": {},
   "outputs": [
    {
     "data": {
      "text/plain": [
       "영업/정상    2791\n",
       "폐업        540\n",
       "Name: status, dtype: int64"
      ]
     },
     "execution_count": 422,
     "metadata": {},
     "output_type": "execute_result"
    }
   ],
   "source": [
    "sb_data_n10_steady_after['status'].value_counts()"
   ]
  },
  {
   "cell_type": "code",
   "execution_count": 423,
   "id": "0b3f9e75",
   "metadata": {},
   "outputs": [
    {
     "data": {
      "text/plain": [
       "폐업       669\n",
       "영업/정상    269\n",
       "Name: status, dtype: int64"
      ]
     },
     "execution_count": 423,
     "metadata": {},
     "output_type": "execute_result"
    }
   ],
   "source": [
    "sb_data_n10_trendy_before['status'].value_counts()\n"
   ]
  },
  {
   "cell_type": "code",
   "execution_count": 424,
   "id": "857a5b62",
   "metadata": {},
   "outputs": [
    {
     "data": {
      "text/plain": [
       "폐업       586\n",
       "영업/정상    328\n",
       "Name: status, dtype: int64"
      ]
     },
     "execution_count": 424,
     "metadata": {},
     "output_type": "execute_result"
    }
   ],
   "source": [
    "sb_data_n10_trendy_after['status'].value_counts()"
   ]
  },
  {
   "cell_type": "markdown",
   "id": "9c6e9492",
   "metadata": {},
   "source": [
    "### not 경계선"
   ]
  },
  {
   "cell_type": "code",
   "execution_count": 429,
   "id": "3eededac",
   "metadata": {},
   "outputs": [
    {
     "data": {
      "text/plain": [
       "영업/정상    435\n",
       "폐업       110\n",
       "Name: status, dtype: int64"
      ]
     },
     "execution_count": 429,
     "metadata": {},
     "output_type": "execute_result"
    }
   ],
   "source": [
    "sb_data_not_n10_steady_before['status'].value_counts()\n"
   ]
  },
  {
   "cell_type": "code",
   "execution_count": 430,
   "id": "a50d1267",
   "metadata": {},
   "outputs": [
    {
     "data": {
      "text/plain": [
       "영업/정상    1173\n",
       "폐업        110\n",
       "Name: status, dtype: int64"
      ]
     },
     "execution_count": 430,
     "metadata": {},
     "output_type": "execute_result"
    }
   ],
   "source": [
    "sb_data_not_n10_steady_after['status'].value_counts()"
   ]
  },
  {
   "cell_type": "code",
   "execution_count": 431,
   "id": "af50084a",
   "metadata": {},
   "outputs": [
    {
     "data": {
      "text/plain": [
       "폐업       190\n",
       "영업/정상    118\n",
       "Name: status, dtype: int64"
      ]
     },
     "execution_count": 431,
     "metadata": {},
     "output_type": "execute_result"
    }
   ],
   "source": [
    "sb_data_not_n10_trendy_before['status'].value_counts()"
   ]
  },
  {
   "cell_type": "code",
   "execution_count": 432,
   "id": "a57e0043",
   "metadata": {},
   "outputs": [
    {
     "data": {
      "text/plain": [
       "폐업       220\n",
       "영업/정상    165\n",
       "Name: status, dtype: int64"
      ]
     },
     "execution_count": 432,
     "metadata": {},
     "output_type": "execute_result"
    }
   ],
   "source": [
    "sb_data_not_n10_trendy_after['status'].value_counts()"
   ]
  },
  {
   "cell_type": "code",
   "execution_count": 480,
   "id": "9143bb69",
   "metadata": {},
   "outputs": [
    {
     "data": {
      "text/html": [
       "<div>\n",
       "<style scoped>\n",
       "    .dataframe tbody tr th:only-of-type {\n",
       "        vertical-align: middle;\n",
       "    }\n",
       "\n",
       "    .dataframe tbody tr th {\n",
       "        vertical-align: top;\n",
       "    }\n",
       "\n",
       "    .dataframe thead th {\n",
       "        text-align: right;\n",
       "    }\n",
       "</style>\n",
       "<table border=\"1\" class=\"dataframe\">\n",
       "  <thead>\n",
       "    <tr style=\"text-align: right;\">\n",
       "      <th></th>\n",
       "      <th>int64_field_0</th>\n",
       "      <th>licence_date</th>\n",
       "      <th>licence_cancel_date</th>\n",
       "      <th>status</th>\n",
       "      <th>close_date</th>\n",
       "      <th>location_number_address</th>\n",
       "      <th>street_name_address</th>\n",
       "      <th>store_name</th>\n",
       "      <th>category</th>\n",
       "      <th>longitude</th>\n",
       "      <th>latitude</th>\n",
       "      <th>business_area_name</th>\n",
       "      <th>multi_business</th>\n",
       "      <th>period</th>\n",
       "      <th>keyword</th>\n",
       "      <th>class</th>\n",
       "    </tr>\n",
       "  </thead>\n",
       "  <tbody>\n",
       "    <tr>\n",
       "      <th>2</th>\n",
       "      <td>1233296</td>\n",
       "      <td>2013-01-29</td>\n",
       "      <td>NaN</td>\n",
       "      <td>폐업</td>\n",
       "      <td>2015-09-25</td>\n",
       "      <td>전라북도 전주시 완산구 평화동2가 339-7번지 103호</td>\n",
       "      <td>전라북도 전주시 완산구 소대배기로 11 (평화동2가)</td>\n",
       "      <td>몬스터 밥버거</td>\n",
       "      <td>한식</td>\n",
       "      <td>127.128714</td>\n",
       "      <td>35.787566</td>\n",
       "      <td>기타</td>\n",
       "      <td>False</td>\n",
       "      <td>969 days</td>\n",
       "      <td>밥버거</td>\n",
       "      <td>trendy</td>\n",
       "    </tr>\n",
       "    <tr>\n",
       "      <th>3</th>\n",
       "      <td>1234096</td>\n",
       "      <td>2013-04-26</td>\n",
       "      <td>NaN</td>\n",
       "      <td>폐업</td>\n",
       "      <td>2023-08-14</td>\n",
       "      <td>전라북도 전주시 완산구 중화산동2가 655-8</td>\n",
       "      <td>전라북도 전주시 완산구 영경1길 16 (중화산동2가)</td>\n",
       "      <td>봉구스밥버거(중화산점)</td>\n",
       "      <td>한식</td>\n",
       "      <td>127.121669</td>\n",
       "      <td>35.817820</td>\n",
       "      <td>기타</td>\n",
       "      <td>False</td>\n",
       "      <td>3762 days</td>\n",
       "      <td>밥버거</td>\n",
       "      <td>trendy</td>\n",
       "    </tr>\n",
       "    <tr>\n",
       "      <th>4</th>\n",
       "      <td>1125227</td>\n",
       "      <td>2014-01-21</td>\n",
       "      <td>NaN</td>\n",
       "      <td>폐업</td>\n",
       "      <td>2016-10-12</td>\n",
       "      <td>강원특별자치도 춘천시 석사동 888-1 스타플러스빌딩 105호</td>\n",
       "      <td>강원특별자치도 춘천시 퇴계농공로 11, 105호 (석사동, 스타플러스빌딩 )</td>\n",
       "      <td>쥬씨CGV점</td>\n",
       "      <td>한식</td>\n",
       "      <td>127.742189</td>\n",
       "      <td>37.851960</td>\n",
       "      <td>주택가주변</td>\n",
       "      <td>False</td>\n",
       "      <td>995 days</td>\n",
       "      <td>쥬씨</td>\n",
       "      <td>trendy</td>\n",
       "    </tr>\n",
       "    <tr>\n",
       "      <th>8</th>\n",
       "      <td>916877</td>\n",
       "      <td>2012-01-17</td>\n",
       "      <td>NaN</td>\n",
       "      <td>폐업</td>\n",
       "      <td>2020-11-02</td>\n",
       "      <td>전라남도 순천시 용당동 560-3 (1,2층)</td>\n",
       "      <td>전라남도 순천시 삼산로 92, 1,2층 (용당동)</td>\n",
       "      <td>봉구스밥버거 용당점</td>\n",
       "      <td>통닭(치킨)</td>\n",
       "      <td>127.490449</td>\n",
       "      <td>34.972677</td>\n",
       "      <td>NaN</td>\n",
       "      <td>False</td>\n",
       "      <td>3212 days</td>\n",
       "      <td>밥버거</td>\n",
       "      <td>trendy</td>\n",
       "    </tr>\n",
       "    <tr>\n",
       "      <th>9</th>\n",
       "      <td>215203</td>\n",
       "      <td>2011-05-25</td>\n",
       "      <td>NaN</td>\n",
       "      <td>폐업</td>\n",
       "      <td>2020-08-11</td>\n",
       "      <td>경상북도 칠곡군 왜관읍 왜관리 291-1</td>\n",
       "      <td>경상북도 칠곡군 왜관읍 중앙로 160</td>\n",
       "      <td>봉구스밥버거</td>\n",
       "      <td>패스트푸드</td>\n",
       "      <td>128.396814</td>\n",
       "      <td>35.989084</td>\n",
       "      <td>기타</td>\n",
       "      <td>False</td>\n",
       "      <td>3366 days</td>\n",
       "      <td>밥버거</td>\n",
       "      <td>trendy</td>\n",
       "    </tr>\n",
       "    <tr>\n",
       "      <th>...</th>\n",
       "      <td>...</td>\n",
       "      <td>...</td>\n",
       "      <td>...</td>\n",
       "      <td>...</td>\n",
       "      <td>...</td>\n",
       "      <td>...</td>\n",
       "      <td>...</td>\n",
       "      <td>...</td>\n",
       "      <td>...</td>\n",
       "      <td>...</td>\n",
       "      <td>...</td>\n",
       "      <td>...</td>\n",
       "      <td>...</td>\n",
       "      <td>...</td>\n",
       "      <td>...</td>\n",
       "      <td>...</td>\n",
       "    </tr>\n",
       "    <tr>\n",
       "      <th>302</th>\n",
       "      <td>2392268</td>\n",
       "      <td>2012-09-27</td>\n",
       "      <td>NaN</td>\n",
       "      <td>폐업</td>\n",
       "      <td>2016-05-02</td>\n",
       "      <td>경상북도 경주시 충효동 2987-11번지</td>\n",
       "      <td>경상북도 경주시 충효3길 9 (충효동)</td>\n",
       "      <td>봉구스밥버거 서라벌대점</td>\n",
       "      <td>기타 휴게음식점</td>\n",
       "      <td>129.182647</td>\n",
       "      <td>35.842558</td>\n",
       "      <td>NaN</td>\n",
       "      <td>False</td>\n",
       "      <td>1313 days</td>\n",
       "      <td>밥버거</td>\n",
       "      <td>trendy</td>\n",
       "    </tr>\n",
       "    <tr>\n",
       "      <th>303</th>\n",
       "      <td>2416843</td>\n",
       "      <td>2013-05-30</td>\n",
       "      <td>NaN</td>\n",
       "      <td>폐업</td>\n",
       "      <td>2021-04-19</td>\n",
       "      <td>전라북도 군산시 조촌동 491 삼성A 상가 104호</td>\n",
       "      <td>전라북도 군산시 백릉로 162, 104동 (조촌동, 삼성A 상가 )</td>\n",
       "      <td>봉구스밥버거(조촌점)</td>\n",
       "      <td>기타 휴게음식점</td>\n",
       "      <td>126.741570</td>\n",
       "      <td>35.975049</td>\n",
       "      <td>NaN</td>\n",
       "      <td>False</td>\n",
       "      <td>2881 days</td>\n",
       "      <td>밥버거</td>\n",
       "      <td>trendy</td>\n",
       "    </tr>\n",
       "    <tr>\n",
       "      <th>304</th>\n",
       "      <td>2368607</td>\n",
       "      <td>2016-12-08</td>\n",
       "      <td>NaN</td>\n",
       "      <td>폐업</td>\n",
       "      <td>2017-12-15</td>\n",
       "      <td>경상남도 진주시 대안동 19-16번지 1층일부</td>\n",
       "      <td>경상남도 진주시 진양호로531번길 7 (대안동, 1층일부)</td>\n",
       "      <td>호우메이카스테라</td>\n",
       "      <td>기타 휴게음식점</td>\n",
       "      <td>128.080301</td>\n",
       "      <td>35.193509</td>\n",
       "      <td>주택가주변</td>\n",
       "      <td>False</td>\n",
       "      <td>372 days</td>\n",
       "      <td>카스테라</td>\n",
       "      <td>trendy</td>\n",
       "    </tr>\n",
       "    <tr>\n",
       "      <th>305</th>\n",
       "      <td>2335280</td>\n",
       "      <td>2016-12-05</td>\n",
       "      <td>NaN</td>\n",
       "      <td>폐업</td>\n",
       "      <td>2018-09-20</td>\n",
       "      <td>전라남도 무안군 무안읍 교촌리 1045-2번지</td>\n",
       "      <td>전라남도 무안군 무안읍 창포로 31</td>\n",
       "      <td>대만언니 카스테라</td>\n",
       "      <td>기타 휴게음식점</td>\n",
       "      <td>126.468358</td>\n",
       "      <td>34.988120</td>\n",
       "      <td>NaN</td>\n",
       "      <td>False</td>\n",
       "      <td>654 days</td>\n",
       "      <td>카스테라</td>\n",
       "      <td>trendy</td>\n",
       "    </tr>\n",
       "    <tr>\n",
       "      <th>306</th>\n",
       "      <td>2165189</td>\n",
       "      <td>2015-10-23</td>\n",
       "      <td>NaN</td>\n",
       "      <td>폐업</td>\n",
       "      <td>2018-10-05</td>\n",
       "      <td>경상남도 창원시 마산회원구 합성동 125-6 103호</td>\n",
       "      <td>경상남도 창원시 마산회원구 양덕북4길 17, 103호 (합성동)</td>\n",
       "      <td>고조미 대만카스테라</td>\n",
       "      <td>기타 휴게음식점</td>\n",
       "      <td>128.580098</td>\n",
       "      <td>35.237137</td>\n",
       "      <td>NaN</td>\n",
       "      <td>False</td>\n",
       "      <td>1078 days</td>\n",
       "      <td>카스테라</td>\n",
       "      <td>trendy</td>\n",
       "    </tr>\n",
       "  </tbody>\n",
       "</table>\n",
       "<p>190 rows × 16 columns</p>\n",
       "</div>"
      ],
      "text/plain": [
       "     int64_field_0 licence_date  licence_cancel_date status close_date  \\\n",
       "2          1233296   2013-01-29                  NaN     폐업 2015-09-25   \n",
       "3          1234096   2013-04-26                  NaN     폐업 2023-08-14   \n",
       "4          1125227   2014-01-21                  NaN     폐업 2016-10-12   \n",
       "8           916877   2012-01-17                  NaN     폐업 2020-11-02   \n",
       "9           215203   2011-05-25                  NaN     폐업 2020-08-11   \n",
       "..             ...          ...                  ...    ...        ...   \n",
       "302        2392268   2012-09-27                  NaN     폐업 2016-05-02   \n",
       "303        2416843   2013-05-30                  NaN     폐업 2021-04-19   \n",
       "304        2368607   2016-12-08                  NaN     폐업 2017-12-15   \n",
       "305        2335280   2016-12-05                  NaN     폐업 2018-09-20   \n",
       "306        2165189   2015-10-23                  NaN     폐업 2018-10-05   \n",
       "\n",
       "                location_number_address  \\\n",
       "2       전라북도 전주시 완산구 평화동2가 339-7번지 103호   \n",
       "3             전라북도 전주시 완산구 중화산동2가 655-8   \n",
       "4    강원특별자치도 춘천시 석사동 888-1 스타플러스빌딩 105호   \n",
       "8             전라남도 순천시 용당동 560-3 (1,2층)   \n",
       "9                경상북도 칠곡군 왜관읍 왜관리 291-1   \n",
       "..                                  ...   \n",
       "302              경상북도 경주시 충효동 2987-11번지   \n",
       "303        전라북도 군산시 조촌동 491 삼성A 상가 104호   \n",
       "304           경상남도 진주시 대안동 19-16번지 1층일부   \n",
       "305           전라남도 무안군 무안읍 교촌리 1045-2번지   \n",
       "306       경상남도 창원시 마산회원구 합성동 125-6 103호   \n",
       "\n",
       "                            street_name_address    store_name  category  \\\n",
       "2                 전라북도 전주시 완산구 소대배기로 11 (평화동2가)       몬스터 밥버거        한식   \n",
       "3                 전라북도 전주시 완산구 영경1길 16 (중화산동2가)  봉구스밥버거(중화산점)        한식   \n",
       "4    강원특별자치도 춘천시 퇴계농공로 11, 105호 (석사동, 스타플러스빌딩 )        쥬씨CGV점        한식   \n",
       "8                   전라남도 순천시 삼산로 92, 1,2층 (용당동)    봉구스밥버거 용당점    통닭(치킨)   \n",
       "9                          경상북도 칠곡군 왜관읍 중앙로 160        봉구스밥버거     패스트푸드   \n",
       "..                                          ...           ...       ...   \n",
       "302                       경상북도 경주시 충효3길 9 (충효동)  봉구스밥버거 서라벌대점  기타 휴게음식점   \n",
       "303       전라북도 군산시 백릉로 162, 104동 (조촌동, 삼성A 상가 )   봉구스밥버거(조촌점)  기타 휴게음식점   \n",
       "304            경상남도 진주시 진양호로531번길 7 (대안동, 1층일부)      호우메이카스테라  기타 휴게음식점   \n",
       "305                         전라남도 무안군 무안읍 창포로 31     대만언니 카스테라  기타 휴게음식점   \n",
       "306         경상남도 창원시 마산회원구 양덕북4길 17, 103호 (합성동)    고조미 대만카스테라  기타 휴게음식점   \n",
       "\n",
       "      longitude   latitude business_area_name  multi_business     period  \\\n",
       "2    127.128714  35.787566                 기타           False   969 days   \n",
       "3    127.121669  35.817820                 기타           False  3762 days   \n",
       "4    127.742189  37.851960              주택가주변           False   995 days   \n",
       "8    127.490449  34.972677                NaN           False  3212 days   \n",
       "9    128.396814  35.989084                 기타           False  3366 days   \n",
       "..          ...        ...                ...             ...        ...   \n",
       "302  129.182647  35.842558                NaN           False  1313 days   \n",
       "303  126.741570  35.975049                NaN           False  2881 days   \n",
       "304  128.080301  35.193509              주택가주변           False   372 days   \n",
       "305  126.468358  34.988120                NaN           False   654 days   \n",
       "306  128.580098  35.237137                NaN           False  1078 days   \n",
       "\n",
       "    keyword   class  \n",
       "2       밥버거  trendy  \n",
       "3       밥버거  trendy  \n",
       "4        쥬씨  trendy  \n",
       "8       밥버거  trendy  \n",
       "9       밥버거  trendy  \n",
       "..      ...     ...  \n",
       "302     밥버거  trendy  \n",
       "303     밥버거  trendy  \n",
       "304    카스테라  trendy  \n",
       "305    카스테라  trendy  \n",
       "306    카스테라  trendy  \n",
       "\n",
       "[190 rows x 16 columns]"
      ]
     },
     "execution_count": 480,
     "metadata": {},
     "output_type": "execute_result"
    }
   ],
   "source": [
    "sb_data_not_n10_trendy_before[sb_data_not_n10_trendy_before['status']=='폐업']"
   ]
  },
  {
   "cell_type": "code",
   "execution_count": 477,
   "id": "8c8f9490",
   "metadata": {},
   "outputs": [],
   "source": [
    "map_center = [36.5, 128.00]  # 서울 중심 좌표\n",
    "m = folium.Map(location=map_center, zoom_start=7)\n",
    "\n",
    "for index, location in sb_data_not_n10_trendy_before.iterrows():\n",
    "    folium.Marker(location=[location['latitude'], location['longitude']]).add_to(m)"
   ]
  },
  {
   "cell_type": "markdown",
   "id": "46360905",
   "metadata": {},
   "source": [
    "### 폐업으로 살펴보자\n",
    "* 조기 폐업?"
   ]
  },
  {
   "cell_type": "code",
   "execution_count": 510,
   "id": "02e71a8f",
   "metadata": {},
   "outputs": [],
   "source": [
    "sb_data_n10 = sb_data_n10[sb_data_n10['status']=='폐업']\n",
    "sb_data_not_n10 = sb_data_not_n10[sb_data_not_n10['status']=='폐업']\n"
   ]
  },
  {
   "cell_type": "code",
   "execution_count": 511,
   "id": "6cdd90a1",
   "metadata": {},
   "outputs": [],
   "source": [
    "sb_data_n10['period'] = sb_data_n10['period'].apply(lambda n:float(re.sub('[^0-9]', '', n)))\n",
    "sb_data_not_n10['period'] = sb_data_not_n10['period'].apply(lambda n:float(re.sub('[^0-9]', '', n)))"
   ]
  },
  {
   "cell_type": "code",
   "execution_count": 512,
   "id": "9ba9961d",
   "metadata": {},
   "outputs": [],
   "source": [
    "sb_data_n10['licence_date'] = pd.to_datetime(sb_data_n10['licence_date'])\n",
    "sb_data_n10['close_date'] = pd.to_datetime(sb_data_n10['close_date'])\n",
    "\n",
    "sb_data_not_n10['licence_date'] = pd.to_datetime(sb_data_not_n10['licence_date'])\n",
    "sb_data_not_n10['close_date'] = pd.to_datetime(sb_data_not_n10['close_date'])"
   ]
  },
  {
   "cell_type": "code",
   "execution_count": 513,
   "id": "2c5d3a5a",
   "metadata": {},
   "outputs": [],
   "source": [
    "sb_data_n10_steady_before = sb_data_n10[(sb_data_n10['keyword']=='명랑핫도그')& (sb_data_n10['licence_date']<boom['명랑핫도그']) \n",
    "            | (sb_data_n10['keyword']=='설빙')& (sb_data_n10['licence_date']<boom['설빙'])\n",
    "           | (sb_data_n10['keyword']=='공차')& (sb_data_n10['licence_date']<boom['공차'])\n",
    "           | (sb_data_n10['keyword']=='마라탕')& (sb_data_n10['licence_date']<boom['마라탕'])\n",
    "           | (sb_data_n10['keyword']=='엽기떡볶이')& (sb_data_n10['licence_date']<boom['엽기떡볶이'])].reset_index(drop=True)\n",
    "\n",
    "sb_data_n10_steady_after = sb_data_n10[(sb_data_n10['keyword']=='명랑핫도그')& (sb_data_n10['licence_date']>=boom['명랑핫도그']) \n",
    "            | (sb_data_n10['keyword']=='설빙')& (sb_data_n10['licence_date']>=boom['설빙'])\n",
    "           | (sb_data_n10['keyword']=='공차')& (sb_data_n10['licence_date']>=boom['공차'])\n",
    "           | (sb_data_n10['keyword']=='마라탕')& (sb_data_n10['licence_date']>=boom['마라탕'])\n",
    "           | (sb_data_n10['keyword']=='엽기떡볶이')& (sb_data_n10['licence_date']>=boom['엽기떡볶이'])].reset_index(drop=True)\n",
    "\n",
    "sb_data_n10_trendy_before = sb_data_n10[(sb_data_n10['keyword']=='카스테라')& (sb_data_n10['licence_date']<boom['카스테라']) \n",
    "            | (sb_data_n10['keyword']=='쥬씨')& (sb_data_n10['licence_date']<boom['쥬씨'])\n",
    "           | (sb_data_n10['keyword']=='엉생')& (sb_data_n10['licence_date']<boom['엉생'])\n",
    "           | (sb_data_n10['keyword']=='홍루이젠')& (sb_data_n10['licence_date']<boom['홍루이젠'])\n",
    "           | (sb_data_n10['keyword']=='밥버거')& (sb_data_n10['licence_date']<boom['밥버거'])].reset_index(drop=True)\n",
    "\n",
    "sb_data_n10_trendy_after = sb_data_n10[(sb_data_n10['keyword']=='카스테라')& (sb_data_n10['licence_date']>=boom['카스테라']) \n",
    "            | (sb_data_n10['keyword']=='쥬씨')& (sb_data_n10['licence_date']>=boom['쥬씨'])\n",
    "           | (sb_data_n10['keyword']=='엉생')& (sb_data_n10['licence_date']>=boom['엉생'])\n",
    "           | (sb_data_n10['keyword']=='홍루이젠')& (sb_data_n10['licence_date']>=boom['홍루이젠'])\n",
    "           | (sb_data_n10['keyword']=='밥버거')& (sb_data_n10['licence_date']>=boom['밥버거'])].reset_index(drop=True)\n"
   ]
  },
  {
   "cell_type": "code",
   "execution_count": 514,
   "id": "5aa8527e",
   "metadata": {},
   "outputs": [],
   "source": [
    "sb_data_not_n10_steady_before = sb_data_not_n10[(sb_data_not_n10['keyword']=='명랑핫도그')& (sb_data_not_n10['licence_date']<boom['명랑핫도그']) \n",
    "            | (sb_data_not_n10['keyword']=='설빙')& (sb_data_not_n10['licence_date']<boom['설빙'])\n",
    "           | (sb_data_not_n10['keyword']=='공차')& (sb_data_not_n10['licence_date']<boom['공차'])\n",
    "           | (sb_data_not_n10['keyword']=='마라탕')& (sb_data_not_n10['licence_date']<boom['마라탕'])\n",
    "           | (sb_data_not_n10['keyword']=='엽기떡볶이')& (sb_data_not_n10['licence_date']<boom['엽기떡볶이'])].reset_index(drop=True)\n",
    "\n",
    "sb_data_not_n10_steady_after = sb_data_not_n10[(sb_data_not_n10['keyword']=='명랑핫도그')& (sb_data_not_n10['licence_date']>=boom['명랑핫도그']) \n",
    "            | (sb_data_not_n10['keyword']=='설빙')& (sb_data_not_n10['licence_date']>=boom['설빙'])\n",
    "           | (sb_data_not_n10['keyword']=='공차')& (sb_data_not_n10['licence_date']>=boom['공차'])\n",
    "           | (sb_data_not_n10['keyword']=='마라탕')& (sb_data_not_n10['licence_date']>=boom['마라탕'])\n",
    "           | (sb_data_not_n10['keyword']=='엽기떡볶이')& (sb_data_not_n10['licence_date']>=boom['엽기떡볶이'])].reset_index(drop=True)\n",
    "\n",
    "sb_data_not_n10_trendy_before = sb_data_not_n10[(sb_data_not_n10['keyword']=='카스테라')& (sb_data_not_n10['licence_date']<boom['카스테라']) \n",
    "            | (sb_data_not_n10['keyword']=='쥬씨')& (sb_data_not_n10['licence_date']<boom['쥬씨'])\n",
    "           | (sb_data_not_n10['keyword']=='엉생')& (sb_data_not_n10['licence_date']<boom['엉생'])\n",
    "           | (sb_data_not_n10['keyword']=='홍루이젠')& (sb_data_not_n10['licence_date']<boom['홍루이젠'])\n",
    "           | (sb_data_not_n10['keyword']=='밥버거')& (sb_data_not_n10['licence_date']<boom['밥버거'])].reset_index(drop=True)\n",
    "\n",
    "sb_data_not_n10_trendy_after = sb_data_not_n10[(sb_data_not_n10['keyword']=='카스테라')& (sb_data_not_n10['licence_date']>=boom['카스테라']) \n",
    "            | (sb_data_not_n10['keyword']=='쥬씨')& (sb_data_not_n10['licence_date']>=boom['쥬씨'])\n",
    "           | (sb_data_not_n10['keyword']=='엉생')& (sb_data_not_n10['licence_date']>=boom['엉생'])\n",
    "           | (sb_data_not_n10['keyword']=='홍루이젠')& (sb_data_not_n10['licence_date']>=boom['홍루이젠'])\n",
    "           | (sb_data_not_n10['keyword']=='밥버거')& (sb_data_not_n10['licence_date']>=boom['밥버거'])].reset_index(drop=True)"
   ]
  },
  {
   "cell_type": "code",
   "execution_count": 669,
   "id": "4978b65d",
   "metadata": {},
   "outputs": [],
   "source": [
    "sb_data_n10_hotdog = sb_data_n10[(sb_data_n10['keyword']=='명랑핫도그')].reset_index(drop=True)\n",
    "sb_data_not_n10_hotdog = sb_data_not_n10[(sb_data_not_n10['keyword']=='명랑핫도그')].reset_index(drop=True)"
   ]
  },
  {
   "cell_type": "code",
   "execution_count": 670,
   "id": "4028c6eb",
   "metadata": {},
   "outputs": [],
   "source": [
    "temp = pd.concat([sb_data_n10_hotdog, sb_data_not_n10_hotdog], axis=0)\n",
    "temp = temp.sort_values(by='period').reset_index(drop=True)\n",
    "\n",
    "q25 = np.percentile(temp['period'], 25)\n",
    "q50 = np.percentile(temp['period'], 50)\n",
    "q75 = np.percentile(temp['period'], 75)"
   ]
  },
  {
   "cell_type": "code",
   "execution_count": 671,
   "id": "dfb99195",
   "metadata": {},
   "outputs": [],
   "source": [
    "sb_data_n10_hotdog['Quartile'] = np.select(\n",
    "    [sb_data_n10_hotdog['period'] <= q25, (sb_data_n10_hotdog['period'] > q25) & (sb_data_n10_hotdog['period'] <= q50),\n",
    "     (sb_data_n10_hotdog['period'] > q50) & (sb_data_n10_hotdog['period'] <= q75), sb_data_n10_hotdog['period'] > q75],\n",
    "    ['Q1', 'Q2', 'Q3', 'Q4']\n",
    ")"
   ]
  },
  {
   "cell_type": "code",
   "execution_count": 672,
   "id": "cfdbecfc",
   "metadata": {},
   "outputs": [],
   "source": [
    "sb_data_not_n10_hotdog['Quartile'] = np.select(\n",
    "    [sb_data_not_n10_hotdog['period'] <= q25, (sb_data_not_n10_hotdog['period'] > q25) & (sb_data_not_n10_hotdog['period'] <= q50),\n",
    "     (sb_data_not_n10_hotdog['period'] > q50) & (sb_data_not_n10_hotdog['period'] <= q75), sb_data_not_n10_hotdog['period'] > q75],\n",
    "    ['Q1', 'Q2', 'Q3', 'Q4']\n",
    ")"
   ]
  },
  {
   "cell_type": "code",
   "execution_count": 673,
   "id": "0c4f3fb4",
   "metadata": {},
   "outputs": [],
   "source": [
    "sb_data_n10_hotdog_before = sb_data_n10_hotdog[sb_data_n10_hotdog['licence_date']<boom['명랑핫도그']].reset_index(drop=True)\n",
    "sb_data_n10_hotdog_after = sb_data_n10_hotdog[sb_data_n10_hotdog['licence_date']>=boom['명랑핫도그']].reset_index(drop=True)"
   ]
  },
  {
   "cell_type": "code",
   "execution_count": 676,
   "id": "506b65b0",
   "metadata": {},
   "outputs": [],
   "source": [
    "sb_data_not_n10_hotdog_before = sb_data_not_n10_hotdog[sb_data_not_n10_hotdog['licence_date']<boom['명랑핫도그']].reset_index(drop=True)\n",
    "sb_data_not_n10_hotdog_after = sb_data_not_n10_hotdog[sb_data_not_n10_hotdog['licence_date']>=boom['명랑핫도그']].reset_index(drop=True)"
   ]
  },
  {
   "cell_type": "code",
   "execution_count": 683,
   "id": "d6ad846b",
   "metadata": {},
   "outputs": [
    {
     "data": {
      "text/plain": [
       "0.21904761904761905"
      ]
     },
     "execution_count": 683,
     "metadata": {},
     "output_type": "execute_result"
    }
   ],
   "source": [
    "sum(sb_data_n10_hotdog_before['Quartile']=='Q1')/len(sb_data_n10_hotdog_before)"
   ]
  },
  {
   "cell_type": "code",
   "execution_count": 684,
   "id": "fbd04fb4",
   "metadata": {},
   "outputs": [
    {
     "data": {
      "text/plain": [
       "0.32558139534883723"
      ]
     },
     "execution_count": 684,
     "metadata": {},
     "output_type": "execute_result"
    }
   ],
   "source": [
    "sum(sb_data_n10_hotdog_after['Quartile']=='Q1')/len(sb_data_n10_hotdog_after)"
   ]
  },
  {
   "cell_type": "code",
   "execution_count": 685,
   "id": "32ec906b",
   "metadata": {},
   "outputs": [
    {
     "data": {
      "text/plain": [
       "0.20930232558139536"
      ]
     },
     "execution_count": 685,
     "metadata": {},
     "output_type": "execute_result"
    }
   ],
   "source": [
    "sum(sb_data_not_n10_hotdog_before['Quartile']=='Q1')/len(sb_data_not_n10_hotdog_before)"
   ]
  },
  {
   "cell_type": "code",
   "execution_count": 686,
   "id": "e2ec8124",
   "metadata": {},
   "outputs": [
    {
     "data": {
      "text/plain": [
       "0.2222222222222222"
      ]
     },
     "execution_count": 686,
     "metadata": {},
     "output_type": "execute_result"
    }
   ],
   "source": [
    "sum(sb_data_not_n10_hotdog_after['Quartile']=='Q1')/len(sb_data_not_n10_hotdog_after)"
   ]
  },
  {
   "cell_type": "code",
   "execution_count": null,
   "id": "448efa9d",
   "metadata": {},
   "outputs": [],
   "source": []
  },
  {
   "cell_type": "code",
   "execution_count": 691,
   "id": "1324d05b",
   "metadata": {},
   "outputs": [],
   "source": [
    "sb_data_n10_cas = sb_data_n10[(sb_data_n10['keyword']=='카스테라')].reset_index(drop=True)\n",
    "sb_data_not_n10_cas = sb_data_not_n10[(sb_data_not_n10['keyword']=='카스테라')].reset_index(drop=True)"
   ]
  },
  {
   "cell_type": "code",
   "execution_count": 692,
   "id": "8ad6a4c6",
   "metadata": {},
   "outputs": [],
   "source": [
    "temp = pd.concat([sb_data_n10_cas, sb_data_not_n10_cas], axis=0)\n",
    "temp = temp.sort_values(by='period').reset_index(drop=True)\n",
    "\n",
    "q25 = np.percentile(temp['period'], 25)\n",
    "q50 = np.percentile(temp['period'], 50)\n",
    "q75 = np.percentile(temp['period'], 75)"
   ]
  },
  {
   "cell_type": "code",
   "execution_count": 693,
   "id": "7b99b9a6",
   "metadata": {},
   "outputs": [],
   "source": [
    "sb_data_n10_cas['Quartile'] = np.select(\n",
    "    [sb_data_n10_cas['period'] <= q25, (sb_data_n10_cas['period'] > q25) & (sb_data_n10_cas['period'] <= q50),\n",
    "     (sb_data_n10_cas['period'] > q50) & (sb_data_n10_cas['period'] <= q75), sb_data_n10_cas['period'] > q75],\n",
    "    ['Q1', 'Q2', 'Q3', 'Q4']\n",
    ")"
   ]
  },
  {
   "cell_type": "code",
   "execution_count": 694,
   "id": "ca64757a",
   "metadata": {},
   "outputs": [],
   "source": [
    "sb_data_not_n10_cas['Quartile'] = np.select(\n",
    "    [sb_data_not_n10_cas['period'] <= q25, (sb_data_not_n10_cas['period'] > q25) & (sb_data_not_n10_cas['period'] <= q50),\n",
    "     (sb_data_not_n10_cas['period'] > q50) & (sb_data_not_n10_cas['period'] <= q75), sb_data_not_n10_cas['period'] > q75],\n",
    "    ['Q1', 'Q2', 'Q3', 'Q4']\n",
    ")"
   ]
  },
  {
   "cell_type": "code",
   "execution_count": 695,
   "id": "15e97bfc",
   "metadata": {},
   "outputs": [],
   "source": [
    "sb_data_n10_cas_before = sb_data_n10_cas[sb_data_n10_cas['licence_date']<boom['명랑핫도그']].reset_index(drop=True)\n",
    "sb_data_n10_cas_after =sb_data_n10_cas[sb_data_n10_cas['licence_date']>=boom['명랑핫도그']].reset_index(drop=True)"
   ]
  },
  {
   "cell_type": "code",
   "execution_count": 696,
   "id": "26972b50",
   "metadata": {},
   "outputs": [],
   "source": [
    "sb_data_not_n10_cas_before = sb_data_not_n10_cas[sb_data_not_n10_cas['licence_date']<boom['명랑핫도그']].reset_index(drop=True)\n",
    "sb_data_not_n10_cas_after = sb_data_not_n10_cas[sb_data_not_n10_cas['licence_date']>=boom['명랑핫도그']].reset_index(drop=True)"
   ]
  },
  {
   "cell_type": "code",
   "execution_count": 697,
   "id": "d5630f22",
   "metadata": {},
   "outputs": [
    {
     "data": {
      "text/plain": [
       "0.267515923566879"
      ]
     },
     "execution_count": 697,
     "metadata": {},
     "output_type": "execute_result"
    }
   ],
   "source": [
    "sum(sb_data_n10_cas_before['Quartile']=='Q1')/len(sb_data_n10_cas_before)"
   ]
  },
  {
   "cell_type": "code",
   "execution_count": 698,
   "id": "78fd1537",
   "metadata": {},
   "outputs": [
    {
     "data": {
      "text/plain": [
       "0.375"
      ]
     },
     "execution_count": 698,
     "metadata": {},
     "output_type": "execute_result"
    }
   ],
   "source": [
    "sum(sb_data_n10_cas_after['Quartile']=='Q1')/len(sb_data_n10_cas_after)"
   ]
  },
  {
   "cell_type": "code",
   "execution_count": 699,
   "id": "8a215c35",
   "metadata": {},
   "outputs": [
    {
     "data": {
      "text/plain": [
       "0.20634920634920634"
      ]
     },
     "execution_count": 699,
     "metadata": {},
     "output_type": "execute_result"
    }
   ],
   "source": [
    "sum(sb_data_not_n10_cas_before['Quartile']=='Q1')/len(sb_data_not_n10_cas_before)"
   ]
  },
  {
   "cell_type": "code",
   "execution_count": 700,
   "id": "2783b7c5",
   "metadata": {},
   "outputs": [
    {
     "data": {
      "text/plain": [
       "0.0"
      ]
     },
     "execution_count": 700,
     "metadata": {},
     "output_type": "execute_result"
    }
   ],
   "source": [
    "sum(sb_data_not_n10_cas_after['Quartile']=='Q1')/len(sb_data_not_n10_cas_after)"
   ]
  },
  {
   "cell_type": "code",
   "execution_count": 701,
   "id": "15358e8f",
   "metadata": {
    "collapsed": true
   },
   "outputs": [
    {
     "data": {
      "text/html": [
       "<div>\n",
       "<style scoped>\n",
       "    .dataframe tbody tr th:only-of-type {\n",
       "        vertical-align: middle;\n",
       "    }\n",
       "\n",
       "    .dataframe tbody tr th {\n",
       "        vertical-align: top;\n",
       "    }\n",
       "\n",
       "    .dataframe thead th {\n",
       "        text-align: right;\n",
       "    }\n",
       "</style>\n",
       "<table border=\"1\" class=\"dataframe\">\n",
       "  <thead>\n",
       "    <tr style=\"text-align: right;\">\n",
       "      <th></th>\n",
       "      <th>int64_field_0</th>\n",
       "      <th>licence_date</th>\n",
       "      <th>licence_cancel_date</th>\n",
       "      <th>status</th>\n",
       "      <th>close_date</th>\n",
       "      <th>location_number_address</th>\n",
       "      <th>street_name_address</th>\n",
       "      <th>store_name</th>\n",
       "      <th>category</th>\n",
       "      <th>longitude</th>\n",
       "      <th>latitude</th>\n",
       "      <th>business_area_name</th>\n",
       "      <th>multi_business</th>\n",
       "      <th>period</th>\n",
       "      <th>keyword</th>\n",
       "      <th>class</th>\n",
       "      <th>Quartile</th>\n",
       "    </tr>\n",
       "  </thead>\n",
       "  <tbody>\n",
       "    <tr>\n",
       "      <th>0</th>\n",
       "      <td>2382319</td>\n",
       "      <td>2019-02-18</td>\n",
       "      <td>NaN</td>\n",
       "      <td>폐업</td>\n",
       "      <td>2020-05-20</td>\n",
       "      <td>경상북도 포항시 남구 효자동 570-3번지 1층</td>\n",
       "      <td>경상북도 포항시 남구 효성로15번길 9-1, 1층 (효자동)</td>\n",
       "      <td>나가사키 카스테라</td>\n",
       "      <td>기타 휴게음식점</td>\n",
       "      <td>129.332977</td>\n",
       "      <td>36.006962</td>\n",
       "      <td>NaN</td>\n",
       "      <td>False</td>\n",
       "      <td>457.0</td>\n",
       "      <td>카스테라</td>\n",
       "      <td>trendy</td>\n",
       "      <td>Q3</td>\n",
       "    </tr>\n",
       "    <tr>\n",
       "      <th>1</th>\n",
       "      <td>2301235</td>\n",
       "      <td>2017-07-31</td>\n",
       "      <td>NaN</td>\n",
       "      <td>폐업</td>\n",
       "      <td>2018-08-10</td>\n",
       "      <td>강원특별자치도 원주시 중앙동 30 지상1층</td>\n",
       "      <td>강원특별자치도 원주시 천사로 216, 지상1층 (중앙동)</td>\n",
       "      <td>치즈케익카스테라카페</td>\n",
       "      <td>기타 휴게음식점</td>\n",
       "      <td>127.945042</td>\n",
       "      <td>37.351378</td>\n",
       "      <td>기타</td>\n",
       "      <td>False</td>\n",
       "      <td>375.0</td>\n",
       "      <td>카스테라</td>\n",
       "      <td>trendy</td>\n",
       "      <td>Q3</td>\n",
       "    </tr>\n",
       "    <tr>\n",
       "      <th>2</th>\n",
       "      <td>2178948</td>\n",
       "      <td>2017-04-06</td>\n",
       "      <td>NaN</td>\n",
       "      <td>폐업</td>\n",
       "      <td>2018-12-27</td>\n",
       "      <td>충청북도 청주시 청원구 오창읍 양청리 821-2번지</td>\n",
       "      <td>충청북도 청주시 청원구 오창읍 오창대로 315, 지하1층 B115호 (올리브상가)</td>\n",
       "      <td>대만웅카스테라</td>\n",
       "      <td>기타 휴게음식점</td>\n",
       "      <td>127.424780</td>\n",
       "      <td>36.711374</td>\n",
       "      <td>NaN</td>\n",
       "      <td>False</td>\n",
       "      <td>630.0</td>\n",
       "      <td>카스테라</td>\n",
       "      <td>trendy</td>\n",
       "      <td>Q3</td>\n",
       "    </tr>\n",
       "    <tr>\n",
       "      <th>3</th>\n",
       "      <td>8193</td>\n",
       "      <td>2020-12-10</td>\n",
       "      <td>NaN</td>\n",
       "      <td>폐업</td>\n",
       "      <td>2023-01-03</td>\n",
       "      <td>경상남도 거제시 옥포동 530-20</td>\n",
       "      <td>경상남도 거제시 옥포로 216, 1층 (옥포동)</td>\n",
       "      <td>은마꽈배기카스테라</td>\n",
       "      <td>분식</td>\n",
       "      <td>128.688218</td>\n",
       "      <td>34.894018</td>\n",
       "      <td>NaN</td>\n",
       "      <td>False</td>\n",
       "      <td>754.0</td>\n",
       "      <td>카스테라</td>\n",
       "      <td>trendy</td>\n",
       "      <td>Q3</td>\n",
       "    </tr>\n",
       "  </tbody>\n",
       "</table>\n",
       "</div>"
      ],
      "text/plain": [
       "   int64_field_0 licence_date  licence_cancel_date status close_date  \\\n",
       "0        2382319   2019-02-18                  NaN     폐업 2020-05-20   \n",
       "1        2301235   2017-07-31                  NaN     폐업 2018-08-10   \n",
       "2        2178948   2017-04-06                  NaN     폐업 2018-12-27   \n",
       "3           8193   2020-12-10                  NaN     폐업 2023-01-03   \n",
       "\n",
       "        location_number_address  \\\n",
       "0    경상북도 포항시 남구 효자동 570-3번지 1층   \n",
       "1       강원특별자치도 원주시 중앙동 30 지상1층   \n",
       "2  충청북도 청주시 청원구 오창읍 양청리 821-2번지   \n",
       "3           경상남도 거제시 옥포동 530-20   \n",
       "\n",
       "                             street_name_address  store_name  category  \\\n",
       "0              경상북도 포항시 남구 효성로15번길 9-1, 1층 (효자동)   나가사키 카스테라  기타 휴게음식점   \n",
       "1                강원특별자치도 원주시 천사로 216, 지상1층 (중앙동)  치즈케익카스테라카페  기타 휴게음식점   \n",
       "2  충청북도 청주시 청원구 오창읍 오창대로 315, 지하1층 B115호 (올리브상가)     대만웅카스테라  기타 휴게음식점   \n",
       "3                     경상남도 거제시 옥포로 216, 1층 (옥포동)   은마꽈배기카스테라        분식   \n",
       "\n",
       "    longitude   latitude business_area_name  multi_business  period keyword  \\\n",
       "0  129.332977  36.006962                NaN           False   457.0    카스테라   \n",
       "1  127.945042  37.351378                 기타           False   375.0    카스테라   \n",
       "2  127.424780  36.711374                NaN           False   630.0    카스테라   \n",
       "3  128.688218  34.894018                NaN           False   754.0    카스테라   \n",
       "\n",
       "    class Quartile  \n",
       "0  trendy       Q3  \n",
       "1  trendy       Q3  \n",
       "2  trendy       Q3  \n",
       "3  trendy       Q3  "
      ]
     },
     "execution_count": 701,
     "metadata": {},
     "output_type": "execute_result"
    }
   ],
   "source": [
    "sb_data_not_n10_cas_after"
   ]
  },
  {
   "cell_type": "code",
   "execution_count": null,
   "id": "97c3cf64",
   "metadata": {},
   "outputs": [],
   "source": []
  },
  {
   "cell_type": "code",
   "execution_count": 702,
   "id": "ca3e8e70",
   "metadata": {
    "collapsed": true
   },
   "outputs": [
    {
     "data": {
      "text/html": [
       "<div>\n",
       "<style scoped>\n",
       "    .dataframe tbody tr th:only-of-type {\n",
       "        vertical-align: middle;\n",
       "    }\n",
       "\n",
       "    .dataframe tbody tr th {\n",
       "        vertical-align: top;\n",
       "    }\n",
       "\n",
       "    .dataframe thead th {\n",
       "        text-align: right;\n",
       "    }\n",
       "</style>\n",
       "<table border=\"1\" class=\"dataframe\">\n",
       "  <thead>\n",
       "    <tr style=\"text-align: right;\">\n",
       "      <th></th>\n",
       "      <th>int64_field_0</th>\n",
       "      <th>licence_date</th>\n",
       "      <th>licence_cancel_date</th>\n",
       "      <th>status</th>\n",
       "      <th>close_date</th>\n",
       "      <th>location_number_address</th>\n",
       "      <th>street_name_address</th>\n",
       "      <th>store_name</th>\n",
       "      <th>category</th>\n",
       "      <th>longitude</th>\n",
       "      <th>latitude</th>\n",
       "      <th>business_area_name</th>\n",
       "      <th>multi_business</th>\n",
       "      <th>period</th>\n",
       "      <th>keyword</th>\n",
       "      <th>class</th>\n",
       "    </tr>\n",
       "  </thead>\n",
       "  <tbody>\n",
       "    <tr>\n",
       "      <th>0</th>\n",
       "      <td>745867</td>\n",
       "      <td>2017-06-28</td>\n",
       "      <td>NaN</td>\n",
       "      <td>폐업</td>\n",
       "      <td>2021-04-06</td>\n",
       "      <td>경기도 부천시 중동 1173-1 보람마을동남아파트 상가동 101호</td>\n",
       "      <td>경기도 부천시 석천로 105 (중동, 보람마을동남아파트 상가동 101호)</td>\n",
       "      <td>명랑핫도그 중동점</td>\n",
       "      <td>기타</td>\n",
       "      <td>126.757882</td>\n",
       "      <td>37.497507</td>\n",
       "      <td>NaN</td>\n",
       "      <td>False</td>\n",
       "      <td>1378.0</td>\n",
       "      <td>명랑핫도그</td>\n",
       "      <td>steady</td>\n",
       "    </tr>\n",
       "    <tr>\n",
       "      <th>1</th>\n",
       "      <td>848285</td>\n",
       "      <td>2018-04-05</td>\n",
       "      <td>NaN</td>\n",
       "      <td>폐업</td>\n",
       "      <td>2023-07-31</td>\n",
       "      <td>서울특별시 중구 을지로2가 88-5 1층</td>\n",
       "      <td>서울특별시 중구 삼일대로 358, 1층 (을지로2가)</td>\n",
       "      <td>공차 을지로2가점</td>\n",
       "      <td>기타</td>\n",
       "      <td>126.985188</td>\n",
       "      <td>37.566488</td>\n",
       "      <td>NaN</td>\n",
       "      <td>False</td>\n",
       "      <td>1943.0</td>\n",
       "      <td>공차</td>\n",
       "      <td>steady</td>\n",
       "    </tr>\n",
       "    <tr>\n",
       "      <th>2</th>\n",
       "      <td>657412</td>\n",
       "      <td>2021-12-27</td>\n",
       "      <td>NaN</td>\n",
       "      <td>폐업</td>\n",
       "      <td>2022-11-23</td>\n",
       "      <td>경기도 군포시 산본동 1138-1 거성빌딩3차</td>\n",
       "      <td>경기도 군포시 산본로323번길 20-21, 거성빌딩3차 지층 4호 (산본동)</td>\n",
       "      <td>마라탕세계</td>\n",
       "      <td>기타</td>\n",
       "      <td>126.928109</td>\n",
       "      <td>37.359515</td>\n",
       "      <td>NaN</td>\n",
       "      <td>False</td>\n",
       "      <td>331.0</td>\n",
       "      <td>마라탕</td>\n",
       "      <td>steady</td>\n",
       "    </tr>\n",
       "    <tr>\n",
       "      <th>3</th>\n",
       "      <td>1392439</td>\n",
       "      <td>2015-04-29</td>\n",
       "      <td>NaN</td>\n",
       "      <td>폐업</td>\n",
       "      <td>2018-12-13</td>\n",
       "      <td>대전광역시 유성구 봉명동 1016-7번지 유성온천CGV점 지상2층 209호</td>\n",
       "      <td>대전광역시 유성구 계룡로132번길 10, 지상2층 209호 (봉명동, 유성온천CGV점)</td>\n",
       "      <td>설빙(유성온천 CGV점)</td>\n",
       "      <td>까페</td>\n",
       "      <td>127.341728</td>\n",
       "      <td>36.352380</td>\n",
       "      <td>NaN</td>\n",
       "      <td>True</td>\n",
       "      <td>1324.0</td>\n",
       "      <td>설빙</td>\n",
       "      <td>steady</td>\n",
       "    </tr>\n",
       "    <tr>\n",
       "      <th>4</th>\n",
       "      <td>382902</td>\n",
       "      <td>2017-12-29</td>\n",
       "      <td>NaN</td>\n",
       "      <td>폐업</td>\n",
       "      <td>2018-02-25</td>\n",
       "      <td>경기도 가평군 청평면 청평리 738번지 12동</td>\n",
       "      <td>NaN</td>\n",
       "      <td>설빙겨울축제(분식)</td>\n",
       "      <td>분식</td>\n",
       "      <td>127.412283</td>\n",
       "      <td>37.732570</td>\n",
       "      <td>NaN</td>\n",
       "      <td>False</td>\n",
       "      <td>58.0</td>\n",
       "      <td>설빙</td>\n",
       "      <td>steady</td>\n",
       "    </tr>\n",
       "    <tr>\n",
       "      <th>...</th>\n",
       "      <td>...</td>\n",
       "      <td>...</td>\n",
       "      <td>...</td>\n",
       "      <td>...</td>\n",
       "      <td>...</td>\n",
       "      <td>...</td>\n",
       "      <td>...</td>\n",
       "      <td>...</td>\n",
       "      <td>...</td>\n",
       "      <td>...</td>\n",
       "      <td>...</td>\n",
       "      <td>...</td>\n",
       "      <td>...</td>\n",
       "      <td>...</td>\n",
       "      <td>...</td>\n",
       "      <td>...</td>\n",
       "    </tr>\n",
       "    <tr>\n",
       "      <th>535</th>\n",
       "      <td>2397229</td>\n",
       "      <td>2017-04-19</td>\n",
       "      <td>NaN</td>\n",
       "      <td>폐업</td>\n",
       "      <td>2018-03-23</td>\n",
       "      <td>대전광역시 대덕구 중리동 369-18번지 1층</td>\n",
       "      <td>대전광역시 대덕구 중리북로 41, 1층 (중리동)</td>\n",
       "      <td>명랑쌀핫도그</td>\n",
       "      <td>일반조리판매</td>\n",
       "      <td>127.422694</td>\n",
       "      <td>36.366319</td>\n",
       "      <td>NaN</td>\n",
       "      <td>False</td>\n",
       "      <td>338.0</td>\n",
       "      <td>명랑핫도그</td>\n",
       "      <td>steady</td>\n",
       "    </tr>\n",
       "    <tr>\n",
       "      <th>536</th>\n",
       "      <td>2307985</td>\n",
       "      <td>2014-08-21</td>\n",
       "      <td>NaN</td>\n",
       "      <td>폐업</td>\n",
       "      <td>2018-08-02</td>\n",
       "      <td>서울특별시 송파구 잠실동 40번지 갤러리아펠리스 지상1층 129호</td>\n",
       "      <td>서울특별시 송파구 올림픽로 212, 1층 129호 (잠실동, 갤러리아펠리스)</td>\n",
       "      <td>공차 잠실 갤러리아펠리스점</td>\n",
       "      <td>기타 휴게음식점</td>\n",
       "      <td>127.091029</td>\n",
       "      <td>37.511104</td>\n",
       "      <td>NaN</td>\n",
       "      <td>False</td>\n",
       "      <td>1442.0</td>\n",
       "      <td>공차</td>\n",
       "      <td>steady</td>\n",
       "    </tr>\n",
       "    <tr>\n",
       "      <th>537</th>\n",
       "      <td>2218381</td>\n",
       "      <td>2021-11-01</td>\n",
       "      <td>NaN</td>\n",
       "      <td>폐업</td>\n",
       "      <td>2022-12-14</td>\n",
       "      <td>경기도 평택시 고덕동 2164-3 고덕 헤리움 비즈타워 2차 102호</td>\n",
       "      <td>경기도 평택시 고덕여염9길 22, 고덕 헤리움 비즈타워 2차 102호</td>\n",
       "      <td>명랑시대쌀핫도그 고덕삼성점</td>\n",
       "      <td>기타 휴게음식점</td>\n",
       "      <td>127.046274</td>\n",
       "      <td>37.038930</td>\n",
       "      <td>기타</td>\n",
       "      <td>False</td>\n",
       "      <td>408.0</td>\n",
       "      <td>명랑핫도그</td>\n",
       "      <td>steady</td>\n",
       "    </tr>\n",
       "    <tr>\n",
       "      <th>538</th>\n",
       "      <td>2282563</td>\n",
       "      <td>2016-08-09</td>\n",
       "      <td>NaN</td>\n",
       "      <td>폐업</td>\n",
       "      <td>2019-01-17</td>\n",
       "      <td>경기도 안산시 단원구 선부동 1064-1번지</td>\n",
       "      <td>경기도 안산시 단원구 석수로 37, 1층 (선부동)</td>\n",
       "      <td>신할매 엽기떡볶이</td>\n",
       "      <td>기타 휴게음식점</td>\n",
       "      <td>126.804572</td>\n",
       "      <td>37.339920</td>\n",
       "      <td>NaN</td>\n",
       "      <td>False</td>\n",
       "      <td>891.0</td>\n",
       "      <td>엽기떡볶이</td>\n",
       "      <td>steady</td>\n",
       "    </tr>\n",
       "    <tr>\n",
       "      <th>539</th>\n",
       "      <td>657306</td>\n",
       "      <td>2022-01-24</td>\n",
       "      <td>NaN</td>\n",
       "      <td>폐업</td>\n",
       "      <td>2022-06-16</td>\n",
       "      <td>경기도 남양주시 호평동 645-6 1층 일부</td>\n",
       "      <td>경기도 남양주시 호평로 54, 1층 일부 (호평동)</td>\n",
       "      <td>라화방마라탕</td>\n",
       "      <td>외국음식전문점(인도,태국등)</td>\n",
       "      <td>127.243243</td>\n",
       "      <td>37.655818</td>\n",
       "      <td>NaN</td>\n",
       "      <td>False</td>\n",
       "      <td>143.0</td>\n",
       "      <td>마라탕</td>\n",
       "      <td>steady</td>\n",
       "    </tr>\n",
       "  </tbody>\n",
       "</table>\n",
       "<p>540 rows × 16 columns</p>\n",
       "</div>"
      ],
      "text/plain": [
       "     int64_field_0 licence_date  licence_cancel_date status close_date  \\\n",
       "0           745867   2017-06-28                  NaN     폐업 2021-04-06   \n",
       "1           848285   2018-04-05                  NaN     폐업 2023-07-31   \n",
       "2           657412   2021-12-27                  NaN     폐업 2022-11-23   \n",
       "3          1392439   2015-04-29                  NaN     폐업 2018-12-13   \n",
       "4           382902   2017-12-29                  NaN     폐업 2018-02-25   \n",
       "..             ...          ...                  ...    ...        ...   \n",
       "535        2397229   2017-04-19                  NaN     폐업 2018-03-23   \n",
       "536        2307985   2014-08-21                  NaN     폐업 2018-08-02   \n",
       "537        2218381   2021-11-01                  NaN     폐업 2022-12-14   \n",
       "538        2282563   2016-08-09                  NaN     폐업 2019-01-17   \n",
       "539         657306   2022-01-24                  NaN     폐업 2022-06-16   \n",
       "\n",
       "                       location_number_address  \\\n",
       "0         경기도 부천시 중동 1173-1 보람마을동남아파트 상가동 101호   \n",
       "1                       서울특별시 중구 을지로2가 88-5 1층   \n",
       "2                    경기도 군포시 산본동 1138-1 거성빌딩3차   \n",
       "3    대전광역시 유성구 봉명동 1016-7번지 유성온천CGV점 지상2층 209호   \n",
       "4                    경기도 가평군 청평면 청평리 738번지 12동   \n",
       "..                                         ...   \n",
       "535                  대전광역시 대덕구 중리동 369-18번지 1층   \n",
       "536       서울특별시 송파구 잠실동 40번지 갤러리아펠리스 지상1층 129호   \n",
       "537     경기도 평택시 고덕동 2164-3 고덕 헤리움 비즈타워 2차 102호   \n",
       "538                   경기도 안산시 단원구 선부동 1064-1번지   \n",
       "539                   경기도 남양주시 호평동 645-6 1층 일부   \n",
       "\n",
       "                                  street_name_address      store_name  \\\n",
       "0            경기도 부천시 석천로 105 (중동, 보람마을동남아파트 상가동 101호)       명랑핫도그 중동점   \n",
       "1                       서울특별시 중구 삼일대로 358, 1층 (을지로2가)       공차 을지로2가점   \n",
       "2          경기도 군포시 산본로323번길 20-21, 거성빌딩3차 지층 4호 (산본동)           마라탕세계   \n",
       "3    대전광역시 유성구 계룡로132번길 10, 지상2층 209호 (봉명동, 유성온천CGV점)   설빙(유성온천 CGV점)   \n",
       "4                                                 NaN      설빙겨울축제(분식)   \n",
       "..                                                ...             ...   \n",
       "535                       대전광역시 대덕구 중리북로 41, 1층 (중리동)          명랑쌀핫도그   \n",
       "536        서울특별시 송파구 올림픽로 212, 1층 129호 (잠실동, 갤러리아펠리스)  공차 잠실 갤러리아펠리스점   \n",
       "537            경기도 평택시 고덕여염9길 22, 고덕 헤리움 비즈타워 2차 102호  명랑시대쌀핫도그 고덕삼성점   \n",
       "538                      경기도 안산시 단원구 석수로 37, 1층 (선부동)       신할매 엽기떡볶이   \n",
       "539                      경기도 남양주시 호평로 54, 1층 일부 (호평동)          라화방마라탕   \n",
       "\n",
       "            category   longitude   latitude business_area_name  \\\n",
       "0                 기타  126.757882  37.497507                NaN   \n",
       "1                 기타  126.985188  37.566488                NaN   \n",
       "2                 기타  126.928109  37.359515                NaN   \n",
       "3                 까페  127.341728  36.352380                NaN   \n",
       "4                 분식  127.412283  37.732570                NaN   \n",
       "..               ...         ...        ...                ...   \n",
       "535           일반조리판매  127.422694  36.366319                NaN   \n",
       "536         기타 휴게음식점  127.091029  37.511104                NaN   \n",
       "537         기타 휴게음식점  127.046274  37.038930                 기타   \n",
       "538         기타 휴게음식점  126.804572  37.339920                NaN   \n",
       "539  외국음식전문점(인도,태국등)  127.243243  37.655818                NaN   \n",
       "\n",
       "     multi_business  period keyword   class  \n",
       "0             False  1378.0   명랑핫도그  steady  \n",
       "1             False  1943.0      공차  steady  \n",
       "2             False   331.0     마라탕  steady  \n",
       "3              True  1324.0      설빙  steady  \n",
       "4             False    58.0      설빙  steady  \n",
       "..              ...     ...     ...     ...  \n",
       "535           False   338.0   명랑핫도그  steady  \n",
       "536           False  1442.0      공차  steady  \n",
       "537           False   408.0   명랑핫도그  steady  \n",
       "538           False   891.0   엽기떡볶이  steady  \n",
       "539           False   143.0     마라탕  steady  \n",
       "\n",
       "[540 rows x 16 columns]"
      ]
     },
     "execution_count": 702,
     "metadata": {},
     "output_type": "execute_result"
    }
   ],
   "source": [
    "sb_data_n10_steady_before\n",
    "sb_data_n10_steady_after"
   ]
  },
  {
   "cell_type": "code",
   "execution_count": null,
   "id": "8b2cb9b3",
   "metadata": {},
   "outputs": [],
   "source": []
  },
  {
   "cell_type": "code",
   "execution_count": 760,
   "id": "42bb8764",
   "metadata": {
    "collapsed": true
   },
   "outputs": [
    {
     "data": {
      "text/plain": [
       "밥버거       581\n",
       "마라탕       491\n",
       "쥬씨        350\n",
       "공차        206\n",
       "명랑핫도그     191\n",
       "카스테라      173\n",
       "홍루이젠      151\n",
       "설빙        122\n",
       "엉터리생고기     63\n",
       "엽기떡볶이      47\n",
       "탕후루        31\n",
       "Name: keyword, dtype: int64"
      ]
     },
     "execution_count": 760,
     "metadata": {},
     "output_type": "execute_result"
    }
   ],
   "source": [
    "sb_data_n10['keyword'].value_counts()"
   ]
  },
  {
   "cell_type": "markdown",
   "id": "3393b3d4",
   "metadata": {},
   "source": [
    "### 다시 표준정규화로 해보자"
   ]
  },
  {
   "cell_type": "code",
   "execution_count": 944,
   "id": "823c18ec",
   "metadata": {},
   "outputs": [],
   "source": [
    "sb_data_n10 = pd.read_csv('C:/Users/sjhty/Desktop/데이터/서울.csv')\n",
    "sb_data_not_n10 = pd.read_csv('C:/Users/sjhty/Desktop/데이터/서울 외.csv')\n",
    "\n",
    "sb_data_n10 = sb_data_n10[sb_data_n10['status']=='폐업']\n",
    "sb_data_not_n10 = sb_data_not_n10[sb_data_not_n10['status']=='폐업']\n",
    "\n",
    "sb_data_n10['period'] = sb_data_n10['period'].apply(lambda n:float(re.sub('[^0-9]', '', n)))\n",
    "sb_data_not_n10['period'] = sb_data_not_n10['period'].apply(lambda n:float(re.sub('[^0-9]', '', n)))\n",
    "\n",
    "sb_data_n10['licence_date'] = pd.to_datetime(sb_data_n10['licence_date'])\n",
    "sb_data_n10['close_date'] = pd.to_datetime(sb_data_n10['close_date'])\n",
    "\n",
    "sb_data_not_n10['licence_date'] = pd.to_datetime(sb_data_not_n10['licence_date'])\n",
    "sb_data_not_n10['close_date'] = pd.to_datetime(sb_data_not_n10['close_date'])\n",
    "\n"
   ]
  },
  {
   "cell_type": "code",
   "execution_count": 945,
   "id": "61482169",
   "metadata": {},
   "outputs": [],
   "source": [
    "temp = pd.concat([sb_data_n10, sb_data_not_n10],axis=0)"
   ]
  },
  {
   "cell_type": "code",
   "execution_count": 972,
   "id": "2da8e0b2",
   "metadata": {},
   "outputs": [
    {
     "data": {
      "text/plain": [
       "0       1943.0\n",
       "1       4026.0\n",
       "2        631.0\n",
       "3       1468.0\n",
       "4        763.0\n",
       "         ...  \n",
       "1272    1147.0\n",
       "1273     408.0\n",
       "1274     375.0\n",
       "1275     891.0\n",
       "1276     143.0\n",
       "Name: period, Length: 1277, dtype: float64"
      ]
     },
     "execution_count": 972,
     "metadata": {},
     "output_type": "execute_result"
    }
   ],
   "source": [
    "temp[temp['class']=='steady']['period'].reset_index(drop=True)"
   ]
  },
  {
   "cell_type": "code",
   "execution_count": 985,
   "id": "77bbbd6b",
   "metadata": {},
   "outputs": [
    {
     "data": {
      "image/png": "[encoded data removed]",
      "text/plain": [
       "<Figure size 640x480 with 1 Axes>"
      ]
     },
     "metadata": {},
     "output_type": "display_data"
    }
   ],
   "source": [
    "plt.hist(sb_data_n10[sb_data_n10['class']=='trendy']['licence_date'].reset_index(drop=True), bins=20, color='skyblue', edgecolor='black')  # 히스토그램 그리기\n",
    "plt.xlabel('Period')\n",
    "plt.ylabel('Frequency')\n",
    "plt.title('Histogram of Period')\n",
    "plt.show()"
   ]
  },
  {
   "cell_type": "code",
   "execution_count": 986,
   "id": "4bb0ca87",
   "metadata": {},
   "outputs": [
    {
     "data": {
      "image/png": "[encoded data removed]",
      "text/plain": [
       "<Figure size 640x480 with 1 Axes>"
      ]
     },
     "metadata": {},
     "output_type": "display_data"
    }
   ],
   "source": [
    "plt.hist(sb_data_n10[sb_data_n10['class']=='steady']['licence_date'].reset_index(drop=True), bins=20, color='skyblue', edgecolor='black')  # 히스토그램 그리기\n",
    "plt.xlabel('Period')\n",
    "plt.ylabel('Frequency')\n",
    "plt.title('Histogram of Period')\n",
    "plt.show()"
   ]
  },
  {
   "cell_type": "code",
   "execution_count": 950,
   "id": "3a332e6e",
   "metadata": {},
   "outputs": [
    {
     "data": {
      "text/html": [
       "<style>#sk-container-id-18 {color: black;background-color: white;}#sk-container-id-18 pre{padding: 0;}#sk-container-id-18 div.sk-toggleable {background-color: white;}#sk-container-id-18 label.sk-toggleable__label {cursor: pointer;display: block;width: 100%;margin-bottom: 0;padding: 0.3em;box-sizing: border-box;text-align: center;}#sk-container-id-18 label.sk-toggleable__label-arrow:before {content: \"▸\";float: left;margin-right: 0.25em;color: #696969;}#sk-container-id-18 label.sk-toggleable__label-arrow:hover:before {color: black;}#sk-container-id-18 div.sk-estimator:hover label.sk-toggleable__label-arrow:before {color: black;}#sk-container-id-18 div.sk-toggleable__content {max-height: 0;max-width: 0;overflow: hidden;text-align: left;background-color: #f0f8ff;}#sk-container-id-18 div.sk-toggleable__content pre {margin: 0.2em;color: black;border-radius: 0.25em;background-color: #f0f8ff;}#sk-container-id-18 input.sk-toggleable__control:checked~div.sk-toggleable__content {max-height: 200px;max-width: 100%;overflow: auto;}#sk-container-id-18 input.sk-toggleable__control:checked~label.sk-toggleable__label-arrow:before {content: \"▾\";}#sk-container-id-18 div.sk-estimator input.sk-toggleable__control:checked~label.sk-toggleable__label {background-color: #d4ebff;}#sk-container-id-18 div.sk-label input.sk-toggleable__control:checked~label.sk-toggleable__label {background-color: #d4ebff;}#sk-container-id-18 input.sk-hidden--visually {border: 0;clip: rect(1px 1px 1px 1px);clip: rect(1px, 1px, 1px, 1px);height: 1px;margin: -1px;overflow: hidden;padding: 0;position: absolute;width: 1px;}#sk-container-id-18 div.sk-estimator {font-family: monospace;background-color: #f0f8ff;border: 1px dotted black;border-radius: 0.25em;box-sizing: border-box;margin-bottom: 0.5em;}#sk-container-id-18 div.sk-estimator:hover {background-color: #d4ebff;}#sk-container-id-18 div.sk-parallel-item::after {content: \"\";width: 100%;border-bottom: 1px solid gray;flex-grow: 1;}#sk-container-id-18 div.sk-label:hover label.sk-toggleable__label {background-color: #d4ebff;}#sk-container-id-18 div.sk-serial::before {content: \"\";position: absolute;border-left: 1px solid gray;box-sizing: border-box;top: 0;bottom: 0;left: 50%;z-index: 0;}#sk-container-id-18 div.sk-serial {display: flex;flex-direction: column;align-items: center;background-color: white;padding-right: 0.2em;padding-left: 0.2em;position: relative;}#sk-container-id-18 div.sk-item {position: relative;z-index: 1;}#sk-container-id-18 div.sk-parallel {display: flex;align-items: stretch;justify-content: center;background-color: white;position: relative;}#sk-container-id-18 div.sk-item::before, #sk-container-id-18 div.sk-parallel-item::before {content: \"\";position: absolute;border-left: 1px solid gray;box-sizing: border-box;top: 0;bottom: 0;left: 50%;z-index: -1;}#sk-container-id-18 div.sk-parallel-item {display: flex;flex-direction: column;z-index: 1;position: relative;background-color: white;}#sk-container-id-18 div.sk-parallel-item:first-child::after {align-self: flex-end;width: 50%;}#sk-container-id-18 div.sk-parallel-item:last-child::after {align-self: flex-start;width: 50%;}#sk-container-id-18 div.sk-parallel-item:only-child::after {width: 0;}#sk-container-id-18 div.sk-dashed-wrapped {border: 1px dashed gray;margin: 0 0.4em 0.5em 0.4em;box-sizing: border-box;padding-bottom: 0.4em;background-color: white;}#sk-container-id-18 div.sk-label label {font-family: monospace;font-weight: bold;display: inline-block;line-height: 1.2em;}#sk-container-id-18 div.sk-label-container {text-align: center;}#sk-container-id-18 div.sk-container {/* jupyter's `normalize.less` sets `[hidden] { display: none; }` but bootstrap.min.css set `[hidden] { display: none !important; }` so we also need the `!important` here to be able to override the default hidden behavior on the sphinx rendered scikit-learn.org. See: https://github.com/scikit-learn/scikit-learn/issues/21755 */display: inline-block !important;position: relative;}#sk-container-id-18 div.sk-text-repr-fallback {display: none;}</style><div id=\"sk-container-id-18\" class=\"sk-top-container\"><div class=\"sk-text-repr-fallback\"><pre>StandardScaler()</pre><b>In a Jupyter environment, please rerun this cell to show the HTML representation or trust the notebook. <br />On GitHub, the HTML representation is unable to render, please try loading this page with nbviewer.org.</b></div><div class=\"sk-container\" hidden><div class=\"sk-item\"><div class=\"sk-estimator sk-toggleable\"><input class=\"sk-toggleable__control sk-hidden--visually\" id=\"sk-estimator-id-18\" type=\"checkbox\" checked><label for=\"sk-estimator-id-18\" class=\"sk-toggleable__label sk-toggleable__label-arrow\">StandardScaler</label><div class=\"sk-toggleable__content\"><pre>StandardScaler()</pre></div></div></div></div></div>"
      ],
      "text/plain": [
       "StandardScaler()"
      ]
     },
     "execution_count": 950,
     "metadata": {},
     "output_type": "execute_result"
    }
   ],
   "source": [
    "scaler = StandardScaler()\n",
    "scaler.fit(np.array(temp['period']).reshape(-1,1))"
   ]
  },
  {
   "cell_type": "code",
   "execution_count": 955,
   "id": "daba7601",
   "metadata": {},
   "outputs": [],
   "source": [
    "sb_data_n10['scale'] = scaler.transform(np.array(sb_data_n10['period']).reshape(-1,1)).flatten()\n",
    "sb_data_not_n10['scale'] = scaler.transform(np.array(sb_data_not_n10['period']).reshape(-1,1)).flatten()"
   ]
  },
  {
   "cell_type": "code",
   "execution_count": 929,
   "id": "6179be61",
   "metadata": {},
   "outputs": [
    {
     "data": {
      "text/html": [
       "<style>#sk-container-id-17 {color: black;background-color: white;}#sk-container-id-17 pre{padding: 0;}#sk-container-id-17 div.sk-toggleable {background-color: white;}#sk-container-id-17 label.sk-toggleable__label {cursor: pointer;display: block;width: 100%;margin-bottom: 0;padding: 0.3em;box-sizing: border-box;text-align: center;}#sk-container-id-17 label.sk-toggleable__label-arrow:before {content: \"▸\";float: left;margin-right: 0.25em;color: #696969;}#sk-container-id-17 label.sk-toggleable__label-arrow:hover:before {color: black;}#sk-container-id-17 div.sk-estimator:hover label.sk-toggleable__label-arrow:before {color: black;}#sk-container-id-17 div.sk-toggleable__content {max-height: 0;max-width: 0;overflow: hidden;text-align: left;background-color: #f0f8ff;}#sk-container-id-17 div.sk-toggleable__content pre {margin: 0.2em;color: black;border-radius: 0.25em;background-color: #f0f8ff;}#sk-container-id-17 input.sk-toggleable__control:checked~div.sk-toggleable__content {max-height: 200px;max-width: 100%;overflow: auto;}#sk-container-id-17 input.sk-toggleable__control:checked~label.sk-toggleable__label-arrow:before {content: \"▾\";}#sk-container-id-17 div.sk-estimator input.sk-toggleable__control:checked~label.sk-toggleable__label {background-color: #d4ebff;}#sk-container-id-17 div.sk-label input.sk-toggleable__control:checked~label.sk-toggleable__label {background-color: #d4ebff;}#sk-container-id-17 input.sk-hidden--visually {border: 0;clip: rect(1px 1px 1px 1px);clip: rect(1px, 1px, 1px, 1px);height: 1px;margin: -1px;overflow: hidden;padding: 0;position: absolute;width: 1px;}#sk-container-id-17 div.sk-estimator {font-family: monospace;background-color: #f0f8ff;border: 1px dotted black;border-radius: 0.25em;box-sizing: border-box;margin-bottom: 0.5em;}#sk-container-id-17 div.sk-estimator:hover {background-color: #d4ebff;}#sk-container-id-17 div.sk-parallel-item::after {content: \"\";width: 100%;border-bottom: 1px solid gray;flex-grow: 1;}#sk-container-id-17 div.sk-label:hover label.sk-toggleable__label {background-color: #d4ebff;}#sk-container-id-17 div.sk-serial::before {content: \"\";position: absolute;border-left: 1px solid gray;box-sizing: border-box;top: 0;bottom: 0;left: 50%;z-index: 0;}#sk-container-id-17 div.sk-serial {display: flex;flex-direction: column;align-items: center;background-color: white;padding-right: 0.2em;padding-left: 0.2em;position: relative;}#sk-container-id-17 div.sk-item {position: relative;z-index: 1;}#sk-container-id-17 div.sk-parallel {display: flex;align-items: stretch;justify-content: center;background-color: white;position: relative;}#sk-container-id-17 div.sk-item::before, #sk-container-id-17 div.sk-parallel-item::before {content: \"\";position: absolute;border-left: 1px solid gray;box-sizing: border-box;top: 0;bottom: 0;left: 50%;z-index: -1;}#sk-container-id-17 div.sk-parallel-item {display: flex;flex-direction: column;z-index: 1;position: relative;background-color: white;}#sk-container-id-17 div.sk-parallel-item:first-child::after {align-self: flex-end;width: 50%;}#sk-container-id-17 div.sk-parallel-item:last-child::after {align-self: flex-start;width: 50%;}#sk-container-id-17 div.sk-parallel-item:only-child::after {width: 0;}#sk-container-id-17 div.sk-dashed-wrapped {border: 1px dashed gray;margin: 0 0.4em 0.5em 0.4em;box-sizing: border-box;padding-bottom: 0.4em;background-color: white;}#sk-container-id-17 div.sk-label label {font-family: monospace;font-weight: bold;display: inline-block;line-height: 1.2em;}#sk-container-id-17 div.sk-label-container {text-align: center;}#sk-container-id-17 div.sk-container {/* jupyter's `normalize.less` sets `[hidden] { display: none; }` but bootstrap.min.css set `[hidden] { display: none !important; }` so we also need the `!important` here to be able to override the default hidden behavior on the sphinx rendered scikit-learn.org. See: https://github.com/scikit-learn/scikit-learn/issues/21755 */display: inline-block !important;position: relative;}#sk-container-id-17 div.sk-text-repr-fallback {display: none;}</style><div id=\"sk-container-id-17\" class=\"sk-top-container\"><div class=\"sk-text-repr-fallback\"><pre>StandardScaler()</pre><b>In a Jupyter environment, please rerun this cell to show the HTML representation or trust the notebook. <br />On GitHub, the HTML representation is unable to render, please try loading this page with nbviewer.org.</b></div><div class=\"sk-container\" hidden><div class=\"sk-item\"><div class=\"sk-estimator sk-toggleable\"><input class=\"sk-toggleable__control sk-hidden--visually\" id=\"sk-estimator-id-17\" type=\"checkbox\" checked><label for=\"sk-estimator-id-17\" class=\"sk-toggleable__label sk-toggleable__label-arrow\">StandardScaler</label><div class=\"sk-toggleable__content\"><pre>StandardScaler()</pre></div></div></div></div></div>"
      ],
      "text/plain": [
       "StandardScaler()"
      ]
     },
     "execution_count": 929,
     "metadata": {},
     "output_type": "execute_result"
    }
   ],
   "source": [
    "# for steady, trendy in zip(set(sb_data_n10_steady_before['keyword']), set(sb_data_n10_trendy_after['keyword'])):\n",
    "#     temp = pd.concat([sb_data_n10, sb_data_not_n10], axis=0).reset_index(drop=True)\n",
    "#     globals()['scaler_{}'.format(steady)] = StandardScaler()\n",
    "#     globals()['scaler_{}'.format(steady)].fit(np.array(temp[temp['keyword']==steady]['period']).reshape(-1,1))\n",
    "                                              \n",
    "#     globals()['scaler_{}'.format(trendy)] = StandardScaler()\n",
    "#     globals()['scaler_{}'.format(trendy)].fit(np.array(temp[temp['keyword']==trendy]['period']).reshape(-1,1))\n",
    "\n",
    "# scaler_탕후루 = StandardScaler()\n",
    "# scaler_탕후루.fit(np.array(temp[temp['keyword']=='탕후루']['period']).reshape(-1,1))\n"
   ]
  },
  {
   "cell_type": "code",
   "execution_count": 930,
   "id": "6b05789a",
   "metadata": {},
   "outputs": [],
   "source": [
    "# temp = []\n",
    "# for idx, data in sb_data_n10.iterrows():\n",
    "#     temp.extend(globals()['scaler_{}'.format(data['keyword'])].transform(np.array(data['period']).reshape(-1,1)).flatten())\n",
    "# sb_data_n10['scale'] = temp"
   ]
  },
  {
   "cell_type": "code",
   "execution_count": 931,
   "id": "21c5e8af",
   "metadata": {},
   "outputs": [],
   "source": [
    "# temp = []\n",
    "# for idx, data in sb_data_not_n10.iterrows():\n",
    "#     temp.extend(globals()['scaler_{}'.format(data['keyword'])].transform(np.array(data['period']).reshape(-1,1)).flatten())\n",
    "# sb_data_not_n10['scale'] = temp"
   ]
  },
  {
   "cell_type": "code",
   "execution_count": 932,
   "id": "d8509b06",
   "metadata": {},
   "outputs": [],
   "source": [
    "# sb_data_n10 = sb_data_n10[sb_data_n10['status']=='폐업']\n",
    "# sb_data_not_n10 = sb_data_not_n10[sb_data_not_n10['status']=='폐업']"
   ]
  },
  {
   "cell_type": "code",
   "execution_count": 956,
   "id": "e95f4a66",
   "metadata": {},
   "outputs": [],
   "source": [
    "sb_data_n10_steady_before = sb_data_n10[(sb_data_n10['keyword']=='명랑핫도그')& (sb_data_n10['licence_date']<boom['명랑핫도그']) \n",
    "            | (sb_data_n10['keyword']=='설빙')& (sb_data_n10['licence_date']<boom['설빙'])\n",
    "           | (sb_data_n10['keyword']=='공차')& (sb_data_n10['licence_date']<boom['공차'])\n",
    "           | (sb_data_n10['keyword']=='마라탕')& (sb_data_n10['licence_date']<boom['마라탕'])\n",
    "           | (sb_data_n10['keyword']=='엽기떡볶이')& (sb_data_n10['licence_date']<boom['엽기떡볶이'])].reset_index(drop=True)\n",
    "\n",
    "sb_data_n10_steady_after = sb_data_n10[(sb_data_n10['keyword']=='명랑핫도그')& (sb_data_n10['licence_date']>=boom['명랑핫도그']) \n",
    "            | (sb_data_n10['keyword']=='설빙')& (sb_data_n10['licence_date']>=boom['설빙'])\n",
    "           | (sb_data_n10['keyword']=='공차')& (sb_data_n10['licence_date']>=boom['공차'])\n",
    "           | (sb_data_n10['keyword']=='마라탕')& (sb_data_n10['licence_date']>=boom['마라탕'])\n",
    "           | (sb_data_n10['keyword']=='엽기떡볶이')& (sb_data_n10['licence_date']>=boom['엽기떡볶이'])].reset_index(drop=True)\n",
    "\n",
    "sb_data_n10_trendy_before = sb_data_n10[(sb_data_n10['keyword']=='카스테라')& (sb_data_n10['licence_date']<boom['카스테라']) \n",
    "            | (sb_data_n10['keyword']=='쥬씨')& (sb_data_n10['licence_date']<boom['쥬씨'])\n",
    "           | (sb_data_n10['keyword']=='엉터리생고기')& (sb_data_n10['licence_date']<boom['엉생'])\n",
    "           | (sb_data_n10['keyword']=='홍루이젠')& (sb_data_n10['licence_date']<boom['홍루이젠'])\n",
    "           | (sb_data_n10['keyword']=='밥버거')& (sb_data_n10['licence_date']<boom['밥버거'])].reset_index(drop=True)\n",
    "\n",
    "sb_data_n10_trendy_after = sb_data_n10[(sb_data_n10['keyword']=='카스테라')& (sb_data_n10['licence_date']>=boom['카스테라']) \n",
    "            | (sb_data_n10['keyword']=='쥬씨')& (sb_data_n10['licence_date']>=boom['쥬씨'])\n",
    "           | (sb_data_n10['keyword']=='엉터리생고기')& (sb_data_n10['licence_date']>=boom['엉생'])\n",
    "           | (sb_data_n10['keyword']=='홍루이젠')& (sb_data_n10['licence_date']>=boom['홍루이젠'])\n",
    "           | (sb_data_n10['keyword']=='밥버거')& (sb_data_n10['licence_date']>=boom['밥버거'])].reset_index(drop=True)\n",
    "\n"
   ]
  },
  {
   "cell_type": "code",
   "execution_count": 957,
   "id": "8d075e9f",
   "metadata": {},
   "outputs": [],
   "source": [
    "sb_data_not_n10_steady_before = sb_data_not_n10[(sb_data_not_n10['keyword']=='명랑핫도그')& (sb_data_not_n10['licence_date']<boom['명랑핫도그']) \n",
    "            | (sb_data_not_n10['keyword']=='설빙')& (sb_data_not_n10['licence_date']<boom['설빙'])\n",
    "           | (sb_data_not_n10['keyword']=='공차')& (sb_data_not_n10['licence_date']<boom['공차'])\n",
    "           | (sb_data_not_n10['keyword']=='마라탕')& (sb_data_not_n10['licence_date']<boom['마라탕'])\n",
    "           | (sb_data_not_n10['keyword']=='엽기떡볶이')& (sb_data_not_n10['licence_date']<boom['엽기떡볶이'])].reset_index(drop=True)\n",
    "\n",
    "sb_data_not_n10_steady_after = sb_data_not_n10[(sb_data_not_n10['keyword']=='명랑핫도그')& (sb_data_not_n10['licence_date']>=boom['명랑핫도그']) \n",
    "            | (sb_data_not_n10['keyword']=='설빙')& (sb_data_not_n10['licence_date']>=boom['설빙'])\n",
    "           | (sb_data_not_n10['keyword']=='공차')& (sb_data_not_n10['licence_date']>=boom['공차'])\n",
    "           | (sb_data_not_n10['keyword']=='마라탕')& (sb_data_not_n10['licence_date']>=boom['마라탕'])\n",
    "           | (sb_data_not_n10['keyword']=='엽기떡볶이')& (sb_data_not_n10['licence_date']>=boom['엽기떡볶이'])].reset_index(drop=True)\n",
    "\n",
    "sb_data_not_n10_trendy_before = sb_data_not_n10[(sb_data_not_n10['keyword']=='카스테라')& (sb_data_not_n10['licence_date']<boom['카스테라']) \n",
    "            | (sb_data_not_n10['keyword']=='쥬씨')& (sb_data_not_n10['licence_date']<boom['쥬씨'])\n",
    "           | (sb_data_not_n10['keyword']=='엉생')& (sb_data_not_n10['licence_date']<boom['엉생'])\n",
    "           | (sb_data_not_n10['keyword']=='홍루이젠')& (sb_data_not_n10['licence_date']<boom['홍루이젠'])\n",
    "           | (sb_data_not_n10['keyword']=='밥버거')& (sb_data_not_n10['licence_date']<boom['밥버거'])].reset_index(drop=True)\n",
    "\n",
    "sb_data_not_n10_trendy_after = sb_data_not_n10[(sb_data_not_n10['keyword']=='카스테라')& (sb_data_not_n10['licence_date']>=boom['카스테라']) \n",
    "            | (sb_data_not_n10['keyword']=='쥬씨')& (sb_data_not_n10['licence_date']>=boom['쥬씨'])\n",
    "           | (sb_data_not_n10['keyword']=='엉생')& (sb_data_not_n10['licence_date']>=boom['엉생'])\n",
    "           | (sb_data_not_n10['keyword']=='홍루이젠')& (sb_data_not_n10['licence_date']>=boom['홍루이젠'])\n",
    "           | (sb_data_not_n10['keyword']=='밥버거')& (sb_data_not_n10['licence_date']>=boom['밥버거'])].reset_index(drop=True)"
   ]
  },
  {
   "cell_type": "code",
   "execution_count": 958,
   "id": "369672a0",
   "metadata": {},
   "outputs": [
    {
     "data": {
      "text/plain": [
       "0.4337899543378995"
      ]
     },
     "execution_count": 958,
     "metadata": {},
     "output_type": "execute_result"
    }
   ],
   "source": [
    "sum(sb_data_n10_steady_before['scale']<0)/len(sb_data_n10_steady_before)"
   ]
  },
  {
   "cell_type": "code",
   "execution_count": 959,
   "id": "f78ed284",
   "metadata": {},
   "outputs": [
    {
     "data": {
      "text/plain": [
       "0.7655502392344498"
      ]
     },
     "execution_count": 959,
     "metadata": {},
     "output_type": "execute_result"
    }
   ],
   "source": [
    "sum(sb_data_n10_steady_after['scale']<0)/len(sb_data_n10_steady_after)"
   ]
  },
  {
   "cell_type": "code",
   "execution_count": 960,
   "id": "cd420c39",
   "metadata": {},
   "outputs": [
    {
     "data": {
      "text/plain": [
       "0.3984375"
      ]
     },
     "execution_count": 960,
     "metadata": {},
     "output_type": "execute_result"
    }
   ],
   "source": [
    "sum(sb_data_n10_trendy_before['scale']<0)/len(sb_data_n10_trendy_before)"
   ]
  },
  {
   "cell_type": "code",
   "execution_count": 961,
   "id": "2ba9b909",
   "metadata": {},
   "outputs": [
    {
     "data": {
      "text/plain": [
       "0.6629834254143646"
      ]
     },
     "execution_count": 961,
     "metadata": {},
     "output_type": "execute_result"
    }
   ],
   "source": [
    "sum(sb_data_n10_trendy_after['scale']<0)/len(sb_data_n10_trendy_after)"
   ]
  },
  {
   "cell_type": "code",
   "execution_count": 962,
   "id": "9c399d03",
   "metadata": {},
   "outputs": [
    {
     "data": {
      "text/plain": [
       "0.4362745098039216"
      ]
     },
     "execution_count": 962,
     "metadata": {},
     "output_type": "execute_result"
    }
   ],
   "source": [
    "sb_data_not_n10_steady_before\n",
    "sum(sb_data_not_n10_steady_before['scale']<0)/len(sb_data_not_n10_steady_before)"
   ]
  },
  {
   "cell_type": "code",
   "execution_count": 963,
   "id": "8ccfda80",
   "metadata": {},
   "outputs": [
    {
     "data": {
      "text/plain": [
       "0.782312925170068"
      ]
     },
     "execution_count": 963,
     "metadata": {},
     "output_type": "execute_result"
    }
   ],
   "source": [
    "sb_data_not_n10_steady_after\n",
    "sum(sb_data_not_n10_steady_after['scale']<0)/len(sb_data_not_n10_steady_after)"
   ]
  },
  {
   "cell_type": "code",
   "execution_count": 964,
   "id": "bd9d8efe",
   "metadata": {},
   "outputs": [
    {
     "data": {
      "text/plain": [
       "0.4589905362776025"
      ]
     },
     "execution_count": 964,
     "metadata": {},
     "output_type": "execute_result"
    }
   ],
   "source": [
    "sb_data_not_n10_trendy_before\n",
    "sum(sb_data_not_n10_trendy_before['scale']<0)/len(sb_data_not_n10_trendy_before)"
   ]
  },
  {
   "cell_type": "code",
   "execution_count": 966,
   "id": "aaeb69ed",
   "metadata": {},
   "outputs": [
    {
     "data": {
      "text/plain": [
       "0.6966824644549763"
      ]
     },
     "execution_count": 966,
     "metadata": {},
     "output_type": "execute_result"
    }
   ],
   "source": [
    "sb_data_not_n10_trendy_after\n",
    "sum(sb_data_not_n10_trendy_after['scale']<0)/len(sb_data_not_n10_trendy_after)"
   ]
  }
 ],
 "metadata": {
  "kernelspec": {
   "display_name": "Python 3 (ipykernel)",
   "language": "python",
   "name": "python3"
  },
  "language_info": {
   "codemirror_mode": {
    "name": "ipython",
    "version": 3
   },
   "file_extension": ".py",
   "mimetype": "text/x-python",
   "name": "python",
   "nbconvert_exporter": "python",
   "pygments_lexer": "ipython3",
   "version": "3.9.13"
  }
 },
 "nbformat": 4,
 "nbformat_minor": 5
}
