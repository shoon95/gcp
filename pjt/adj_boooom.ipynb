{
 "cells": [
  {
   "cell_type": "code",
   "execution_count": 1,
   "id": "83620f58",
   "metadata": {
    "collapsed": true
   },
   "outputs": [
    {
     "name": "stdout",
     "output_type": "stream",
     "text": [
      "Collecting folium\n",
      "  Downloading folium-0.15.0-py2.py3-none-any.whl (100 kB)\n",
      "     -------------------------------------- 100.3/100.3 kB 5.6 MB/s eta 0:00:00\n",
      "Collecting branca>=0.6.0\n",
      "  Downloading branca-0.7.0-py3-none-any.whl (25 kB)\n",
      "Requirement already satisfied: numpy in c:\\users\\sjhty\\anaconda3\\lib\\site-packages (from folium) (1.23.5)\n",
      "Requirement already satisfied: requests in c:\\users\\sjhty\\anaconda3\\lib\\site-packages (from folium) (2.28.1)\n",
      "Requirement already satisfied: jinja2>=2.9 in c:\\users\\sjhty\\anaconda3\\lib\\site-packages (from folium) (3.1.2)\n",
      "Requirement already satisfied: MarkupSafe>=2.0 in c:\\users\\sjhty\\anaconda3\\lib\\site-packages (from jinja2>=2.9->folium) (2.1.2)\n",
      "Requirement already satisfied: idna<4,>=2.5 in c:\\users\\sjhty\\anaconda3\\lib\\site-packages (from requests->folium) (3.3)\n",
      "Requirement already satisfied: charset-normalizer<3,>=2 in c:\\users\\sjhty\\anaconda3\\lib\\site-packages (from requests->folium) (2.0.4)\n",
      "Requirement already satisfied: urllib3<1.27,>=1.21.1 in c:\\users\\sjhty\\anaconda3\\lib\\site-packages (from requests->folium) (1.26.11)\n",
      "Requirement already satisfied: certifi>=2017.4.17 in c:\\users\\sjhty\\anaconda3\\lib\\site-packages (from requests->folium) (2022.9.14)\n",
      "Installing collected packages: branca, folium\n",
      "Successfully installed branca-0.7.0 folium-0.15.0\n"
     ]
    }
   ],
   "source": [
    "!pip install folium"
   ]
  },
  {
   "cell_type": "code",
   "execution_count": 1,
   "id": "3340b979",
   "metadata": {},
   "outputs": [],
   "source": [
    "import pandas as pd\n",
    "import re\n",
    "from ast import literal_eval\n",
    "import numpy as np\n",
    "import folium \n",
    "import json\n",
    "import requests\n",
    "import branca\n",
    "from folium import plugins\n",
    "from folium.plugins import HeatMap\n",
    "from datetime import datetime\n",
    "import random\n",
    "from datetime import datetime, timedelta\n",
    "import matplotlib.pyplot as plt\n",
    "import seaborn as sns\n",
    "import os, sys"
   ]
  },
  {
   "cell_type": "code",
   "execution_count": 2,
   "id": "e9418c86",
   "metadata": {},
   "outputs": [],
   "source": [
    "plt.rc('font', family='Malgun Gothic')"
   ]
  },
  {
   "cell_type": "markdown",
   "id": "b3ed696a",
   "metadata": {},
   "source": [
    "# 음식점 데이터 합치기"
   ]
  },
  {
   "cell_type": "code",
   "execution_count": 349,
   "id": "b0c7b6f9",
   "metadata": {
    "collapsed": true
   },
   "outputs": [
    {
     "ename": "FileNotFoundError",
     "evalue": "[Errno 2] No such file or directory: 'fulldata_07_24_04_P_일반음식점.csv'",
     "output_type": "error",
     "traceback": [
      "\u001b[1;31m---------------------------------------------------------------------------\u001b[0m",
      "\u001b[1;31mFileNotFoundError\u001b[0m                         Traceback (most recent call last)",
      "Cell \u001b[1;32mIn[349], line 1\u001b[0m\n\u001b[1;32m----> 1\u001b[0m df1 \u001b[38;5;241m=\u001b[39m pd\u001b[38;5;241m.\u001b[39mread_csv(\u001b[38;5;124m'\u001b[39m\u001b[38;5;124mfulldata_07_24_04_P_일반음식점.csv\u001b[39m\u001b[38;5;124m'\u001b[39m, encoding\u001b[38;5;241m=\u001b[39m\u001b[38;5;124m'\u001b[39m\u001b[38;5;124mCP949\u001b[39m\u001b[38;5;124m'\u001b[39m)\n\u001b[0;32m      2\u001b[0m df2 \u001b[38;5;241m=\u001b[39m pd\u001b[38;5;241m.\u001b[39mread_csv(\u001b[38;5;124m'\u001b[39m\u001b[38;5;124mfulldata_07_24_05_P_휴게음식점.csv\u001b[39m\u001b[38;5;124m'\u001b[39m, encoding\u001b[38;5;241m=\u001b[39m\u001b[38;5;124m'\u001b[39m\u001b[38;5;124mCP949\u001b[39m\u001b[38;5;124m'\u001b[39m)\n\u001b[0;32m      4\u001b[0m df \u001b[38;5;241m=\u001b[39m pd\u001b[38;5;241m.\u001b[39mconcat([df1, df2], axis\u001b[38;5;241m=\u001b[39m\u001b[38;5;241m0\u001b[39m)\u001b[38;5;241m.\u001b[39mreset_index(drop\u001b[38;5;241m=\u001b[39m\u001b[38;5;28;01mTrue\u001b[39;00m)\n",
      "File \u001b[1;32m~\\anaconda3\\Lib\\site-packages\\pandas\\io\\parsers\\readers.py:912\u001b[0m, in \u001b[0;36mread_csv\u001b[1;34m(filepath_or_buffer, sep, delimiter, header, names, index_col, usecols, dtype, engine, converters, true_values, false_values, skipinitialspace, skiprows, skipfooter, nrows, na_values, keep_default_na, na_filter, verbose, skip_blank_lines, parse_dates, infer_datetime_format, keep_date_col, date_parser, date_format, dayfirst, cache_dates, iterator, chunksize, compression, thousands, decimal, lineterminator, quotechar, quoting, doublequote, escapechar, comment, encoding, encoding_errors, dialect, on_bad_lines, delim_whitespace, low_memory, memory_map, float_precision, storage_options, dtype_backend)\u001b[0m\n\u001b[0;32m    899\u001b[0m kwds_defaults \u001b[38;5;241m=\u001b[39m _refine_defaults_read(\n\u001b[0;32m    900\u001b[0m     dialect,\n\u001b[0;32m    901\u001b[0m     delimiter,\n\u001b[1;32m   (...)\u001b[0m\n\u001b[0;32m    908\u001b[0m     dtype_backend\u001b[38;5;241m=\u001b[39mdtype_backend,\n\u001b[0;32m    909\u001b[0m )\n\u001b[0;32m    910\u001b[0m kwds\u001b[38;5;241m.\u001b[39mupdate(kwds_defaults)\n\u001b[1;32m--> 912\u001b[0m \u001b[38;5;28;01mreturn\u001b[39;00m _read(filepath_or_buffer, kwds)\n",
      "File \u001b[1;32m~\\anaconda3\\Lib\\site-packages\\pandas\\io\\parsers\\readers.py:577\u001b[0m, in \u001b[0;36m_read\u001b[1;34m(filepath_or_buffer, kwds)\u001b[0m\n\u001b[0;32m    574\u001b[0m _validate_names(kwds\u001b[38;5;241m.\u001b[39mget(\u001b[38;5;124m\"\u001b[39m\u001b[38;5;124mnames\u001b[39m\u001b[38;5;124m\"\u001b[39m, \u001b[38;5;28;01mNone\u001b[39;00m))\n\u001b[0;32m    576\u001b[0m \u001b[38;5;66;03m# Create the parser.\u001b[39;00m\n\u001b[1;32m--> 577\u001b[0m parser \u001b[38;5;241m=\u001b[39m TextFileReader(filepath_or_buffer, \u001b[38;5;241m*\u001b[39m\u001b[38;5;241m*\u001b[39mkwds)\n\u001b[0;32m    579\u001b[0m \u001b[38;5;28;01mif\u001b[39;00m chunksize \u001b[38;5;129;01mor\u001b[39;00m iterator:\n\u001b[0;32m    580\u001b[0m     \u001b[38;5;28;01mreturn\u001b[39;00m parser\n",
      "File \u001b[1;32m~\\anaconda3\\Lib\\site-packages\\pandas\\io\\parsers\\readers.py:1407\u001b[0m, in \u001b[0;36mTextFileReader.__init__\u001b[1;34m(self, f, engine, **kwds)\u001b[0m\n\u001b[0;32m   1404\u001b[0m     \u001b[38;5;28mself\u001b[39m\u001b[38;5;241m.\u001b[39moptions[\u001b[38;5;124m\"\u001b[39m\u001b[38;5;124mhas_index_names\u001b[39m\u001b[38;5;124m\"\u001b[39m] \u001b[38;5;241m=\u001b[39m kwds[\u001b[38;5;124m\"\u001b[39m\u001b[38;5;124mhas_index_names\u001b[39m\u001b[38;5;124m\"\u001b[39m]\n\u001b[0;32m   1406\u001b[0m \u001b[38;5;28mself\u001b[39m\u001b[38;5;241m.\u001b[39mhandles: IOHandles \u001b[38;5;241m|\u001b[39m \u001b[38;5;28;01mNone\u001b[39;00m \u001b[38;5;241m=\u001b[39m \u001b[38;5;28;01mNone\u001b[39;00m\n\u001b[1;32m-> 1407\u001b[0m \u001b[38;5;28mself\u001b[39m\u001b[38;5;241m.\u001b[39m_engine \u001b[38;5;241m=\u001b[39m \u001b[38;5;28mself\u001b[39m\u001b[38;5;241m.\u001b[39m_make_engine(f, \u001b[38;5;28mself\u001b[39m\u001b[38;5;241m.\u001b[39mengine)\n",
      "File \u001b[1;32m~\\anaconda3\\Lib\\site-packages\\pandas\\io\\parsers\\readers.py:1661\u001b[0m, in \u001b[0;36mTextFileReader._make_engine\u001b[1;34m(self, f, engine)\u001b[0m\n\u001b[0;32m   1659\u001b[0m     \u001b[38;5;28;01mif\u001b[39;00m \u001b[38;5;124m\"\u001b[39m\u001b[38;5;124mb\u001b[39m\u001b[38;5;124m\"\u001b[39m \u001b[38;5;129;01mnot\u001b[39;00m \u001b[38;5;129;01min\u001b[39;00m mode:\n\u001b[0;32m   1660\u001b[0m         mode \u001b[38;5;241m+\u001b[39m\u001b[38;5;241m=\u001b[39m \u001b[38;5;124m\"\u001b[39m\u001b[38;5;124mb\u001b[39m\u001b[38;5;124m\"\u001b[39m\n\u001b[1;32m-> 1661\u001b[0m \u001b[38;5;28mself\u001b[39m\u001b[38;5;241m.\u001b[39mhandles \u001b[38;5;241m=\u001b[39m get_handle(\n\u001b[0;32m   1662\u001b[0m     f,\n\u001b[0;32m   1663\u001b[0m     mode,\n\u001b[0;32m   1664\u001b[0m     encoding\u001b[38;5;241m=\u001b[39m\u001b[38;5;28mself\u001b[39m\u001b[38;5;241m.\u001b[39moptions\u001b[38;5;241m.\u001b[39mget(\u001b[38;5;124m\"\u001b[39m\u001b[38;5;124mencoding\u001b[39m\u001b[38;5;124m\"\u001b[39m, \u001b[38;5;28;01mNone\u001b[39;00m),\n\u001b[0;32m   1665\u001b[0m     compression\u001b[38;5;241m=\u001b[39m\u001b[38;5;28mself\u001b[39m\u001b[38;5;241m.\u001b[39moptions\u001b[38;5;241m.\u001b[39mget(\u001b[38;5;124m\"\u001b[39m\u001b[38;5;124mcompression\u001b[39m\u001b[38;5;124m\"\u001b[39m, \u001b[38;5;28;01mNone\u001b[39;00m),\n\u001b[0;32m   1666\u001b[0m     memory_map\u001b[38;5;241m=\u001b[39m\u001b[38;5;28mself\u001b[39m\u001b[38;5;241m.\u001b[39moptions\u001b[38;5;241m.\u001b[39mget(\u001b[38;5;124m\"\u001b[39m\u001b[38;5;124mmemory_map\u001b[39m\u001b[38;5;124m\"\u001b[39m, \u001b[38;5;28;01mFalse\u001b[39;00m),\n\u001b[0;32m   1667\u001b[0m     is_text\u001b[38;5;241m=\u001b[39mis_text,\n\u001b[0;32m   1668\u001b[0m     errors\u001b[38;5;241m=\u001b[39m\u001b[38;5;28mself\u001b[39m\u001b[38;5;241m.\u001b[39moptions\u001b[38;5;241m.\u001b[39mget(\u001b[38;5;124m\"\u001b[39m\u001b[38;5;124mencoding_errors\u001b[39m\u001b[38;5;124m\"\u001b[39m, \u001b[38;5;124m\"\u001b[39m\u001b[38;5;124mstrict\u001b[39m\u001b[38;5;124m\"\u001b[39m),\n\u001b[0;32m   1669\u001b[0m     storage_options\u001b[38;5;241m=\u001b[39m\u001b[38;5;28mself\u001b[39m\u001b[38;5;241m.\u001b[39moptions\u001b[38;5;241m.\u001b[39mget(\u001b[38;5;124m\"\u001b[39m\u001b[38;5;124mstorage_options\u001b[39m\u001b[38;5;124m\"\u001b[39m, \u001b[38;5;28;01mNone\u001b[39;00m),\n\u001b[0;32m   1670\u001b[0m )\n\u001b[0;32m   1671\u001b[0m \u001b[38;5;28;01massert\u001b[39;00m \u001b[38;5;28mself\u001b[39m\u001b[38;5;241m.\u001b[39mhandles \u001b[38;5;129;01mis\u001b[39;00m \u001b[38;5;129;01mnot\u001b[39;00m \u001b[38;5;28;01mNone\u001b[39;00m\n\u001b[0;32m   1672\u001b[0m f \u001b[38;5;241m=\u001b[39m \u001b[38;5;28mself\u001b[39m\u001b[38;5;241m.\u001b[39mhandles\u001b[38;5;241m.\u001b[39mhandle\n",
      "File \u001b[1;32m~\\anaconda3\\Lib\\site-packages\\pandas\\io\\common.py:859\u001b[0m, in \u001b[0;36mget_handle\u001b[1;34m(path_or_buf, mode, encoding, compression, memory_map, is_text, errors, storage_options)\u001b[0m\n\u001b[0;32m    854\u001b[0m \u001b[38;5;28;01melif\u001b[39;00m \u001b[38;5;28misinstance\u001b[39m(handle, \u001b[38;5;28mstr\u001b[39m):\n\u001b[0;32m    855\u001b[0m     \u001b[38;5;66;03m# Check whether the filename is to be opened in binary mode.\u001b[39;00m\n\u001b[0;32m    856\u001b[0m     \u001b[38;5;66;03m# Binary mode does not support 'encoding' and 'newline'.\u001b[39;00m\n\u001b[0;32m    857\u001b[0m     \u001b[38;5;28;01mif\u001b[39;00m ioargs\u001b[38;5;241m.\u001b[39mencoding \u001b[38;5;129;01mand\u001b[39;00m \u001b[38;5;124m\"\u001b[39m\u001b[38;5;124mb\u001b[39m\u001b[38;5;124m\"\u001b[39m \u001b[38;5;129;01mnot\u001b[39;00m \u001b[38;5;129;01min\u001b[39;00m ioargs\u001b[38;5;241m.\u001b[39mmode:\n\u001b[0;32m    858\u001b[0m         \u001b[38;5;66;03m# Encoding\u001b[39;00m\n\u001b[1;32m--> 859\u001b[0m         handle \u001b[38;5;241m=\u001b[39m \u001b[38;5;28mopen\u001b[39m(\n\u001b[0;32m    860\u001b[0m             handle,\n\u001b[0;32m    861\u001b[0m             ioargs\u001b[38;5;241m.\u001b[39mmode,\n\u001b[0;32m    862\u001b[0m             encoding\u001b[38;5;241m=\u001b[39mioargs\u001b[38;5;241m.\u001b[39mencoding,\n\u001b[0;32m    863\u001b[0m             errors\u001b[38;5;241m=\u001b[39merrors,\n\u001b[0;32m    864\u001b[0m             newline\u001b[38;5;241m=\u001b[39m\u001b[38;5;124m\"\u001b[39m\u001b[38;5;124m\"\u001b[39m,\n\u001b[0;32m    865\u001b[0m         )\n\u001b[0;32m    866\u001b[0m     \u001b[38;5;28;01melse\u001b[39;00m:\n\u001b[0;32m    867\u001b[0m         \u001b[38;5;66;03m# Binary mode\u001b[39;00m\n\u001b[0;32m    868\u001b[0m         handle \u001b[38;5;241m=\u001b[39m \u001b[38;5;28mopen\u001b[39m(handle, ioargs\u001b[38;5;241m.\u001b[39mmode)\n",
      "\u001b[1;31mFileNotFoundError\u001b[0m: [Errno 2] No such file or directory: 'fulldata_07_24_04_P_일반음식점.csv'"
     ]
    }
   ],
   "source": [
    "df1 = pd.read_csv('fulldata_07_24_04_P_일반음식점.csv', encoding='CP949')\n",
    "df2 = pd.read_csv('fulldata_07_24_05_P_휴게음식점.csv', encoding='CP949')\n",
    "\n",
    "df = pd.concat([df1, df2], axis=0).reset_index(drop=True)"
   ]
  },
  {
   "cell_type": "markdown",
   "id": "df7b34e5",
   "metadata": {},
   "source": [
    "# 데이터 전처리"
   ]
  },
  {
   "cell_type": "code",
   "execution_count": null,
   "id": "0525359e",
   "metadata": {},
   "outputs": [],
   "source": [
    "# 특정 필드만 추출\n",
    "df = df[['인허가일자', '인허가취소일자', '영업상태명', '폐업일자', '소재지전체주소', '도로명전체주소', '사업장명', '업태구분명', '좌표정보(x)', '좌표정보(y)', '영업장주변구분명', '다중이용업소여부']]"
   ]
  },
  {
   "cell_type": "code",
   "execution_count": null,
   "id": "177b97b1",
   "metadata": {},
   "outputs": [],
   "source": [
    "## 영업 기간 구하기\n",
    "\n",
    "### 불필요, 잘못된 데이터 drop\n",
    "df = df[df['좌표정보(y)'] != '한식'].reset_index(drop=True)\n",
    "df = df[~df['사업장명'].str.contains('pc|PC', na=False)]\n",
    "df = df[~df['업태구분명'].str.contains('편의점', na=False)]\n",
    "\n",
    "### 좌표 정보 형변환\n",
    "df['좌표정보(y)'] = df['좌표정보(y)'].astype('float64')\n",
    "\n",
    "### 폐업일자 결측치 처리\n",
    "\n",
    "df = df[~((df['영업상태명']=='폐업') & (pd.isna(df['폐업일자'])))].reset_index(drop=True)\n",
    "\n",
    "now = datetime.datetime.now()\n",
    "now_time = f'{now.year}-{now.month}-{now.day}'\n",
    "\n",
    "df['폐업일자'] = df['폐업일자'].fillna(now_time)\n",
    "\n",
    "### date 형식에 맞지 않는 행 drop\n",
    "\n",
    "delete_list_1 = []\n",
    "delete_list_2 = []\n",
    "for i in tqdm(range(0, len(df)-1)):\n",
    "  try:\n",
    "    datetime.datetime.strptime(df.loc[i, '인허가일자'], '%Y-%m-%d')\n",
    "  except:\n",
    "    delete_list_1.append(df.loc[i, '인허가일자'])\n",
    "\n",
    "  try:\n",
    "    datetime.datetime.strptime(df.loc[i, '폐업일자'], '%Y-%m-%d')\n",
    "  except:\n",
    "    delete_list_2.append(df.loc[i, '폐업일자'])\n",
    "\n",
    "df = df[(~df['인허가일자'].isin(delete_list_1)) & (~df['폐업일자'].isin(delete_list_2))].reset_index(drop=True)\n",
    "\n",
    "### 폐업일자, 인허가일자 date type으로 형변환\n",
    "df['폐업일자'] = pd.to_datetime(df['폐업일자'])\n",
    "df['인허가일자'] = pd.to_datetime(df['인허가일자'])\n",
    "\n",
    "### 영업 기간 컬럼 생성\n",
    "df['영업 기간'] = df.apply(lambda n : n['폐업일자']-n['인허가일자'], axis=1)"
   ]
  },
  {
   "cell_type": "code",
   "execution_count": null,
   "id": "7229c1c2",
   "metadata": {},
   "outputs": [],
   "source": [
    "### 중부원점 좌표 변환\n",
    "def project_array(coord) -> tuple:\n",
    "    p1 = pyproj.Proj(init='EPSG:2097')\n",
    "    p2 = pyproj.Proj(init='EPSG:4326')\n",
    "    fx, fy = pyproj.transform(p1, p2, coord.loc[:, '좌표정보(x)'], coord.loc[:, '좌표정보(y)'])\n",
    "    return (fx, fy)\n",
    "\n",
    "df.loc[:, '좌표정보(x)'], df.loc[:, '좌표정보(y)'] = project_array(df)"
   ]
  },
  {
   "cell_type": "code",
   "execution_count": null,
   "id": "83fcb66d",
   "metadata": {},
   "outputs": [],
   "source": [
    "# 필드 이름 영어로 변환\n",
    "df_fields = ['licence_date', 'licence_cancel_date', 'status', 'close_date', 'location_number_address', 'street_name_address', 'store_name', 'category', 'longitude', 'latitude', \n",
    "             'business_area_name', 'multi_business', 'period']\n",
    "\n",
    "df.columns = df_fields"
   ]
  },
  {
   "cell_type": "markdown",
   "id": "09056ad3",
   "metadata": {},
   "source": [
    "## BIgQuery에서 처리\n",
    "\n"
   ]
  },
  {
   "cell_type": "markdown",
   "id": "d7f8e42d",
   "metadata": {},
   "source": [
    "### 1차 전처리\n"
   ]
  },
  {
   "cell_type": "markdown",
   "id": "e4a4e43f",
   "metadata": {},
   "source": [
    "```sql\n",
    "SELECT *, \n",
    "  (CASE \n",
    "    WHEN store_name LIKE '%공차%' THEN '공차'\n",
    "    WHEN store_name LIKE '%명랑%핫도그%' THEN '명랑핫도그'\n",
    "    WHEN store_name LIKE '%설빙%' THEN '설빙'\n",
    "    WHEN store_name LIKE '%마라탕%' THEN '마라탕'\n",
    "    WHEN store_name LIKE '%엽기%떡볶이%' THEN '엽기떡볶이'\n",
    "    WHEN store_name LIKE '%카스테라%' THEN '카스테라'\n",
    "    WHEN store_name LIKE '%쥬씨%' THEN '쥬씨'\n",
    "    WHEN store_name LIKE '%엉터리%생고기%' THEN '엉터리생고기'\n",
    "    WHEN store_name LIKE '%홍루이젠%' THEN '홍루이젠'\n",
    "    WHEN store_name LIKE '%밥버거%' THEN '밥버거'\n",
    "    WHEN store_name LIKE '%탕후루%' THEN '탕후루'\n",
    "  END) AS keyword,\n",
    "  (CASE \n",
    "    WHEN store_name LIKE '%공차%' THEN 'steady'\n",
    "    WHEN store_name LIKE '%명랑%핫도그%' THEN 'steady'\n",
    "    WHEN store_name LIKE '%설빙%' THEN 'steady'\n",
    "    WHEN store_name LIKE '%마라탕%' THEN 'steady'\n",
    "    WHEN store_name LIKE '%엽기%떡볶이%' THEN 'steady'\n",
    "    WHEN store_name LIKE '%카스테라%' THEN 'trendy'\n",
    "    WHEN store_name LIKE '%쥬씨%' THEN 'trendy'\n",
    "    WHEN store_name LIKE '%엉터리%생고기%' THEN 'trendy'\n",
    "    WHEN store_name LIKE '%홍루이젠%' THEN 'trendy'\n",
    "    WHEN store_name LIKE '%밥버거%' THEN 'trendy'\n",
    "    WHEN store_name LIKE '%탕후루%' THEN 'tang'\n",
    "  END) AS class\n",
    "FROM `temp.store_data`\n",
    "WHERE (store_name LIKE '%공차%'\n",
    "  OR store_name LIKE '%명랑%핫도그%'\n",
    "  OR store_name LIKE '%설빙%'\n",
    "  OR store_name LIKE '%마라탕%'\n",
    "  OR store_name LIKE '%엽기%떡볶이%'\n",
    "  OR store_name LIKE '%카스테라%'\n",
    "  OR store_name LIKE '%쥬씨%'\n",
    "  OR store_name LIKE '%엉터리%생고기%'\n",
    "  OR store_name LIKE '%홍루이젠%'\n",
    "  OR store_name LIKE '%밥버거%'\n",
    "  OR store_name LIKE '%탕후루%')\n",
    "  AND (licence_date >= '2009-01-01')\n",
    "  AND (longitude IS NOT NULL)\n",
    "```"
   ]
  },
  {
   "cell_type": "markdown",
   "id": "f80dd02e",
   "metadata": {},
   "source": [
    "### 카테고리로 묶기"
   ]
  },
  {
   "cell_type": "markdown",
   "id": "36f164c3",
   "metadata": {},
   "source": [
    "```sql\n",
    "SELECT class as category\n",
    "  , EXTRACT(YEAR FROM licence_date) AS year\n",
    "  , EXTRACT(MONTH FROM licence_date) AS month\n",
    "  , ARRAY_AGG(store_name) as store_name\n",
    "  , ARRAY_AGG(concat(longitude, ' ', latitude)) as total_location\n",
    "  , ARRAY_AGG(IF(status = '영업/정상', CONCAT(longitude, ' ', latitude), '')) AS normal_location\n",
    "  , ARRAY_AGG(IF(status = '폐업', CONCAT(longitude, ' ', latitude), '')) AS close_location\n",
    "  # , ARRAY_AGG(CASE WHEN status = '영업/정상' THEN CONCAT(longitude, ' ', latitude) ELSE NULL END) AS normal_location\n",
    "  # , ARRAY_AGG(CASE WHEN status = '폐업' THEN CONCAT(longitude, ' ', latitude) ELSE '' END) AS close_location\n",
    "  , ARRAY_AGG(licence_date) as open_date\n",
    "  , ARRAY_AGG(close_date) as close_date\n",
    "  , ARRAY_LENGTH(ARRAY_AGG(store_name)) as store_count\n",
    "  , SUM(CASE WHEN status = '영업/정상' THEN 1 ELSE 0 END) AS count_normal\n",
    "  , SUM(CASE WHEN status = '폐업' THEN 1 ELSE 0 END) AS count_closed\n",
    "\n",
    "FROM `temp.store_v1`\n",
    "GROUP BY class, year, month\n",
    "ORDER BY class, year, month\n",
    "```"
   ]
  },
  {
   "cell_type": "markdown",
   "id": "c2d84477",
   "metadata": {},
   "source": [
    "### 키워드로 묶기\n",
    "```\n",
    "SELECT keyword\n",
    "  , EXTRACT(YEAR FROM licence_date) AS year\n",
    "  , EXTRACT(MONTH FROM licence_date) AS month\n",
    "  , ARRAY_AGG(store_name) as store_name\n",
    "  , ARRAY_AGG(concat(longitude, ' ', latitude)) as total_location\n",
    "  , ARRAY_AGG(IF(status = '영업/정상', CONCAT(longitude, ' ', latitude), '')) AS normal_location\n",
    "  , ARRAY_AGG(IF(status = '폐업', CONCAT(longitude, ' ', latitude), '')) AS close_location\n",
    "  # , ARRAY_AGG(CASE WHEN status = '영업/정상' THEN CONCAT(longitude, ' ', latitude) ELSE NULL END) AS normal_location\n",
    "  # , ARRAY_AGG(CASE WHEN status = '폐업' THEN CONCAT(longitude, ' ', latitude) ELSE '' END) AS close_location\n",
    "  , ARRAY_AGG(licence_date) as open_date\n",
    "  , ARRAY_AGG(close_date) as close_date\n",
    "  , ARRAY_LENGTH(ARRAY_AGG(store_name)) as store_count\n",
    "  , SUM(CASE WHEN status = '영업/정상' THEN 1 ELSE 0 END) AS count_normal\n",
    "  , SUM(CASE WHEN status = '폐업' THEN 1 ELSE 0 END) AS count_closed\n",
    "\n",
    "FROM `temp.store_v1`\n",
    "GROUP BY keyword, year, month\n",
    "ORDER BY keyword, year, month\n",
    "\n",
    "```"
   ]
  },
  {
   "cell_type": "markdown",
   "id": "fbda747e",
   "metadata": {},
   "source": []
  },
  {
   "cell_type": "code",
   "execution_count": null,
   "id": "b538b019",
   "metadata": {},
   "outputs": [],
   "source": []
  },
  {
   "cell_type": "code",
   "execution_count": 115,
   "id": "d3a089d1",
   "metadata": {},
   "outputs": [],
   "source": [
    "df = pd.read_csv('C:/Users/sjhty/desktop/데이터/store_keyword.csv')"
   ]
  },
  {
   "cell_type": "code",
   "execution_count": 116,
   "id": "989a87ee",
   "metadata": {},
   "outputs": [],
   "source": [
    "df['store_name'] = df['store_name'].apply(lambda n: n.strip('[]').split(',') if n != '[,]' and n != '[]' else None)\n",
    "df['total_location'] = df['total_location'].apply(lambda n: n.strip('[]').split(',') if n != '[,]' and n != '[]' else None)\n",
    "df['normal_location'] = df['normal_location'].apply(lambda n: n.strip('[]').split(',') if n != '[,]' and n != '[]' else None)\n",
    "df['close_location'] = df['close_location'].apply(lambda n: n.strip('[]').split(',') if n != '[,]' and n != '[]' else None)\n",
    "df['open_date'] = df['open_date'].apply(lambda n: n.strip('[]').split(',') if n != '[,]' and n != '[]' else None)\n",
    "df['close_date'] = df['close_date'].apply(lambda n: n.strip('[]').split(',') if n != '[,]' and n != '[]' else None)"
   ]
  },
  {
   "cell_type": "markdown",
   "id": "ed83dd75",
   "metadata": {},
   "source": [
    "# 타임 스탬프 반영 지도 그리기"
   ]
  },
  {
   "cell_type": "code",
   "execution_count": 117,
   "id": "a08b41ad",
   "metadata": {},
   "outputs": [],
   "source": [
    "boom = {}\n",
    "boom['밥버거'] = (2013, 10)\n",
    "boom['쥬씨'] = (2016, 6)\n",
    "boom['카스테라'] = (2016, 12)\n",
    "boom['홍루이젠'] = (2018, 8)\n",
    "boom['엉터리생고기'] = (2016, 5)\n",
    "boom['설빙'] = (2016, 7)\n",
    "boom['공차'] = (2020, 2)\n",
    "boom['명랑핫도그'] = (2017, 3)\n",
    "boom['마라탕'] = (2019, 6)\n",
    "boom['엽기떡볶이'] = (2015 ,4)\n",
    "boom['탕후루'] = (2022, 12)"
   ]
  },
  {
   "cell_type": "code",
   "execution_count": 118,
   "id": "18285e88",
   "metadata": {},
   "outputs": [],
   "source": [
    "class KeywordMapImage():\n",
    "    def __init__(self, data, keywords, boom):\n",
    "        self.data = data\n",
    "        self.keywords = keywords\n",
    "        self.boom = boom\n",
    "        \n",
    "    def get_heatmap_boom(self) -> None:\n",
    "        for keyword in self.keywords:\n",
    "            data_frame = self.data[self.data['keyword']==keyword]\n",
    "            data_frame.reset_index(drop=True, inplace=True)\n",
    "            \n",
    "            boom_index = data_frame[(data_frame['year'] == self.boom[keyword][0]) & (data_frame['month'] == self.boom[keyword][1])].index.values[0]\n",
    "            data_frame_before = data_frame.iloc[0:boom_index,:]\n",
    "            data_frame_after = data_frame.iloc[boom_index:len(data_frame),:]\n",
    "            \n",
    "            data_before = []\n",
    "            for i in range(len(data_frame_before['total_location'])):\n",
    "                for j in range(len(data_frame_before['total_location'][i])):\n",
    "                    data_before.append([data_frame_before['total_location'][i][j].split(' ')[1], data_frame_before['total_location'][i][j].split(' ')[0]])\n",
    "            \n",
    "            m = folium.Map([37.000410209589352, 127.5936664724977] , zoom_start=7)\n",
    "            HeatMap(data_before, radius=20, min_opacity=0.1, miax_opacity=0.5, blur=30).add_to(m)\n",
    "            m.save(f'{keyword}_heatmap_before.html')\n",
    "            \n",
    "            data_after = []\n",
    "            for i in range(boom_index, data_frame.iloc[-1].name, 1):\n",
    "                for j in range(len(data_frame_after['total_location'][i])):\n",
    "                    data_after.append([data_frame_after['total_location'][i][j].split(' ')[1], data_frame_after['total_location'][i][j].split(' ')[0]])\n",
    "\n",
    "            m = folium.Map([37.000410209589352, 127.5936664724977] , zoom_start=7)\n",
    "            HeatMap(data_after, radius=20, min_opacity=0.1, miax_opacity=0.5, blur=30).add_to(m)\n",
    "            m.save(f'{keyword}_heatmap_after.html')\n",
    "            \n",
    "    def get_heatmap_all(self) -> None:\n",
    "        for keyword in self.keywords:\n",
    "            data_frame = self.data[self.data['keyword']==keyword]\n",
    "            data_frame.reset_index(drop=True, inplace=True)\n",
    "            \n",
    "            data = []\n",
    "            for i in range(len(data_frame['total_location'])):\n",
    "                for j in range(len(data_frame['total_location'][i])):\n",
    "                    data.append([data_frame['total_location'][i][j].split(' ')[1], data_frame['total_location'][i][j].split(' ')[0]])\n",
    "            \n",
    "            m = folium.Map([37.000410209589352, 127.5936664724977] , zoom_start=7)\n",
    "            HeatMap(data, radius=20, min_opacity=0.1, miax_opacity=0.5, blur=30).add_to(m)\n",
    "            m.save(f'{keyword}_heatmap_all.html')\n",
    "            \n",
    "    def get_timemap_all(self) -> None:\n",
    "        for keyword in self.keywords:\n",
    "            data_frame = self.data[self.data['keyword']==keyword]\n",
    "            data_frame.reset_index(drop=True, inplace=True)\n",
    "\n",
    "            # 날짜 만들어주기\n",
    "            data_frame['date'] = data_frame['year'].astype('str')+'-'+data_frame['month'].astype('str')\n",
    "            time_index=data_frame['date'].tolist()\n",
    "\n",
    "            # 위치 정보 누적으로 묶어주기\n",
    "            data_frame['total_location'] = data_frame['total_location'].apply(lambda n: [li.split(' ') for li in n])\n",
    "\n",
    "            for i in range(len(data_frame['total_location'])):\n",
    "                for j in range(len(data_frame['total_location'][i])):\n",
    "                    data_frame['total_location'][i][j][1], data_frame['total_location'][i][j][0] = float(data_frame['total_location'][i][j][0]), float(data_frame['total_location'][i][j][1])\n",
    "\n",
    "            for i in range(0, len(data_frame['total_location'])-2, 1):\n",
    "                data_frame['total_location'][i+1].extend(data_frame['total_location'][i])\n",
    "\n",
    "            data = data_frame['total_location'].tolist()\n",
    "\n",
    "\n",
    "            m = folium.Map([37.000410209589352, 127.5936664724977] , zoom_start=7)\n",
    "\n",
    "            hm = folium.plugins.HeatMapWithTime(data, index=time_index, radius=8, auto_play=True, min_opacity=0.3, max_speed=30, blur=1)\n",
    "\n",
    "            hm.add_to(m)\n",
    "\n",
    "            m.save(f'{keyword}_timemap_all.html')\n",
    "            \n",
    "    def get_timemap_boom(self) -> None:\n",
    "        for keyword in self.keywords:\n",
    "            data_frame = self.data[self.data['keyword']==keyword]\n",
    "            data_frame.reset_index(drop=True, inplace=True)\n",
    "\n",
    "            # 날짜 만들어주기\n",
    "            data_frame['date'] = data_frame['year'].astype('str')+'-'+data_frame['month'].astype('str')\n",
    "            time_index=data_frame['date'].tolist()\n",
    "\n",
    "            # 위치 정보 누적으로 묶어주기\n",
    "            data_frame['total_location'] = data_frame['total_location'].apply(lambda n: [li.split(' ') for li in n])\n",
    "\n",
    "            for i in range(len(data_frame['total_location'])):\n",
    "                for j in range(len(data_frame['total_location'][i])):\n",
    "                    data_frame['total_location'][i][j][1], data_frame['total_location'][i][j][0] = float(data_frame['total_location'][i][j][0]), float(data_frame['total_location'][i][j][1])\n",
    "\n",
    "            for i in range(0, len(data_frame['total_location'])-2, 1):\n",
    "                data_frame['total_location'][i+1].extend(data_frame['total_location'][i])\n",
    "            \n",
    "            boom_index = data_frame[(data_frame['year'] == self.boom[keyword][0]) & (data_frame['month'] == self.boom[keyword][1])].index.values[0]\n",
    "            \n",
    "            data_frame_before = data_frame.iloc[0:boom_index,:]\n",
    "            data_frame_after = data_frame.iloc[boom_index:len(data_frame),:].reset_index(drop=True)\n",
    "            \n",
    "            data_before = data_frame_before['total_location'].tolist()\n",
    "            data_after = data_frame_after['total_location'].tolist()\n",
    "\n",
    "            time_index_before = time_index[:boom_index]\n",
    "            time_index_after = time_index[boom_index:]\n",
    "            \n",
    "            m = folium.Map([37.000410209589352, 127.5936664724977] , zoom_start=7)\n",
    "            hm = folium.plugins.HeatMapWithTime(data_before, index=time_index_before, radius=8, auto_play=True, min_opacity=0.3, max_speed=30, blur=1)\n",
    "            hm.add_to(m)\n",
    "            \n",
    "            m.save(f'{keyword}_timemap_before.html')\n",
    "            \n",
    "            m = folium.Map([37.000410209589352, 127.5936664724977] , zoom_start=7)\n",
    "            hm = folium.plugins.HeatMapWithTime(data_after, index=time_index_after, radius=8, auto_play=True, min_opacity=0.3, max_speed=30, blur=1)\n",
    "            hm.add_to(m)\n",
    "            \n",
    "            m.save(f'{keyword}_timemap_after.html')\n",
    "            \n",
    "#     def get_timestamp_merge(self):\n",
    "#         # trendy, steady 데이터 따로 분리\n",
    "#         data_trendy = self.data[self.data['category']=='trendy'].reset_index(drop=True)\n",
    "#         data_steady = self.data[self.data['category']=='steady'].reset_index(drop=True)\n",
    "        \n",
    "#         # \n",
    "        \n",
    "        "
   ]
  },
  {
   "cell_type": "code",
   "execution_count": 119,
   "id": "5ea24fa3",
   "metadata": {},
   "outputs": [
    {
     "name": "stderr",
     "output_type": "stream",
     "text": [
      "C:\\Users\\sjhty\\AppData\\Local\\Temp\\ipykernel_29292\\1146209537.py:84: SettingWithCopyWarning: \n",
      "A value is trying to be set on a copy of a slice from a DataFrame.\n",
      "Try using .loc[row_indexer,col_indexer] = value instead\n",
      "\n",
      "See the caveats in the documentation: https://pandas.pydata.org/pandas-docs/stable/user_guide/indexing.html#returning-a-view-versus-a-copy\n",
      "  data_frame['date'] = data_frame['year'].astype('str')+'-'+data_frame['month'].astype('str')\n",
      "C:\\Users\\sjhty\\AppData\\Local\\Temp\\ipykernel_29292\\1146209537.py:88: SettingWithCopyWarning: \n",
      "A value is trying to be set on a copy of a slice from a DataFrame.\n",
      "Try using .loc[row_indexer,col_indexer] = value instead\n",
      "\n",
      "See the caveats in the documentation: https://pandas.pydata.org/pandas-docs/stable/user_guide/indexing.html#returning-a-view-versus-a-copy\n",
      "  data_frame['total_location'] = data_frame['total_location'].apply(lambda n: [li.split(' ') for li in n])\n",
      "C:\\Users\\sjhty\\AppData\\Local\\Temp\\ipykernel_29292\\1146209537.py:84: SettingWithCopyWarning: \n",
      "A value is trying to be set on a copy of a slice from a DataFrame.\n",
      "Try using .loc[row_indexer,col_indexer] = value instead\n",
      "\n",
      "See the caveats in the documentation: https://pandas.pydata.org/pandas-docs/stable/user_guide/indexing.html#returning-a-view-versus-a-copy\n",
      "  data_frame['date'] = data_frame['year'].astype('str')+'-'+data_frame['month'].astype('str')\n",
      "C:\\Users\\sjhty\\AppData\\Local\\Temp\\ipykernel_29292\\1146209537.py:88: SettingWithCopyWarning: \n",
      "A value is trying to be set on a copy of a slice from a DataFrame.\n",
      "Try using .loc[row_indexer,col_indexer] = value instead\n",
      "\n",
      "See the caveats in the documentation: https://pandas.pydata.org/pandas-docs/stable/user_guide/indexing.html#returning-a-view-versus-a-copy\n",
      "  data_frame['total_location'] = data_frame['total_location'].apply(lambda n: [li.split(' ') for li in n])\n",
      "C:\\Users\\sjhty\\AppData\\Local\\Temp\\ipykernel_29292\\1146209537.py:84: SettingWithCopyWarning: \n",
      "A value is trying to be set on a copy of a slice from a DataFrame.\n",
      "Try using .loc[row_indexer,col_indexer] = value instead\n",
      "\n",
      "See the caveats in the documentation: https://pandas.pydata.org/pandas-docs/stable/user_guide/indexing.html#returning-a-view-versus-a-copy\n",
      "  data_frame['date'] = data_frame['year'].astype('str')+'-'+data_frame['month'].astype('str')\n",
      "C:\\Users\\sjhty\\AppData\\Local\\Temp\\ipykernel_29292\\1146209537.py:88: SettingWithCopyWarning: \n",
      "A value is trying to be set on a copy of a slice from a DataFrame.\n",
      "Try using .loc[row_indexer,col_indexer] = value instead\n",
      "\n",
      "See the caveats in the documentation: https://pandas.pydata.org/pandas-docs/stable/user_guide/indexing.html#returning-a-view-versus-a-copy\n",
      "  data_frame['total_location'] = data_frame['total_location'].apply(lambda n: [li.split(' ') for li in n])\n",
      "C:\\Users\\sjhty\\AppData\\Local\\Temp\\ipykernel_29292\\1146209537.py:84: SettingWithCopyWarning: \n",
      "A value is trying to be set on a copy of a slice from a DataFrame.\n",
      "Try using .loc[row_indexer,col_indexer] = value instead\n",
      "\n",
      "See the caveats in the documentation: https://pandas.pydata.org/pandas-docs/stable/user_guide/indexing.html#returning-a-view-versus-a-copy\n",
      "  data_frame['date'] = data_frame['year'].astype('str')+'-'+data_frame['month'].astype('str')\n",
      "C:\\Users\\sjhty\\AppData\\Local\\Temp\\ipykernel_29292\\1146209537.py:88: SettingWithCopyWarning: \n",
      "A value is trying to be set on a copy of a slice from a DataFrame.\n",
      "Try using .loc[row_indexer,col_indexer] = value instead\n",
      "\n",
      "See the caveats in the documentation: https://pandas.pydata.org/pandas-docs/stable/user_guide/indexing.html#returning-a-view-versus-a-copy\n",
      "  data_frame['total_location'] = data_frame['total_location'].apply(lambda n: [li.split(' ') for li in n])\n",
      "C:\\Users\\sjhty\\AppData\\Local\\Temp\\ipykernel_29292\\1146209537.py:84: SettingWithCopyWarning: \n",
      "A value is trying to be set on a copy of a slice from a DataFrame.\n",
      "Try using .loc[row_indexer,col_indexer] = value instead\n",
      "\n",
      "See the caveats in the documentation: https://pandas.pydata.org/pandas-docs/stable/user_guide/indexing.html#returning-a-view-versus-a-copy\n",
      "  data_frame['date'] = data_frame['year'].astype('str')+'-'+data_frame['month'].astype('str')\n",
      "C:\\Users\\sjhty\\AppData\\Local\\Temp\\ipykernel_29292\\1146209537.py:88: SettingWithCopyWarning: \n",
      "A value is trying to be set on a copy of a slice from a DataFrame.\n",
      "Try using .loc[row_indexer,col_indexer] = value instead\n",
      "\n",
      "See the caveats in the documentation: https://pandas.pydata.org/pandas-docs/stable/user_guide/indexing.html#returning-a-view-versus-a-copy\n",
      "  data_frame['total_location'] = data_frame['total_location'].apply(lambda n: [li.split(' ') for li in n])\n",
      "C:\\Users\\sjhty\\AppData\\Local\\Temp\\ipykernel_29292\\1146209537.py:84: SettingWithCopyWarning: \n",
      "A value is trying to be set on a copy of a slice from a DataFrame.\n",
      "Try using .loc[row_indexer,col_indexer] = value instead\n",
      "\n",
      "See the caveats in the documentation: https://pandas.pydata.org/pandas-docs/stable/user_guide/indexing.html#returning-a-view-versus-a-copy\n",
      "  data_frame['date'] = data_frame['year'].astype('str')+'-'+data_frame['month'].astype('str')\n",
      "C:\\Users\\sjhty\\AppData\\Local\\Temp\\ipykernel_29292\\1146209537.py:88: SettingWithCopyWarning: \n",
      "A value is trying to be set on a copy of a slice from a DataFrame.\n",
      "Try using .loc[row_indexer,col_indexer] = value instead\n",
      "\n",
      "See the caveats in the documentation: https://pandas.pydata.org/pandas-docs/stable/user_guide/indexing.html#returning-a-view-versus-a-copy\n",
      "  data_frame['total_location'] = data_frame['total_location'].apply(lambda n: [li.split(' ') for li in n])\n",
      "C:\\Users\\sjhty\\AppData\\Local\\Temp\\ipykernel_29292\\1146209537.py:84: SettingWithCopyWarning: \n",
      "A value is trying to be set on a copy of a slice from a DataFrame.\n",
      "Try using .loc[row_indexer,col_indexer] = value instead\n",
      "\n",
      "See the caveats in the documentation: https://pandas.pydata.org/pandas-docs/stable/user_guide/indexing.html#returning-a-view-versus-a-copy\n",
      "  data_frame['date'] = data_frame['year'].astype('str')+'-'+data_frame['month'].astype('str')\n",
      "C:\\Users\\sjhty\\AppData\\Local\\Temp\\ipykernel_29292\\1146209537.py:88: SettingWithCopyWarning: \n",
      "A value is trying to be set on a copy of a slice from a DataFrame.\n",
      "Try using .loc[row_indexer,col_indexer] = value instead\n",
      "\n",
      "See the caveats in the documentation: https://pandas.pydata.org/pandas-docs/stable/user_guide/indexing.html#returning-a-view-versus-a-copy\n",
      "  data_frame['total_location'] = data_frame['total_location'].apply(lambda n: [li.split(' ') for li in n])\n",
      "C:\\Users\\sjhty\\AppData\\Local\\Temp\\ipykernel_29292\\1146209537.py:84: SettingWithCopyWarning: \n",
      "A value is trying to be set on a copy of a slice from a DataFrame.\n",
      "Try using .loc[row_indexer,col_indexer] = value instead\n",
      "\n",
      "See the caveats in the documentation: https://pandas.pydata.org/pandas-docs/stable/user_guide/indexing.html#returning-a-view-versus-a-copy\n",
      "  data_frame['date'] = data_frame['year'].astype('str')+'-'+data_frame['month'].astype('str')\n",
      "C:\\Users\\sjhty\\AppData\\Local\\Temp\\ipykernel_29292\\1146209537.py:88: SettingWithCopyWarning: \n",
      "A value is trying to be set on a copy of a slice from a DataFrame.\n",
      "Try using .loc[row_indexer,col_indexer] = value instead\n",
      "\n",
      "See the caveats in the documentation: https://pandas.pydata.org/pandas-docs/stable/user_guide/indexing.html#returning-a-view-versus-a-copy\n",
      "  data_frame['total_location'] = data_frame['total_location'].apply(lambda n: [li.split(' ') for li in n])\n",
      "C:\\Users\\sjhty\\AppData\\Local\\Temp\\ipykernel_29292\\1146209537.py:84: SettingWithCopyWarning: \n",
      "A value is trying to be set on a copy of a slice from a DataFrame.\n",
      "Try using .loc[row_indexer,col_indexer] = value instead\n",
      "\n",
      "See the caveats in the documentation: https://pandas.pydata.org/pandas-docs/stable/user_guide/indexing.html#returning-a-view-versus-a-copy\n",
      "  data_frame['date'] = data_frame['year'].astype('str')+'-'+data_frame['month'].astype('str')\n",
      "C:\\Users\\sjhty\\AppData\\Local\\Temp\\ipykernel_29292\\1146209537.py:88: SettingWithCopyWarning: \n",
      "A value is trying to be set on a copy of a slice from a DataFrame.\n",
      "Try using .loc[row_indexer,col_indexer] = value instead\n",
      "\n",
      "See the caveats in the documentation: https://pandas.pydata.org/pandas-docs/stable/user_guide/indexing.html#returning-a-view-versus-a-copy\n",
      "  data_frame['total_location'] = data_frame['total_location'].apply(lambda n: [li.split(' ') for li in n])\n"
     ]
    },
    {
     "name": "stderr",
     "output_type": "stream",
     "text": [
      "C:\\Users\\sjhty\\AppData\\Local\\Temp\\ipykernel_29292\\1146209537.py:84: SettingWithCopyWarning: \n",
      "A value is trying to be set on a copy of a slice from a DataFrame.\n",
      "Try using .loc[row_indexer,col_indexer] = value instead\n",
      "\n",
      "See the caveats in the documentation: https://pandas.pydata.org/pandas-docs/stable/user_guide/indexing.html#returning-a-view-versus-a-copy\n",
      "  data_frame['date'] = data_frame['year'].astype('str')+'-'+data_frame['month'].astype('str')\n",
      "C:\\Users\\sjhty\\AppData\\Local\\Temp\\ipykernel_29292\\1146209537.py:88: SettingWithCopyWarning: \n",
      "A value is trying to be set on a copy of a slice from a DataFrame.\n",
      "Try using .loc[row_indexer,col_indexer] = value instead\n",
      "\n",
      "See the caveats in the documentation: https://pandas.pydata.org/pandas-docs/stable/user_guide/indexing.html#returning-a-view-versus-a-copy\n",
      "  data_frame['total_location'] = data_frame['total_location'].apply(lambda n: [li.split(' ') for li in n])\n",
      "C:\\Users\\sjhty\\AppData\\Local\\Temp\\ipykernel_29292\\1146209537.py:84: SettingWithCopyWarning: \n",
      "A value is trying to be set on a copy of a slice from a DataFrame.\n",
      "Try using .loc[row_indexer,col_indexer] = value instead\n",
      "\n",
      "See the caveats in the documentation: https://pandas.pydata.org/pandas-docs/stable/user_guide/indexing.html#returning-a-view-versus-a-copy\n",
      "  data_frame['date'] = data_frame['year'].astype('str')+'-'+data_frame['month'].astype('str')\n",
      "C:\\Users\\sjhty\\AppData\\Local\\Temp\\ipykernel_29292\\1146209537.py:88: SettingWithCopyWarning: \n",
      "A value is trying to be set on a copy of a slice from a DataFrame.\n",
      "Try using .loc[row_indexer,col_indexer] = value instead\n",
      "\n",
      "See the caveats in the documentation: https://pandas.pydata.org/pandas-docs/stable/user_guide/indexing.html#returning-a-view-versus-a-copy\n",
      "  data_frame['total_location'] = data_frame['total_location'].apply(lambda n: [li.split(' ') for li in n])\n",
      "C:\\Users\\sjhty\\AppData\\Local\\Temp\\ipykernel_29292\\1146209537.py:54: SettingWithCopyWarning: \n",
      "A value is trying to be set on a copy of a slice from a DataFrame.\n",
      "Try using .loc[row_indexer,col_indexer] = value instead\n",
      "\n",
      "See the caveats in the documentation: https://pandas.pydata.org/pandas-docs/stable/user_guide/indexing.html#returning-a-view-versus-a-copy\n",
      "  data_frame['date'] = data_frame['year'].astype('str')+'-'+data_frame['month'].astype('str')\n",
      "C:\\Users\\sjhty\\AppData\\Local\\Temp\\ipykernel_29292\\1146209537.py:58: SettingWithCopyWarning: \n",
      "A value is trying to be set on a copy of a slice from a DataFrame.\n",
      "Try using .loc[row_indexer,col_indexer] = value instead\n",
      "\n",
      "See the caveats in the documentation: https://pandas.pydata.org/pandas-docs/stable/user_guide/indexing.html#returning-a-view-versus-a-copy\n",
      "  data_frame['total_location'] = data_frame['total_location'].apply(lambda n: [li.split(' ') for li in n])\n",
      "C:\\Users\\sjhty\\AppData\\Local\\Temp\\ipykernel_29292\\1146209537.py:54: SettingWithCopyWarning: \n",
      "A value is trying to be set on a copy of a slice from a DataFrame.\n",
      "Try using .loc[row_indexer,col_indexer] = value instead\n",
      "\n",
      "See the caveats in the documentation: https://pandas.pydata.org/pandas-docs/stable/user_guide/indexing.html#returning-a-view-versus-a-copy\n",
      "  data_frame['date'] = data_frame['year'].astype('str')+'-'+data_frame['month'].astype('str')\n",
      "C:\\Users\\sjhty\\AppData\\Local\\Temp\\ipykernel_29292\\1146209537.py:58: SettingWithCopyWarning: \n",
      "A value is trying to be set on a copy of a slice from a DataFrame.\n",
      "Try using .loc[row_indexer,col_indexer] = value instead\n",
      "\n",
      "See the caveats in the documentation: https://pandas.pydata.org/pandas-docs/stable/user_guide/indexing.html#returning-a-view-versus-a-copy\n",
      "  data_frame['total_location'] = data_frame['total_location'].apply(lambda n: [li.split(' ') for li in n])\n",
      "C:\\Users\\sjhty\\AppData\\Local\\Temp\\ipykernel_29292\\1146209537.py:54: SettingWithCopyWarning: \n",
      "A value is trying to be set on a copy of a slice from a DataFrame.\n",
      "Try using .loc[row_indexer,col_indexer] = value instead\n",
      "\n",
      "See the caveats in the documentation: https://pandas.pydata.org/pandas-docs/stable/user_guide/indexing.html#returning-a-view-versus-a-copy\n",
      "  data_frame['date'] = data_frame['year'].astype('str')+'-'+data_frame['month'].astype('str')\n",
      "C:\\Users\\sjhty\\AppData\\Local\\Temp\\ipykernel_29292\\1146209537.py:58: SettingWithCopyWarning: \n",
      "A value is trying to be set on a copy of a slice from a DataFrame.\n",
      "Try using .loc[row_indexer,col_indexer] = value instead\n",
      "\n",
      "See the caveats in the documentation: https://pandas.pydata.org/pandas-docs/stable/user_guide/indexing.html#returning-a-view-versus-a-copy\n",
      "  data_frame['total_location'] = data_frame['total_location'].apply(lambda n: [li.split(' ') for li in n])\n",
      "C:\\Users\\sjhty\\AppData\\Local\\Temp\\ipykernel_29292\\1146209537.py:54: SettingWithCopyWarning: \n",
      "A value is trying to be set on a copy of a slice from a DataFrame.\n",
      "Try using .loc[row_indexer,col_indexer] = value instead\n",
      "\n",
      "See the caveats in the documentation: https://pandas.pydata.org/pandas-docs/stable/user_guide/indexing.html#returning-a-view-versus-a-copy\n",
      "  data_frame['date'] = data_frame['year'].astype('str')+'-'+data_frame['month'].astype('str')\n",
      "C:\\Users\\sjhty\\AppData\\Local\\Temp\\ipykernel_29292\\1146209537.py:58: SettingWithCopyWarning: \n",
      "A value is trying to be set on a copy of a slice from a DataFrame.\n",
      "Try using .loc[row_indexer,col_indexer] = value instead\n",
      "\n",
      "See the caveats in the documentation: https://pandas.pydata.org/pandas-docs/stable/user_guide/indexing.html#returning-a-view-versus-a-copy\n",
      "  data_frame['total_location'] = data_frame['total_location'].apply(lambda n: [li.split(' ') for li in n])\n",
      "C:\\Users\\sjhty\\AppData\\Local\\Temp\\ipykernel_29292\\1146209537.py:54: SettingWithCopyWarning: \n",
      "A value is trying to be set on a copy of a slice from a DataFrame.\n",
      "Try using .loc[row_indexer,col_indexer] = value instead\n",
      "\n",
      "See the caveats in the documentation: https://pandas.pydata.org/pandas-docs/stable/user_guide/indexing.html#returning-a-view-versus-a-copy\n",
      "  data_frame['date'] = data_frame['year'].astype('str')+'-'+data_frame['month'].astype('str')\n",
      "C:\\Users\\sjhty\\AppData\\Local\\Temp\\ipykernel_29292\\1146209537.py:58: SettingWithCopyWarning: \n",
      "A value is trying to be set on a copy of a slice from a DataFrame.\n",
      "Try using .loc[row_indexer,col_indexer] = value instead\n",
      "\n",
      "See the caveats in the documentation: https://pandas.pydata.org/pandas-docs/stable/user_guide/indexing.html#returning-a-view-versus-a-copy\n",
      "  data_frame['total_location'] = data_frame['total_location'].apply(lambda n: [li.split(' ') for li in n])\n",
      "C:\\Users\\sjhty\\AppData\\Local\\Temp\\ipykernel_29292\\1146209537.py:54: SettingWithCopyWarning: \n",
      "A value is trying to be set on a copy of a slice from a DataFrame.\n",
      "Try using .loc[row_indexer,col_indexer] = value instead\n",
      "\n",
      "See the caveats in the documentation: https://pandas.pydata.org/pandas-docs/stable/user_guide/indexing.html#returning-a-view-versus-a-copy\n",
      "  data_frame['date'] = data_frame['year'].astype('str')+'-'+data_frame['month'].astype('str')\n",
      "C:\\Users\\sjhty\\AppData\\Local\\Temp\\ipykernel_29292\\1146209537.py:58: SettingWithCopyWarning: \n",
      "A value is trying to be set on a copy of a slice from a DataFrame.\n",
      "Try using .loc[row_indexer,col_indexer] = value instead\n",
      "\n",
      "See the caveats in the documentation: https://pandas.pydata.org/pandas-docs/stable/user_guide/indexing.html#returning-a-view-versus-a-copy\n",
      "  data_frame['total_location'] = data_frame['total_location'].apply(lambda n: [li.split(' ') for li in n])\n",
      "C:\\Users\\sjhty\\AppData\\Local\\Temp\\ipykernel_29292\\1146209537.py:54: SettingWithCopyWarning: \n",
      "A value is trying to be set on a copy of a slice from a DataFrame.\n",
      "Try using .loc[row_indexer,col_indexer] = value instead\n",
      "\n",
      "See the caveats in the documentation: https://pandas.pydata.org/pandas-docs/stable/user_guide/indexing.html#returning-a-view-versus-a-copy\n",
      "  data_frame['date'] = data_frame['year'].astype('str')+'-'+data_frame['month'].astype('str')\n",
      "C:\\Users\\sjhty\\AppData\\Local\\Temp\\ipykernel_29292\\1146209537.py:58: SettingWithCopyWarning: \n",
      "A value is trying to be set on a copy of a slice from a DataFrame.\n",
      "Try using .loc[row_indexer,col_indexer] = value instead\n",
      "\n",
      "See the caveats in the documentation: https://pandas.pydata.org/pandas-docs/stable/user_guide/indexing.html#returning-a-view-versus-a-copy\n",
      "  data_frame['total_location'] = data_frame['total_location'].apply(lambda n: [li.split(' ') for li in n])\n"
     ]
    },
    {
     "name": "stderr",
     "output_type": "stream",
     "text": [
      "C:\\Users\\sjhty\\AppData\\Local\\Temp\\ipykernel_29292\\1146209537.py:54: SettingWithCopyWarning: \n",
      "A value is trying to be set on a copy of a slice from a DataFrame.\n",
      "Try using .loc[row_indexer,col_indexer] = value instead\n",
      "\n",
      "See the caveats in the documentation: https://pandas.pydata.org/pandas-docs/stable/user_guide/indexing.html#returning-a-view-versus-a-copy\n",
      "  data_frame['date'] = data_frame['year'].astype('str')+'-'+data_frame['month'].astype('str')\n",
      "C:\\Users\\sjhty\\AppData\\Local\\Temp\\ipykernel_29292\\1146209537.py:58: SettingWithCopyWarning: \n",
      "A value is trying to be set on a copy of a slice from a DataFrame.\n",
      "Try using .loc[row_indexer,col_indexer] = value instead\n",
      "\n",
      "See the caveats in the documentation: https://pandas.pydata.org/pandas-docs/stable/user_guide/indexing.html#returning-a-view-versus-a-copy\n",
      "  data_frame['total_location'] = data_frame['total_location'].apply(lambda n: [li.split(' ') for li in n])\n",
      "C:\\Users\\sjhty\\AppData\\Local\\Temp\\ipykernel_29292\\1146209537.py:54: SettingWithCopyWarning: \n",
      "A value is trying to be set on a copy of a slice from a DataFrame.\n",
      "Try using .loc[row_indexer,col_indexer] = value instead\n",
      "\n",
      "See the caveats in the documentation: https://pandas.pydata.org/pandas-docs/stable/user_guide/indexing.html#returning-a-view-versus-a-copy\n",
      "  data_frame['date'] = data_frame['year'].astype('str')+'-'+data_frame['month'].astype('str')\n",
      "C:\\Users\\sjhty\\AppData\\Local\\Temp\\ipykernel_29292\\1146209537.py:58: SettingWithCopyWarning: \n",
      "A value is trying to be set on a copy of a slice from a DataFrame.\n",
      "Try using .loc[row_indexer,col_indexer] = value instead\n",
      "\n",
      "See the caveats in the documentation: https://pandas.pydata.org/pandas-docs/stable/user_guide/indexing.html#returning-a-view-versus-a-copy\n",
      "  data_frame['total_location'] = data_frame['total_location'].apply(lambda n: [li.split(' ') for li in n])\n",
      "C:\\Users\\sjhty\\AppData\\Local\\Temp\\ipykernel_29292\\1146209537.py:54: SettingWithCopyWarning: \n",
      "A value is trying to be set on a copy of a slice from a DataFrame.\n",
      "Try using .loc[row_indexer,col_indexer] = value instead\n",
      "\n",
      "See the caveats in the documentation: https://pandas.pydata.org/pandas-docs/stable/user_guide/indexing.html#returning-a-view-versus-a-copy\n",
      "  data_frame['date'] = data_frame['year'].astype('str')+'-'+data_frame['month'].astype('str')\n",
      "C:\\Users\\sjhty\\AppData\\Local\\Temp\\ipykernel_29292\\1146209537.py:58: SettingWithCopyWarning: \n",
      "A value is trying to be set on a copy of a slice from a DataFrame.\n",
      "Try using .loc[row_indexer,col_indexer] = value instead\n",
      "\n",
      "See the caveats in the documentation: https://pandas.pydata.org/pandas-docs/stable/user_guide/indexing.html#returning-a-view-versus-a-copy\n",
      "  data_frame['total_location'] = data_frame['total_location'].apply(lambda n: [li.split(' ') for li in n])\n",
      "C:\\Users\\sjhty\\AppData\\Local\\Temp\\ipykernel_29292\\1146209537.py:54: SettingWithCopyWarning: \n",
      "A value is trying to be set on a copy of a slice from a DataFrame.\n",
      "Try using .loc[row_indexer,col_indexer] = value instead\n",
      "\n",
      "See the caveats in the documentation: https://pandas.pydata.org/pandas-docs/stable/user_guide/indexing.html#returning-a-view-versus-a-copy\n",
      "  data_frame['date'] = data_frame['year'].astype('str')+'-'+data_frame['month'].astype('str')\n",
      "C:\\Users\\sjhty\\AppData\\Local\\Temp\\ipykernel_29292\\1146209537.py:58: SettingWithCopyWarning: \n",
      "A value is trying to be set on a copy of a slice from a DataFrame.\n",
      "Try using .loc[row_indexer,col_indexer] = value instead\n",
      "\n",
      "See the caveats in the documentation: https://pandas.pydata.org/pandas-docs/stable/user_guide/indexing.html#returning-a-view-versus-a-copy\n",
      "  data_frame['total_location'] = data_frame['total_location'].apply(lambda n: [li.split(' ') for li in n])\n"
     ]
    }
   ],
   "source": [
    "keywords = set(df['keyword'])\n",
    "key_map_image = KeywordMapImage(df, keywords, boom)\n",
    "key_map_image.get_timemap_boom()\n",
    "key_map_image.get_timemap_all()\n",
    "key_map_image.get_heatmap_boom()\n",
    "key_map_image.get_heatmap_all()\n"
   ]
  },
  {
   "cell_type": "markdown",
   "id": "5116681a",
   "metadata": {},
   "source": [
    "# 클래스 기준 (steady, trendy)"
   ]
  },
  {
   "cell_type": "code",
   "execution_count": 339,
   "id": "d315096a",
   "metadata": {},
   "outputs": [],
   "source": [
    "df_class = pd.read_csv('store_class.csv')"
   ]
  },
  {
   "cell_type": "code",
   "execution_count": 340,
   "id": "a3f41cb8",
   "metadata": {},
   "outputs": [],
   "source": [
    "df_class[df_class['category']!='tang'].reset_index(drop=True, inplace=True)"
   ]
  },
  {
   "cell_type": "code",
   "execution_count": 341,
   "id": "28caf775",
   "metadata": {},
   "outputs": [],
   "source": [
    "df_class['store_name'] = df_class['store_name'].apply(lambda n: n.strip('[]').split(',') if n != '[,]' and n != '[]' else None)\n",
    "df_class['total_location'] = df_class['total_location'].apply(lambda n: n.strip('[]').split(',') if n != '[,]' and n != '[]' else None)\n",
    "df_class['normal_location'] = df_class['normal_location'].apply(lambda n: n.strip('[]').split(',') if n != '[,]' and n != '[]' else None)\n",
    "df_class['close_location'] = df_class['close_location'].apply(lambda n: n.strip('[]').split(',') if n != '[,]' and n != '[]' else None)\n",
    "df_class['open_date'] = df_class['open_date'].apply(lambda n: n.strip('[]').split(',') if n != '[,]' and n != '[]' else None)\n",
    "df_class['close_date'] = df_class['close_date'].apply(lambda n: n.strip('[]').split(',') if n != '[,]' and n != '[]' else None)"
   ]
  },
  {
   "cell_type": "code",
   "execution_count": 342,
   "id": "00680c41",
   "metadata": {},
   "outputs": [],
   "source": [
    "class CategoryMapImage():\n",
    "    def __init__(self, data):\n",
    "        self.data = data\n",
    "        self.categories = set(data['category'])\n",
    "#         self.boom = boom\n",
    "        \n",
    "#     def get_heatmap_boom(self) -> None:\n",
    "#         for keyword in self.keywords:\n",
    "#             data_frame = self.data[self.data['keyword']==keyword]\n",
    "#             data_frame.reset_index(drop=True, inplace=True)\n",
    "            \n",
    "#             boom_index = data_frame[(data_frame['year'] == self.boom[keyword][0]) & (data_frame['month'] == self.boom[keyword][1])].index.values[0]\n",
    "#             data_frame_before = data_frame.iloc[0:boom_index,:]\n",
    "#             data_frame_after = data_frame.iloc[boom_index:len(data_frame),:]\n",
    "            \n",
    "#             data_before = []\n",
    "#             for i in range(len(data_frame_before['total_location'])):\n",
    "#                 for j in range(len(data_frame_before['total_location'][i])):\n",
    "#                     data_before.append([data_frame_before['total_location'][i][j].split(' ')[1], data_frame_before['total_location'][i][j].split(' ')[0]])\n",
    "            \n",
    "#             m = folium.Map([37.000410209589352, 127.5936664724977] , zoom_start=7)\n",
    "#             HeatMap(data_before, radius=7, min_opacity=1).add_to(m)\n",
    "#             m.save(f'{keyword}_heatmap_before.html')\n",
    "            \n",
    "#             data_after = []\n",
    "#             for i in range(boom_index, data_frame.iloc[-1].name, 1):\n",
    "#                 for j in range(len(data_frame_after['total_location'][i])):\n",
    "#                     data_after.append([data_frame_after['total_location'][i][j].split(' ')[1], data_frame_after['total_location'][i][j].split(' ')[0]])\n",
    "\n",
    "#             m = folium.Map([37.000410209589352, 127.5936664724977] , zoom_start=7)\n",
    "#             HeatMap(data_after, radius=7, min_opacity=1).add_to(m)\n",
    "#             m.save(f'{keyword}_heatmap_after.html')\n",
    "            \n",
    "    def get_heatmap_all(self) -> None:\n",
    "        for category in self.categories:\n",
    "            data_frame = self.data[self.data['category']==category]\n",
    "            data_frame.reset_index(drop=True, inplace=True)\n",
    "            \n",
    "            data = []\n",
    "            for i in range(len(data_frame['total_location'])):\n",
    "                for j in range(len(data_frame['total_location'][i])):\n",
    "                    data.append([data_frame['total_location'][i][j].split(' ')[1], data_frame['total_location'][i][j].split(' ')[0]])\n",
    "            \n",
    "            m = folium.Map([37.000410209589352, 127.5936664724977] , zoom_start=7)\n",
    "            HeatMap(data, radius=7, min_opacity=1).add_to(m)\n",
    "            m.save(f'{category}_heatmap_all.html')\n",
    "            \n",
    "    def get_timemap_all(self) -> None:\n",
    "        for category in self.categories:\n",
    "            data_frame = self.data[self.data['category']==category]\n",
    "            data_frame.reset_index(drop=True, inplace=True)\n",
    "\n",
    "            # 날짜 만들어주기\n",
    "            data_frame['date'] = data_frame['year'].astype('str')+'-'+data_frame['month'].astype('str')\n",
    "            time_index=data_frame['date'].tolist()\n",
    "\n",
    "            # 위치 정보 누적으로 묶어주기\n",
    "            data_frame['total_location'] = data_frame['total_location'].apply(lambda n: [li.split(' ') for li in n])\n",
    "\n",
    "            for i in range(len(data_frame['total_location'])):\n",
    "                for j in range(len(data_frame['total_location'][i])):\n",
    "                    data_frame['total_location'][i][j][1], data_frame['total_location'][i][j][0] = float(data_frame['total_location'][i][j][0]), float(data_frame['total_location'][i][j][1])\n",
    "\n",
    "            for i in range(0, len(data_frame['total_location'])-2, 1):\n",
    "                data_frame['total_location'][i+1].extend(data_frame['total_location'][i])\n",
    "\n",
    "            data = data_frame['total_location'].tolist()\n",
    "\n",
    "\n",
    "            m = folium.Map([37.000410209589352, 127.5936664724977] , zoom_start=7)\n",
    "\n",
    "            hm = folium.plugins.HeatMapWithTime(data, index=time_index, radius=8, auto_play=True, min_opacity=0.3, max_speed=30)\n",
    "\n",
    "            hm.add_to(m)\n",
    "\n",
    "            m.save(f'{category}_timemap_all.html')\n",
    "            \n",
    "#     def get_timemap_boom(self) -> None:\n",
    "#         for keyword in self.keywords:\n",
    "#             data_frame = self.data[self.data['keyword']==keyword]\n",
    "#             data_frame.reset_index(drop=True, inplace=True)\n",
    "\n",
    "#             # 날짜 만들어주기\n",
    "#             data_frame['date'] = data_frame['year'].astype('str')+'-'+data_frame['month'].astype('str')\n",
    "#             time_index=data_frame['date'].tolist()\n",
    "\n",
    "#             # 위치 정보 누적으로 묶어주기\n",
    "#             data_frame['total_location'] = data_frame['total_location'].apply(lambda n: [li.split(' ') for li in n])\n",
    "\n",
    "#             for i in range(len(data_frame['total_location'])):\n",
    "#                 for j in range(len(data_frame['total_location'][i])):\n",
    "#                     data_frame['total_location'][i][j][1], data_frame['total_location'][i][j][0] = float(data_frame['total_location'][i][j][0]), float(data_frame['total_location'][i][j][1])\n",
    "\n",
    "#             for i in range(0, len(data_frame['total_location'])-2, 1):\n",
    "#                 data_frame['total_location'][i+1].extend(data_frame['total_location'][i])\n",
    "            \n",
    "#             boom_index = data_frame[(data_frame['year'] == self.boom[keyword][0]) & (data_frame['month'] == self.boom[keyword][1])].index.values[0]\n",
    "            \n",
    "#             data_frame_before = data_frame.iloc[0:boom_index,:]\n",
    "#             data_frame_after = data_frame.iloc[boom_index:len(data_frame),:].reset_index(drop=True)\n",
    "            \n",
    "#             data_before = data_frame_before['total_location'].tolist()\n",
    "#             data_after = data_frame_after['total_location'].tolist()\n",
    "\n",
    "#             time_index_before = time_index[:boom_index]\n",
    "#             time_index_after = time_index[boom_index:]\n",
    "            \n",
    "#             m = folium.Map([37.000410209589352, 127.5936664724977] , zoom_start=7)\n",
    "#             hm = folium.plugins.HeatMapWithTime(data_before, index=time_index_before, radius=8, auto_play=True, min_opacity=0.3, max_speed=30)\n",
    "#             hm.add_to(m)\n",
    "            \n",
    "#             m.save(f'{keyword}_timemap_before.html')\n",
    "            \n",
    "#             m = folium.Map([37.000410209589352, 127.5936664724977] , zoom_start=7)\n",
    "#             hm = folium.plugins.HeatMapWithTime(data_after, index=time_index_after, radius=8, auto_play=True, min_opacity=0.3, max_speed=30)\n",
    "#             hm.add_to(m)\n",
    "            \n",
    "#             m.save(f'{keyword}_timemap_after.html')\n",
    "            \n",
    "#     def get_timestamp_merge(self):\n",
    "#         # trendy, steady 데이터 따로 분리\n",
    "#         data_trendy = self.data[self.data['category']=='trendy'].reset_index(drop=True)\n",
    "#         data_steady = self.data[self.data['category']=='steady'].reset_index(drop=True)\n",
    "        \n",
    "#         # \n",
    "        \n",
    "        "
   ]
  },
  {
   "cell_type": "code",
   "execution_count": 343,
   "id": "5b2c4d30",
   "metadata": {},
   "outputs": [],
   "source": [
    "category_map_image = CategoryMapImage(df_class)"
   ]
  },
  {
   "cell_type": "code",
   "execution_count": 344,
   "id": "d75af7ac",
   "metadata": {
    "collapsed": true
   },
   "outputs": [
    {
     "name": "stderr",
     "output_type": "stream",
     "text": [
      "C:\\Users\\user\\AppData\\Local\\Temp\\ipykernel_12196\\2467130157.py:54: SettingWithCopyWarning: \n",
      "A value is trying to be set on a copy of a slice from a DataFrame.\n",
      "Try using .loc[row_indexer,col_indexer] = value instead\n",
      "\n",
      "See the caveats in the documentation: https://pandas.pydata.org/pandas-docs/stable/user_guide/indexing.html#returning-a-view-versus-a-copy\n",
      "  data_frame['date'] = data_frame['year'].astype('str')+'-'+data_frame['month'].astype('str')\n",
      "C:\\Users\\user\\AppData\\Local\\Temp\\ipykernel_12196\\2467130157.py:58: SettingWithCopyWarning: \n",
      "A value is trying to be set on a copy of a slice from a DataFrame.\n",
      "Try using .loc[row_indexer,col_indexer] = value instead\n",
      "\n",
      "See the caveats in the documentation: https://pandas.pydata.org/pandas-docs/stable/user_guide/indexing.html#returning-a-view-versus-a-copy\n",
      "  data_frame['total_location'] = data_frame['total_location'].apply(lambda n: [li.split(' ') for li in n])\n",
      "C:\\Users\\user\\AppData\\Local\\Temp\\ipykernel_12196\\2467130157.py:54: SettingWithCopyWarning: \n",
      "A value is trying to be set on a copy of a slice from a DataFrame.\n",
      "Try using .loc[row_indexer,col_indexer] = value instead\n",
      "\n",
      "See the caveats in the documentation: https://pandas.pydata.org/pandas-docs/stable/user_guide/indexing.html#returning-a-view-versus-a-copy\n",
      "  data_frame['date'] = data_frame['year'].astype('str')+'-'+data_frame['month'].astype('str')\n",
      "C:\\Users\\user\\AppData\\Local\\Temp\\ipykernel_12196\\2467130157.py:58: SettingWithCopyWarning: \n",
      "A value is trying to be set on a copy of a slice from a DataFrame.\n",
      "Try using .loc[row_indexer,col_indexer] = value instead\n",
      "\n",
      "See the caveats in the documentation: https://pandas.pydata.org/pandas-docs/stable/user_guide/indexing.html#returning-a-view-versus-a-copy\n",
      "  data_frame['total_location'] = data_frame['total_location'].apply(lambda n: [li.split(' ') for li in n])\n",
      "C:\\Users\\user\\AppData\\Local\\Temp\\ipykernel_12196\\2467130157.py:54: SettingWithCopyWarning: \n",
      "A value is trying to be set on a copy of a slice from a DataFrame.\n",
      "Try using .loc[row_indexer,col_indexer] = value instead\n",
      "\n",
      "See the caveats in the documentation: https://pandas.pydata.org/pandas-docs/stable/user_guide/indexing.html#returning-a-view-versus-a-copy\n",
      "  data_frame['date'] = data_frame['year'].astype('str')+'-'+data_frame['month'].astype('str')\n",
      "C:\\Users\\user\\AppData\\Local\\Temp\\ipykernel_12196\\2467130157.py:58: SettingWithCopyWarning: \n",
      "A value is trying to be set on a copy of a slice from a DataFrame.\n",
      "Try using .loc[row_indexer,col_indexer] = value instead\n",
      "\n",
      "See the caveats in the documentation: https://pandas.pydata.org/pandas-docs/stable/user_guide/indexing.html#returning-a-view-versus-a-copy\n",
      "  data_frame['total_location'] = data_frame['total_location'].apply(lambda n: [li.split(' ') for li in n])\n"
     ]
    }
   ],
   "source": [
    "category_map_image.get_heatmap_all()\n",
    "category_map_image.get_timemap_all()"
   ]
  },
  {
   "cell_type": "code",
   "execution_count": null,
   "id": "811a68c3",
   "metadata": {},
   "outputs": [],
   "source": []
  },
  {
   "cell_type": "markdown",
   "id": "8d332006",
   "metadata": {},
   "source": [
    "# 폐업 기준으로 봐보자"
   ]
  },
  {
   "cell_type": "code",
   "execution_count": 180,
   "id": "26ae762d",
   "metadata": {},
   "outputs": [],
   "source": [
    "class KeywordMapImageClose():\n",
    "    def __init__(self, data, keywords, boom):\n",
    "        self.data = data\n",
    "        self.keywords = keywords\n",
    "        self.boom = boom\n",
    "        \n",
    "    def get_heatmap_boom(self) -> None:\n",
    "        for keyword in self.keywords:\n",
    "            data_frame = self.data[self.data['keyword']==keyword]\n",
    "            data_frame.reset_index(drop=True, inplace=True)\n",
    "            \n",
    "            boom_index = data_frame[(data_frame['year'] == self.boom[keyword][0]) & (data_frame['month'] == self.boom[keyword][1])].index.values[0]\n",
    "            data_frame_before = data_frame.iloc[0:boom_index,:]\n",
    "            data_frame_after = data_frame.iloc[boom_index:len(data_frame),:]\n",
    "            \n",
    "            data_before = []\n",
    "            for i in range(len(data_frame_before['close_location'])):\n",
    "                for j in range(len(data_frame_before['close_location'][i])):\n",
    "                    data_before.append([data_frame_before['close_location'][i][j].split(' ')[1], data_frame_before['close_location'][i][j].split(' ')[0]])\n",
    "            \n",
    "            m = folium.Map([37.000410209589352, 127.5936664724977] , zoom_start=7)\n",
    "            HeatMap(data_before, radius=20, min_opacity=0.1, miax_opacity=0.5, blur=30).add_to(m)\n",
    "            m.save(f'{keyword}_heatmap_before.html')\n",
    "            \n",
    "            data_after = []\n",
    "            for i in range(boom_index, data_frame.iloc[-1].name, 1):\n",
    "                for j in range(len(data_frame_after['close_location'][i])):\n",
    "                    data_after.append([data_frame_after['close_location'][i][j].split(' ')[1], data_frame_after['close_location'][i][j].split(' ')[0]])\n",
    "\n",
    "            m = folium.Map([37.000410209589352, 127.5936664724977] , zoom_start=7)\n",
    "            HeatMap(data_after, radius=20, min_opacity=0.1, miax_opacity=0.5, blur=30).add_to(m)\n",
    "            m.save(f'{keyword}_heatmap_after.html')\n",
    "            \n",
    "    def get_heatmap_all(self) -> None:\n",
    "        for keyword in self.keywords:\n",
    "            data_frame = self.data[self.data['keyword']==keyword]\n",
    "            data_frame.reset_index(drop=True, inplace=True)\n",
    "            \n",
    "            data = []\n",
    "            for i in range(len(data_frame['close_location'])):\n",
    "                for j in range(len(data_frame['close_location'][i])):\n",
    "                    data.append([data_frame['close_location'][i][j].split(' ')[1], data_frame['close_location'][i][j].split(' ')[0]])\n",
    "            \n",
    "            m = folium.Map([37.000410209589352, 127.5936664724977] , zoom_start=7)\n",
    "            HeatMap(data, radius=20, min_opacity=0.1, miax_opacity=0.5, blur=30).add_to(m)\n",
    "            m.save(f'{keyword}_heatmap_all.html')\n",
    "            \n",
    "    def get_timemap_all(self) -> None:\n",
    "        for keyword in self.keywords:\n",
    "            data_frame = self.data[self.data['keyword']==keyword]\n",
    "            data_frame.reset_index(drop=True, inplace=True)\n",
    "\n",
    "            # 날짜 만들어주기\n",
    "            data_frame['date'] = data_frame['year'].astype('str')+'-'+data_frame['month'].astype('str')\n",
    "            time_index=data_frame['date'].tolist()\n",
    "\n",
    "            # 위치 정보 누적으로 묶어주기\n",
    "            data_frame['close_location'] = data_frame['close_location'].apply(lambda n: [li.split(' ') for li in n])\n",
    "\n",
    "            for i in range(len(data_frame['close_location'])):\n",
    "                for j in range(len(data_frame['close_location'][i])):\n",
    "                    data_frame['close_location'][i][j][1], data_frame['close_location'][i][j][0] = float(data_frame['close_location'][i][j][0]), float(data_frame['close_location'][i][j][1])\n",
    "\n",
    "            for i in range(0, len(data_frame['close_location'])-2, 1):\n",
    "                data_frame['close_location'][i+1].extend(data_frame['close_location'][i])\n",
    "\n",
    "            data = data_frame['close_location'].tolist()\n",
    "\n",
    "\n",
    "            m = folium.Map([37.000410209589352, 127.5936664724977] , zoom_start=7)\n",
    "\n",
    "            hm = folium.plugins.HeatMapWithTime(data, index=time_index, radius=8, auto_play=True, min_opacity=0.3, max_speed=30, blur=1)\n",
    "\n",
    "            hm.add_to(m)\n",
    "\n",
    "            m.save(f'{keyword}_timemap_all.html')\n",
    "            \n",
    "    def get_timemap_boom(self) -> None:\n",
    "        for keyword in self.keywords:\n",
    "            data_frame = self.data[self.data['keyword']==keyword]\n",
    "            data_frame.reset_index(drop=True, inplace=True)\n",
    "\n",
    "            # 날짜 만들어주기\n",
    "            data_frame['date'] = data_frame['year'].astype('str')+'-'+data_frame['month'].astype('str')\n",
    "            time_index=data_frame['date'].tolist()\n",
    "\n",
    "            # 위치 정보 누적으로 묶어주기\n",
    "            data_frame['close_location'] = data_frame['close_location'].apply(lambda n: [li.split(' ') for li in n])\n",
    "\n",
    "            for i in range(len(data_frame['close_location'])):\n",
    "                for j in range(len(data_frame['close_location'][i])):\n",
    "                    data_frame['close_location'][i][j][1], data_frame['close_location'][i][j][0] = float(data_frame['close_location'][i][j][0]), float(data_frame['close_location'][i][j][1])\n",
    "\n",
    "            for i in range(0, len(data_frame['close_location'])-2, 1):\n",
    "                data_frame['close_location'][i+1].extend(data_frame['total_location'][i])\n",
    "            \n",
    "            boom_index = data_frame[(data_frame['year'] == self.boom[keyword][0]) & (data_frame['month'] == self.boom[keyword][1])].index.values[0]\n",
    "            \n",
    "            data_frame_before = data_frame.iloc[0:boom_index,:]\n",
    "            data_frame_after = data_frame.iloc[boom_index:len(data_frame),:].reset_index(drop=True)\n",
    "            \n",
    "            data_before = data_frame_before['close_location'].tolist()\n",
    "            data_after = data_frame_after['close_location'].tolist()\n",
    "\n",
    "            time_index_before = time_index[:boom_index]\n",
    "            time_index_after = time_index[boom_index:]\n",
    "            \n",
    "            m = folium.Map([37.000410209589352, 127.5936664724977] , zoom_start=7)\n",
    "            hm = folium.plugins.HeatMapWithTime(data_before, index=time_index_before, radius=8, auto_play=True, min_opacity=0.3, max_speed=30, blur=1)\n",
    "            hm.add_to(m)\n",
    "            \n",
    "            m.save(f'{keyword}_timemap_before.html')\n",
    "            \n",
    "            m = folium.Map([37.000410209589352, 127.5936664724977] , zoom_start=7)\n",
    "            hm = folium.plugins.HeatMapWithTime(data_after, index=time_index_after, radius=8, auto_play=True, min_opacity=0.3, max_speed=30, blur=1)\n",
    "            hm.add_to(m)\n",
    "            \n",
    "            m.save(f'{keyword}_timemap_after.html')\n",
    "            \n",
    "#     def get_timestamp_merge(self):\n",
    "#         # trendy, steady 데이터 따로 분리\n",
    "#         data_trendy = self.data[self.data['category']=='trendy'].reset_index(drop=True)\n",
    "#         data_steady = self.data[self.data['category']=='steady'].reset_index(drop=True)\n",
    "        \n",
    "#         # \n",
    "        \n",
    "        "
   ]
  },
  {
   "cell_type": "code",
   "execution_count": 351,
   "id": "9fd4720c",
   "metadata": {},
   "outputs": [
    {
     "ename": "NameError",
     "evalue": "name 'KeywordMapImage' is not defined",
     "output_type": "error",
     "traceback": [
      "\u001b[1;31m---------------------------------------------------------------------------\u001b[0m",
      "\u001b[1;31mNameError\u001b[0m                                 Traceback (most recent call last)",
      "Cell \u001b[1;32mIn[351], line 2\u001b[0m\n\u001b[0;32m      1\u001b[0m keywords \u001b[38;5;241m=\u001b[39m \u001b[38;5;28mset\u001b[39m(df[\u001b[38;5;124m'\u001b[39m\u001b[38;5;124mkeyword\u001b[39m\u001b[38;5;124m'\u001b[39m])\n\u001b[1;32m----> 2\u001b[0m key_map_image \u001b[38;5;241m=\u001b[39m KeywordMapImage(df, keywords, boom)\n\u001b[0;32m      3\u001b[0m key_map_image\u001b[38;5;241m.\u001b[39mget_timemap_boom()\n\u001b[0;32m      4\u001b[0m key_map_image\u001b[38;5;241m.\u001b[39mget_timemap_all()\n",
      "\u001b[1;31mNameError\u001b[0m: name 'KeywordMapImage' is not defined"
     ]
    }
   ],
   "source": [
    "keywords = set(df['keyword'])\n",
    "key_map_image = KeywordMapImage(df, keywords, boom)\n",
    "key_map_image.get_timemap_boom()\n",
    "key_map_image.get_timemap_all()\n",
    "key_map_image.get_heatmap_boom()\n",
    "key_map_image.get_heatmap_all()"
   ]
  },
  {
   "cell_type": "code",
   "execution_count": 350,
   "id": "8bb6f9a3",
   "metadata": {},
   "outputs": [
    {
     "data": {
      "text/plain": [
       "['.ipynb_checkpoints',\n",
       " 'steady_heatmap_all.html',\n",
       " 'steady_timemap_all.html',\n",
       " 'store_class.csv',\n",
       " 'store_data.csv',\n",
       " 'store_keyword.csv',\n",
       " 'store_v1.csv',\n",
       " 'tang_heatmap_all.html',\n",
       " 'tang_timemap_all.html',\n",
       " 'trendy_heatmap_all.html',\n",
       " 'trendy_timemap_all.html',\n",
       " 'Untitled1.ipynb']"
      ]
     },
     "execution_count": 350,
     "metadata": {},
     "output_type": "execute_result"
    }
   ],
   "source": [
    "os.listdir()"
   ]
  },
  {
   "cell_type": "markdown",
   "id": "fb32d621",
   "metadata": {},
   "source": [
    "# 같은 업종의 가게가 근처 있을 때 폐업률\n",
    "* 거리 별, 근처 가게 평균 수 별로 폐업률(각각, 유형별로 묶어서, 탕후루 총 세 가지)\n",
    "    "
   ]
  },
  {
   "cell_type": "code",
   "execution_count": 9,
   "id": "108b7b5a",
   "metadata": {},
   "outputs": [],
   "source": [
    "# 1차 전처리 자료\n",
    "data = pd.read_csv('C:/Users/sjhty/Desktop/구글 클라우드/temp/temp-20231122T113014Z-001/temp/store_v1.csv')"
   ]
  },
  {
   "cell_type": "code",
   "execution_count": 10,
   "id": "30919f0a",
   "metadata": {},
   "outputs": [],
   "source": [
    "data['licence_date'] = data.apply(lambda n: datetime.strptime(n['licence_date'], '%Y-%m-%d'), axis=1)\n",
    "data['close_date'] = data.apply(lambda n: datetime.strptime(n['close_date'], '%Y-%m-%d'), axis=1)\n",
    "data['open'] = data.apply(lambda n:n['licence_date'].strftime('%Y-%m'), axis=1)"
   ]
  },
  {
   "cell_type": "code",
   "execution_count": null,
   "id": "ec16c7e7",
   "metadata": {},
   "outputs": [],
   "source": [
    "# 위도 : 0.01 => 1km\n",
    "# 경도 : 경도 0.015 => 1.5km\n",
    "\n",
    "# 위도 = latitude = y => 0.01\n",
    "# 경도 = longtitude = x  => 0.015\n",
    "### 단위는 m로 사용\n",
    "# def get_school_num(school_data, store_data, *distances) -> pd.DataFrame:\n",
    "#     temp_DataFrame = pd.DataFrame()\n",
    "#     for distance in distances:\n",
    "#         temp = pd.DataFrame()\n",
    "#         temp['lower_lo_{}'.format(distance)] = store_data['longitude']-(0.000015*distance)\n",
    "#         temp['upper_lo_{}'.format(distance)] = store_data['longitude']+(0.000015*distance)\n",
    "#         temp['lower_la_{}'.format(distance)] = store_data['latitude']-(0.00001*distance)\n",
    "#         temp['upper_la_{}'.format(distance)] = store_data['latitude']+(0.00001*distance)\n",
    "#         temp_DataFrame = pd.concat([temp_DataFrame, temp], axis=1)\n",
    "#     return temp_DataFrame"
   ]
  },
  {
   "cell_type": "markdown",
   "id": "3237fdf4",
   "metadata": {},
   "source": [
    "# 인접 가게 구하기"
   ]
  },
  {
   "cell_type": "code",
   "execution_count": 11,
   "id": "ded8d5db",
   "metadata": {},
   "outputs": [],
   "source": [
    "# 위도 : 0.01 => 1km\n",
    "# 경도 : 경도 0.015 => 1.5km\n",
    "\n",
    "# 위도 = latitude = y => 0.01\n",
    "# 경도 = longitude = x  => 0.015\n",
    "### 단위는 m로 사용\n",
    "def get_school_num(df, *distances) -> pd.DataFrame:\n",
    "    temp_DataFrame = pd.DataFrame()\n",
    "    for distance in distances:\n",
    "        temp_list = []\n",
    "        for lo, la in zip(df['longitude'], df['latitude']):\n",
    "            num = 0\n",
    "            for v_lo, v_la in zip(df['longitude'], df['latitude']):\n",
    "                if ((v_lo-(0.000015*distance)) <= lo) & ((v_lo+(0.000015*distance)) >= lo) \\\n",
    "                & ((v_la-(0.000015*distance)) <= la) & ((v_la +(0.000015*distance)) >= la):\n",
    "                    num+=1\n",
    "            temp_list.append(num-1)\n",
    "        temp_DataFrame['adjacency_{}'.format(distance)] = temp_list\n",
    "    return temp_DataFrame"
   ]
  },
  {
   "cell_type": "code",
   "execution_count": 12,
   "id": "b8af037f",
   "metadata": {},
   "outputs": [],
   "source": [
    "adjacency_data = get_school_num(data[data['keyword']=='마라탕'].reset_index(drop=True),100, 200, 500, 1000, 1500)"
   ]
  },
  {
   "cell_type": "markdown",
   "id": "be68d2d1",
   "metadata": {},
   "source": [
    "# 거리에 따른 인접 가게 수에 따른 폐업률"
   ]
  },
  {
   "cell_type": "code",
   "execution_count": 13,
   "id": "487449d3",
   "metadata": {},
   "outputs": [
    {
     "ename": "NameError",
     "evalue": "name 'bab_adj' is not defined",
     "output_type": "error",
     "traceback": [
      "\u001b[1;31m---------------------------------------------------------------------------\u001b[0m",
      "\u001b[1;31mNameError\u001b[0m                                 Traceback (most recent call last)",
      "\u001b[1;32m~\\AppData\\Local\\Temp\\ipykernel_29292\\348081468.py\u001b[0m in \u001b[0;36m<module>\u001b[1;34m\u001b[0m\n\u001b[0;32m      2\u001b[0m \u001b[1;33m\u001b[0m\u001b[0m\n\u001b[0;32m      3\u001b[0m \u001b[1;32mfor\u001b[0m \u001b[0mcol\u001b[0m \u001b[1;32min\u001b[0m \u001b[0mcolumns\u001b[0m\u001b[1;33m:\u001b[0m\u001b[1;33m\u001b[0m\u001b[1;33m\u001b[0m\u001b[0m\n\u001b[1;32m----> 4\u001b[1;33m     \u001b[0mresult\u001b[0m \u001b[1;33m=\u001b[0m \u001b[0mbab_adj\u001b[0m\u001b[1;33m.\u001b[0m\u001b[0mgroupby\u001b[0m\u001b[1;33m(\u001b[0m\u001b[1;33m[\u001b[0m\u001b[0mcol\u001b[0m\u001b[1;33m,\u001b[0m \u001b[1;34m'status'\u001b[0m\u001b[1;33m]\u001b[0m\u001b[1;33m)\u001b[0m\u001b[1;33m.\u001b[0m\u001b[0msize\u001b[0m\u001b[1;33m(\u001b[0m\u001b[1;33m)\u001b[0m\u001b[1;33m.\u001b[0m\u001b[0munstack\u001b[0m\u001b[1;33m(\u001b[0m\u001b[1;33m)\u001b[0m\u001b[1;33m\u001b[0m\u001b[1;33m\u001b[0m\u001b[0m\n\u001b[0m\u001b[0;32m      5\u001b[0m     \u001b[0mresult\u001b[0m\u001b[1;33m[\u001b[0m\u001b[1;34m'영업+폐업'\u001b[0m\u001b[1;33m]\u001b[0m \u001b[1;33m=\u001b[0m \u001b[0mresult\u001b[0m\u001b[1;33m[\u001b[0m\u001b[1;34m'폐업'\u001b[0m\u001b[1;33m]\u001b[0m \u001b[1;33m+\u001b[0m \u001b[0mresult\u001b[0m\u001b[1;33m[\u001b[0m\u001b[1;34m'영업/정상'\u001b[0m\u001b[1;33m]\u001b[0m\u001b[1;33m\u001b[0m\u001b[1;33m\u001b[0m\u001b[0m\n\u001b[0;32m      6\u001b[0m     \u001b[0mresult\u001b[0m\u001b[1;33m[\u001b[0m\u001b[1;34m'폐업 비율'\u001b[0m\u001b[1;33m]\u001b[0m \u001b[1;33m=\u001b[0m \u001b[0mresult\u001b[0m\u001b[1;33m[\u001b[0m\u001b[1;34m'폐업'\u001b[0m\u001b[1;33m]\u001b[0m \u001b[1;33m/\u001b[0m \u001b[1;33m(\u001b[0m\u001b[0mresult\u001b[0m\u001b[1;33m[\u001b[0m\u001b[1;34m'폐업'\u001b[0m\u001b[1;33m]\u001b[0m \u001b[1;33m+\u001b[0m \u001b[0mresult\u001b[0m\u001b[1;33m[\u001b[0m\u001b[1;34m'영업/정상'\u001b[0m\u001b[1;33m]\u001b[0m\u001b[1;33m)\u001b[0m\u001b[1;33m\u001b[0m\u001b[1;33m\u001b[0m\u001b[0m\n",
      "\u001b[1;31mNameError\u001b[0m: name 'bab_adj' is not defined"
     ]
    }
   ],
   "source": [
    "columns = ['adjacency_100', 'adjacency_200', 'adjacency_500', 'adjacency_1000', 'adjacency_1500']\n",
    "\n",
    "for col in columns:\n",
    "    result = bab_adj.groupby([col, 'status']).size().unstack()\n",
    "    result['영업+폐업'] = result['폐업'] + result['영업/정상']\n",
    "    result['폐업 비율'] = result['폐업'] / (result['폐업'] + result['영업/정상'])\n",
    "\n",
    "    # 그래프 그리기\n",
    "    fig, ax1 = plt.subplots(figsize=(8, 6))\n",
    "\n",
    "    # 막대 그래프 (영업+폐업)\n",
    "    result['영업+폐업'].plot(kind='bar', ax=ax1, color='skyblue', label='영업+폐업')\n",
    "    ax1.set_xlabel(col)\n",
    "    ax1.set_ylabel('영업+폐업 수')\n",
    "    ax1.tick_params(axis='y')\n",
    "\n",
    "    # 선 그래프 (폐업 비율)\n",
    "    ax2 = ax1.twinx()\n",
    "#     sns.regplot(data=result, x=result.index, y='폐업 비율', ax=ax2, scatter=False, line_kws={'color': 'red'})\n",
    "    result['폐업 비율'].plot(kind='line', ax=ax2, color='orange', marker='o', label='폐업 비율')\n",
    "    ax2.set_ylabel('폐업 비율')\n",
    "    ax2.tick_params(axis='y')\n",
    "    \n",
    "    # 그래프 타이틀\n",
    "    plt.title(f\"'{col}' 값에 따른 영업+폐업 수와 폐업 비율\")\n",
    "    plt.legend(loc='upper left')\n",
    "    plt.show()"
   ]
  },
  {
   "cell_type": "code",
   "execution_count": 14,
   "id": "16714d73",
   "metadata": {},
   "outputs": [],
   "source": [
    "boom = {\n",
    "    '명랑핫도그':pd.to_datetime('2017.03')\n",
    "    , '설빙':pd.to_datetime('2014.07')\n",
    "    , '공차':pd.to_datetime('2014.04')\n",
    "    , '마라탕':pd.to_datetime('2019.08')\n",
    "    , '엽기떡볶이':pd.to_datetime('2015.04')\n",
    "    , '카스테라':pd.to_datetime('2016.12')\n",
    "    , '쥬씨':pd.to_datetime('2016.06')\n",
    "    , '엉생':pd.to_datetime('2016.05')\n",
    "    , '홍루이젠':pd.to_datetime('2018.08')\n",
    "    , '밥버거':pd.to_datetime('2013.10')\n",
    "    , '탕후루':pd.to_datetime('2023.09')\n",
    "}"
   ]
  },
  {
   "cell_type": "markdown",
   "id": "cf7091a9",
   "metadata": {},
   "source": [
    "# steady, trendy 합쳐서 붐 구하기"
   ]
  },
  {
   "cell_type": "code",
   "execution_count": 15,
   "id": "fd7a93b2",
   "metadata": {},
   "outputs": [],
   "source": [
    "data_steady = data[data['class']=='steady'].reset_index(drop=True)\n",
    "data_trendy = data[data['class']=='trendy'].reset_index(drop=True)\n",
    "data_tang = data[data['class']=='tang'].reset_index(drop=True)"
   ]
  },
  {
   "cell_type": "code",
   "execution_count": 16,
   "id": "af47a717",
   "metadata": {},
   "outputs": [
    {
     "data": {
      "text/plain": [
       "{'공차', '마라탕', '명랑핫도그', '설빙', '엽기떡볶이'}"
      ]
     },
     "execution_count": 16,
     "metadata": {},
     "output_type": "execute_result"
    }
   ],
   "source": [
    "set(data_steady['keyword'])"
   ]
  },
  {
   "cell_type": "markdown",
   "id": "427c0b84",
   "metadata": {},
   "source": [
    "### steady 구하기"
   ]
  },
  {
   "cell_type": "code",
   "execution_count": 17,
   "id": "7c2a6e04",
   "metadata": {},
   "outputs": [],
   "source": [
    "data_steady_gongcha = data_steady[data_steady['keyword']=='공차'].reset_index(drop=True)\n",
    "data_steady_mara = data_steady[data_steady['keyword']=='마라탕'].reset_index(drop=True)\n",
    "data_steady_hotdog = data_steady[data_steady['keyword']=='명랑핫도그'].reset_index(drop=True)\n",
    "data_steady_snow = data_steady[data_steady['keyword']=='설빙'].reset_index(drop=True)\n",
    "data_steady_dduk = data_steady[data_steady['keyword']=='엽기떡볶이'].reset_index(drop=True)"
   ]
  },
  {
   "cell_type": "code",
   "execution_count": 18,
   "id": "e6aee066",
   "metadata": {},
   "outputs": [],
   "source": [
    "gongcha_open_counts = data_steady_gongcha.groupby('open').size().reset_index(name='count')\n",
    "mara_open_counts = data_steady_mara.groupby('open').size().reset_index(name='count')\n",
    "hotdog_open_counts = data_steady_hotdog.groupby('open').size().reset_index(name='count')\n",
    "snow_open_counts = data_steady_snow.groupby('open').size().reset_index(name='count')\n",
    "dduk_open_counts = data_steady_dduk.groupby('open').size().reset_index(name='count')"
   ]
  },
  {
   "cell_type": "code",
   "execution_count": 19,
   "id": "84ce3d06",
   "metadata": {},
   "outputs": [],
   "source": [
    "gongcha_open_counts['scale'] = gongcha_open_counts.apply(lambda n: (n['count']- min(gongcha_open_counts['count'])) / (max(gongcha_open_counts['count']) - min(gongcha_open_counts['count'])), axis=1) *len(data_steady_gongcha)\n",
    "mara_open_counts['scale'] = mara_open_counts.apply(lambda n: (n['count'] - min(mara_open_counts['count']))/ (max(mara_open_counts['count']) - min(mara_open_counts['count'])), axis=1) * len(data_steady_mara)\n",
    "hotdog_open_counts['scale'] = hotdog_open_counts.apply(lambda n: (n['count']- min(hotdog_open_counts['count'])) / (max(hotdog_open_counts['count']) - min(hotdog_open_counts['count'])), axis=1) * len(data_steady_hotdog)\n",
    "snow_open_counts['scale'] = snow_open_counts.apply(lambda n: (n['count'] - min(snow_open_counts['count'])) / (max(snow_open_counts['count']) - min(snow_open_counts['count'])), axis=1) * len(data_steady_snow)\n",
    "dduk_open_counts['scale'] = dduk_open_counts.apply(lambda n: (n['count']- min(dduk_open_counts['count'])) / (max(dduk_open_counts['count']) - min(dduk_open_counts['count'])), axis=1) * len(data_steady_dduk)"
   ]
  },
  {
   "cell_type": "code",
   "execution_count": 20,
   "id": "5308f9bf",
   "metadata": {},
   "outputs": [],
   "source": [
    "gongcha_open_counts['bool'] = gongcha_open_counts['open'].apply(lambda n : n >= str(boom['공차']))\n",
    "mara_open_counts['bool'] = mara_open_counts['open'].apply(lambda n : n >= str(boom['마라탕']))\n",
    "hotdog_open_counts['bool'] = hotdog_open_counts['open'].apply(lambda n : n >= str(boom['명랑핫도그']))\n",
    "snow_open_counts['bool'] = snow_open_counts['open'].apply(lambda n : n >= str(boom['설빙']))\n",
    "dduk_open_counts['bool'] = dduk_open_counts['open'].apply(lambda n : n >= str(boom['엽기떡볶이']))"
   ]
  },
  {
   "cell_type": "code",
   "execution_count": 21,
   "id": "a8c25187",
   "metadata": {},
   "outputs": [],
   "source": [
    "gongcha_boom_after = gongcha_open_counts['scale'][gongcha_open_counts['bool']==True].reset_index(drop=True)\n",
    "mara_boom_after = mara_open_counts['scale'][mara_open_counts['bool']==True].reset_index(drop=True)\n",
    "hotdog_boom_after = hotdog_open_counts['scale'][hotdog_open_counts['bool']==True].reset_index(drop=True)\n",
    "snow_boom_after = snow_open_counts['scale'][snow_open_counts['bool']==True].reset_index(drop=True)\n",
    "dduk_boom_after = dduk_open_counts['scale'][dduk_open_counts['bool']==True].reset_index(drop=True)"
   ]
  },
  {
   "cell_type": "code",
   "execution_count": 22,
   "id": "c0aa38e9",
   "metadata": {},
   "outputs": [],
   "source": [
    "steady_after = gongcha_boom_after.add(mara_boom_after, fill_value=0).combine_first(gongcha_boom_after).combine_first(mara_boom_after)\n",
    "steady_after = steady_after.add(hotdog_boom_after, fill_value=0).combine_first(steady_after).combine_first(hotdog_boom_after)\n",
    "steady_after = steady_after.add(dduk_boom_after, fill_value=0).combine_first(steady_after).combine_first(dduk_boom_after)\n",
    "steady_after = steady_after.add(snow_boom_after, fill_value=0).combine_first(steady_after).combine_first(snow_boom_after)"
   ]
  },
  {
   "cell_type": "code",
   "execution_count": 23,
   "id": "28307664",
   "metadata": {},
   "outputs": [],
   "source": [
    "steady_after /= len(data_steady)"
   ]
  },
  {
   "cell_type": "code",
   "execution_count": 24,
   "id": "daf7c4e2",
   "metadata": {},
   "outputs": [],
   "source": [
    "gongcha_boom_before = gongcha_open_counts['scale'][gongcha_open_counts['bool']==False][::-1].reset_index(drop=True)\n",
    "mara_boom_before = mara_open_counts['scale'][mara_open_counts['bool']==False][::-1].reset_index(drop=True)\n",
    "hotdog_boom_before = hotdog_open_counts['scale'][hotdog_open_counts['bool']==False][::-1].reset_index(drop=True)\n",
    "snow_boom_before = snow_open_counts['scale'][snow_open_counts['bool']==False][::-1].reset_index(drop=True)\n",
    "dduk_boom_before = dduk_open_counts['scale'][dduk_open_counts['bool']==False][::-1].reset_index(drop=True)"
   ]
  },
  {
   "cell_type": "code",
   "execution_count": 25,
   "id": "88c6d69d",
   "metadata": {},
   "outputs": [],
   "source": [
    "steady_before = gongcha_boom_before.add(mara_boom_before, fill_value=0).combine_first(gongcha_boom_before).combine_first(mara_boom_before)\n",
    "steady_before = steady_before.add(hotdog_boom_before, fill_value=0).combine_first(steady_before).combine_first(hotdog_boom_before)\n",
    "steady_before = steady_before.add(dduk_boom_before, fill_value=0).combine_first(steady_before).combine_first(dduk_boom_before)\n",
    "steady_before = steady_before.add(snow_boom_before, fill_value=0).combine_first(steady_before).combine_first(snow_boom_before)"
   ]
  },
  {
   "cell_type": "code",
   "execution_count": 26,
   "id": "dd0b6c9c",
   "metadata": {},
   "outputs": [],
   "source": [
    "steady_before = steady_before[::-1]"
   ]
  },
  {
   "cell_type": "code",
   "execution_count": 27,
   "id": "de4c721a",
   "metadata": {},
   "outputs": [],
   "source": [
    "steady_before /= len(data_steady)"
   ]
  },
  {
   "cell_type": "markdown",
   "id": "762ec043",
   "metadata": {},
   "source": [
    "### 트렌디 구하기"
   ]
  },
  {
   "cell_type": "code",
   "execution_count": 28,
   "id": "c48d74ff",
   "metadata": {},
   "outputs": [],
   "source": [
    "data_trendy_cas = data_trendy[data_trendy['keyword']=='카스테라'].reset_index(drop=True)\n",
    "data_trendy_ju = data_trendy[data_trendy['keyword']=='쥬씨'].reset_index(drop=True)\n",
    "data_trendy_ung = data_trendy[data_trendy['keyword']=='엉터리생고기'].reset_index(drop=True)\n",
    "data_trendy_hong = data_trendy[data_trendy['keyword']=='홍루이젠'].reset_index(drop=True)\n",
    "data_trendy_bab = data_trendy[data_trendy['keyword']=='밥버거'].reset_index(drop=True)"
   ]
  },
  {
   "cell_type": "code",
   "execution_count": 29,
   "id": "b2881076",
   "metadata": {},
   "outputs": [],
   "source": [
    "cas_open_counts = data_trendy_cas.groupby('open').size().reset_index(name='count')\n",
    "ju_open_counts = data_trendy_ju.groupby('open').size().reset_index(name='count')\n",
    "ung_open_counts = data_trendy_ung.groupby('open').size().reset_index(name='count')\n",
    "hong_open_counts = data_trendy_hong.groupby('open').size().reset_index(name='count')\n",
    "bab_open_counts = data_trendy_bab.groupby('open').size().reset_index(name='count')"
   ]
  },
  {
   "cell_type": "code",
   "execution_count": 30,
   "id": "b5909ae3",
   "metadata": {},
   "outputs": [],
   "source": [
    "cas_open_counts['scale'] = cas_open_counts.apply(lambda n: (n['count']- min(cas_open_counts['count'])) / (max(cas_open_counts['count']) - min(cas_open_counts['count'])), axis=1)*len(data_trendy_cas)\n",
    "ju_open_counts['scale'] = ju_open_counts.apply(lambda n: (n['count']- min(ju_open_counts['count'])) / (max(ju_open_counts['count']) - min(ju_open_counts['count'])), axis=1)*len(data_trendy_ju)\n",
    "ung_open_counts['scale'] = ung_open_counts.apply(lambda n: (n['count']- min(ung_open_counts['count'])) / (max(ung_open_counts['count']) - min(ung_open_counts['count'])), axis=1)*len(data_trendy_ung)\n",
    "hong_open_counts['scale'] = hong_open_counts.apply(lambda n: (n['count']- min(hong_open_counts['count'])) / (max(hong_open_counts['count']) - min(hong_open_counts['count'])), axis=1)*len(data_trendy_hong)\n",
    "bab_open_counts['scale'] = bab_open_counts.apply(lambda n: (n['count']- min(bab_open_counts['count'])) / (max(bab_open_counts['count']) - min(bab_open_counts['count'])), axis=1)*len(data_trendy_bab)"
   ]
  },
  {
   "cell_type": "code",
   "execution_count": 31,
   "id": "bfc381d0",
   "metadata": {},
   "outputs": [],
   "source": [
    "cas_open_counts['bool'] = cas_open_counts['open'].apply(lambda n : n >= str(boom['공차']))\n",
    "ju_open_counts['bool'] = ju_open_counts['open'].apply(lambda n : n >= str(boom['마라탕']))\n",
    "ung_open_counts['bool'] = ung_open_counts['open'].apply(lambda n : n >= str(boom['명랑핫도그']))\n",
    "hong_open_counts['bool'] = hong_open_counts['open'].apply(lambda n : n >= str(boom['설빙']))\n",
    "bab_open_counts['bool'] = bab_open_counts['open'].apply(lambda n : n >= str(boom['엽기떡볶이']))"
   ]
  },
  {
   "cell_type": "code",
   "execution_count": 32,
   "id": "1468829f",
   "metadata": {},
   "outputs": [],
   "source": [
    "cas_boom_after = cas_open_counts['scale'][cas_open_counts['bool']==True].reset_index(drop=True)\n",
    "ju_boom_after = ju_open_counts['scale'][ju_open_counts['bool']==True].reset_index(drop=True)\n",
    "ung_boom_after = ung_open_counts['scale'][ung_open_counts['bool']==True].reset_index(drop=True)\n",
    "hong_boom_after = hong_open_counts['scale'][hong_open_counts['bool']==True].reset_index(drop=True)\n",
    "bab_boom_after = bab_open_counts['scale'][bab_open_counts['bool']==True].reset_index(drop=True)"
   ]
  },
  {
   "cell_type": "code",
   "execution_count": 33,
   "id": "f610eb96",
   "metadata": {},
   "outputs": [],
   "source": [
    "trendy_after = cas_boom_after.add(ju_boom_after, fill_value=0).combine_first(cas_boom_after).combine_first(ju_boom_after)\n",
    "trendy_after = trendy_after.add(ung_boom_after, fill_value=0).combine_first(trendy_after).combine_first(ung_boom_after)\n",
    "trendy_after = trendy_after.add(hong_boom_after, fill_value=0).combine_first(trendy_after).combine_first(hong_boom_after)\n",
    "trendy_after = trendy_after.add(bab_boom_after, fill_value=0).combine_first(trendy_after).combine_first(bab_boom_after)"
   ]
  },
  {
   "cell_type": "code",
   "execution_count": 34,
   "id": "6f750e36",
   "metadata": {},
   "outputs": [],
   "source": [
    "trendy_after /= len(data_trendy)"
   ]
  },
  {
   "cell_type": "code",
   "execution_count": 35,
   "id": "73249b08",
   "metadata": {},
   "outputs": [],
   "source": [
    "cas_boom_before = cas_open_counts['scale'][cas_open_counts['bool']==False][::-1].reset_index(drop=True)\n",
    "ju_boom_before = ju_open_counts['scale'][ju_open_counts['bool']==False][::-1].reset_index(drop=True)\n",
    "ung_boom_before = ung_open_counts['scale'][ung_open_counts['bool']==False][::-1].reset_index(drop=True)\n",
    "hong_boom_before = hong_open_counts['scale'][hong_open_counts['bool']==False][::-1].reset_index(drop=True)\n",
    "bab_boom_before = bab_open_counts['scale'][bab_open_counts['bool']==False][::-1].reset_index(drop=True)"
   ]
  },
  {
   "cell_type": "code",
   "execution_count": 36,
   "id": "6ba77945",
   "metadata": {},
   "outputs": [],
   "source": [
    "trendy_before = cas_boom_before.add(ju_boom_before, fill_value=0).combine_first(ju_boom_before).combine_first(cas_boom_before)\n",
    "trendy_before = trendy_before.add(ung_boom_before, fill_value=0).combine_first(trendy_before).combine_first(ung_boom_before)\n",
    "trendy_before = trendy_before.add(hong_boom_before, fill_value=0).combine_first(trendy_before).combine_first(hong_boom_before)\n",
    "trendy_before = trendy_before.add(bab_boom_before, fill_value=0).combine_first(trendy_before).combine_first(bab_boom_before)"
   ]
  },
  {
   "cell_type": "code",
   "execution_count": 37,
   "id": "89118af0",
   "metadata": {},
   "outputs": [],
   "source": [
    "trendy_before = trendy_before[::-1]"
   ]
  },
  {
   "cell_type": "code",
   "execution_count": 38,
   "id": "77de6179",
   "metadata": {},
   "outputs": [],
   "source": [
    "trendy_before /= len(trendy_before)"
   ]
  },
  {
   "cell_type": "code",
   "execution_count": 39,
   "id": "378e39f9",
   "metadata": {},
   "outputs": [],
   "source": [
    "trendy = pd.concat([trendy_before, trendy_after], ignore_index=True)\n",
    "steady = pd.concat([steady_before, steady_after], ignore_index=True)"
   ]
  },
  {
   "cell_type": "code",
   "execution_count": 105,
   "id": "12413b5f",
   "metadata": {
    "scrolled": true
   },
   "outputs": [
    {
     "data": {
      "image/png": "[encoded data removed]",
      "text/plain": [
       "<Figure size 800x500 with 1 Axes>"
      ]
     },
     "metadata": {},
     "output_type": "display_data"
    }
   ],
   "source": [
    "plt.figure(figsize=(8, 5))  # 그래프 크기 설정\n",
    "plt.plot(trendy, label='Data', color='blue')  # 선 그래프 그리기\n",
    "plt.xlabel('Index')  # x축 레이블 설정\n",
    "plt.ylabel('Value')  # y축 레이블 설정\n",
    "plt.title('trendy Title')  # 그래프 제목 설정\n",
    "plt.grid(True)  # 그리드 표시\n",
    "plt.show()  # 그래프 보여주기"
   ]
  },
  {
   "cell_type": "code",
   "execution_count": 42,
   "id": "14760a1a",
   "metadata": {
    "collapsed": true
   },
   "outputs": [
    {
     "data": {
      "text/plain": [
       "0      0.009410\n",
       "1      0.004705\n",
       "2      0.004705\n",
       "3      0.018820\n",
       "4      0.023525\n",
       "         ...   \n",
       "236    0.074526\n",
       "237    0.049684\n",
       "238    0.016561\n",
       "239    0.066245\n",
       "240    0.033123\n",
       "Name: scale, Length: 241, dtype: float64"
      ]
     },
     "execution_count": 42,
     "metadata": {},
     "output_type": "execute_result"
    }
   ],
   "source": [
    "steady"
   ]
  },
  {
   "cell_type": "code",
   "execution_count": 109,
   "id": "19763195",
   "metadata": {},
   "outputs": [
    {
     "data": {
      "image/png": "[encoded data removed]",
      "text/plain": [
       "<Figure size 800x500 with 1 Axes>"
      ]
     },
     "metadata": {},
     "output_type": "display_data"
    }
   ],
   "source": [
    "plt.figure(figsize=(8, 5))  # 그래프 크기 설정\n",
    "plt.plot(steady*20, label='Data1', color='#3A6526')\n",
    "plt.plot(trendy_1, label='Data2', color='#724259') # 선 그래프 그리기\n",
    "plt.xlabel('')  # x축 레이블 설정\n",
    "plt.ylabel('')  # y축 레이블 설정\n",
    "# plt.title('steady Title')  # 그래프 제목 설정\n",
    "# plt.legend()  # 범례 표시\n",
    "plt.grid(False)  # 그리드 표시\n",
    "plt.show()  # 그래프 보여주기"
   ]
  },
  {
   "cell_type": "code",
   "execution_count": 106,
   "id": "632ac24f",
   "metadata": {},
   "outputs": [
    {
     "data": {
      "text/plain": [
       "<Figure size 640x480 with 0 Axes>"
      ]
     },
     "metadata": {},
     "output_type": "display_data"
    }
   ],
   "source": [
    "plt.savefig('steady_trendy_plot.png')"
   ]
  },
  {
   "cell_type": "code",
   "execution_count": 62,
   "id": "139d0bd1",
   "metadata": {},
   "outputs": [],
   "source": [
    "plt.show()"
   ]
  },
  {
   "cell_type": "code",
   "execution_count": 111,
   "id": "22cc5f28",
   "metadata": {},
   "outputs": [
    {
     "data": {
      "text/plain": [
       "5.050793650793651"
      ]
     },
     "execution_count": 111,
     "metadata": {},
     "output_type": "execute_result"
    }
   ],
   "source": [
    "(40/5*40+15/7*15+20/15*20 )/75"
   ]
  }
 ],
 "metadata": {
  "kernelspec": {
   "display_name": "Python 3 (ipykernel)",
   "language": "python",
   "name": "python3"
  },
  "language_info": {
   "codemirror_mode": {
    "name": "ipython",
    "version": 3
   },
   "file_extension": ".py",
   "mimetype": "text/x-python",
   "name": "python",
   "nbconvert_exporter": "python",
   "pygments_lexer": "ipython3",
   "version": "3.9.13"
  }
 },
 "nbformat": 4,
 "nbformat_minor": 5
}
